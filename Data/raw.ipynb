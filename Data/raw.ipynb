{
 "cells": [
  {
   "cell_type": "markdown",
   "metadata": {},
   "source": [
    "Data is extracted from eurostat using \"eurostat\" library, we will need to specify which table we want using it's code and the format, in our case we want a data frame from nrg_cb_gasm."
   ]
  },
  {
   "cell_type": "code",
   "execution_count": 2,
   "metadata": {},
   "outputs": [
    {
     "data": {
      "application/vnd.microsoft.datawrangler.viewer.v0+json": {
       "columns": [
        {
         "name": "index",
         "rawType": "int64",
         "type": "integer"
        },
        {
         "name": "geo\\TIME_PERIOD",
         "rawType": "object",
         "type": "string"
        },
        {
         "name": "2014-01",
         "rawType": "float64",
         "type": "float"
        },
        {
         "name": "2014-02",
         "rawType": "float64",
         "type": "float"
        },
        {
         "name": "2014-03",
         "rawType": "float64",
         "type": "float"
        },
        {
         "name": "2014-04",
         "rawType": "float64",
         "type": "float"
        },
        {
         "name": "2014-05",
         "rawType": "float64",
         "type": "float"
        },
        {
         "name": "2014-06",
         "rawType": "float64",
         "type": "float"
        },
        {
         "name": "2014-07",
         "rawType": "float64",
         "type": "float"
        },
        {
         "name": "2014-08",
         "rawType": "float64",
         "type": "float"
        },
        {
         "name": "2014-09",
         "rawType": "float64",
         "type": "float"
        },
        {
         "name": "2014-10",
         "rawType": "float64",
         "type": "float"
        },
        {
         "name": "2014-11",
         "rawType": "float64",
         "type": "float"
        },
        {
         "name": "2014-12",
         "rawType": "float64",
         "type": "float"
        },
        {
         "name": "2015-01",
         "rawType": "float64",
         "type": "float"
        },
        {
         "name": "2015-02",
         "rawType": "float64",
         "type": "float"
        },
        {
         "name": "2015-03",
         "rawType": "float64",
         "type": "float"
        },
        {
         "name": "2015-04",
         "rawType": "float64",
         "type": "float"
        },
        {
         "name": "2015-05",
         "rawType": "float64",
         "type": "float"
        },
        {
         "name": "2015-06",
         "rawType": "float64",
         "type": "float"
        },
        {
         "name": "2015-07",
         "rawType": "float64",
         "type": "float"
        },
        {
         "name": "2015-08",
         "rawType": "float64",
         "type": "float"
        },
        {
         "name": "2015-09",
         "rawType": "float64",
         "type": "float"
        },
        {
         "name": "2015-10",
         "rawType": "float64",
         "type": "float"
        },
        {
         "name": "2015-11",
         "rawType": "float64",
         "type": "float"
        },
        {
         "name": "2015-12",
         "rawType": "float64",
         "type": "float"
        },
        {
         "name": "2016-01",
         "rawType": "float64",
         "type": "float"
        },
        {
         "name": "2016-02",
         "rawType": "float64",
         "type": "float"
        },
        {
         "name": "2016-03",
         "rawType": "float64",
         "type": "float"
        },
        {
         "name": "2016-04",
         "rawType": "float64",
         "type": "float"
        },
        {
         "name": "2016-05",
         "rawType": "float64",
         "type": "float"
        },
        {
         "name": "2016-06",
         "rawType": "float64",
         "type": "float"
        },
        {
         "name": "2016-07",
         "rawType": "float64",
         "type": "float"
        },
        {
         "name": "2016-08",
         "rawType": "float64",
         "type": "float"
        },
        {
         "name": "2016-09",
         "rawType": "float64",
         "type": "float"
        },
        {
         "name": "2016-10",
         "rawType": "float64",
         "type": "float"
        },
        {
         "name": "2016-11",
         "rawType": "float64",
         "type": "float"
        },
        {
         "name": "2016-12",
         "rawType": "float64",
         "type": "float"
        },
        {
         "name": "2017-01",
         "rawType": "float64",
         "type": "float"
        },
        {
         "name": "2017-02",
         "rawType": "float64",
         "type": "float"
        },
        {
         "name": "2017-03",
         "rawType": "float64",
         "type": "float"
        },
        {
         "name": "2017-04",
         "rawType": "float64",
         "type": "float"
        },
        {
         "name": "2017-05",
         "rawType": "float64",
         "type": "float"
        },
        {
         "name": "2017-06",
         "rawType": "float64",
         "type": "float"
        },
        {
         "name": "2017-07",
         "rawType": "float64",
         "type": "float"
        },
        {
         "name": "2017-08",
         "rawType": "float64",
         "type": "float"
        },
        {
         "name": "2017-09",
         "rawType": "float64",
         "type": "float"
        },
        {
         "name": "2017-10",
         "rawType": "float64",
         "type": "float"
        },
        {
         "name": "2017-11",
         "rawType": "float64",
         "type": "float"
        },
        {
         "name": "2017-12",
         "rawType": "float64",
         "type": "float"
        },
        {
         "name": "2018-01",
         "rawType": "float64",
         "type": "float"
        },
        {
         "name": "2018-02",
         "rawType": "float64",
         "type": "float"
        },
        {
         "name": "2018-03",
         "rawType": "float64",
         "type": "float"
        },
        {
         "name": "2018-04",
         "rawType": "float64",
         "type": "float"
        },
        {
         "name": "2018-05",
         "rawType": "float64",
         "type": "float"
        },
        {
         "name": "2018-06",
         "rawType": "float64",
         "type": "float"
        },
        {
         "name": "2018-07",
         "rawType": "float64",
         "type": "float"
        },
        {
         "name": "2018-08",
         "rawType": "float64",
         "type": "float"
        },
        {
         "name": "2018-09",
         "rawType": "float64",
         "type": "float"
        },
        {
         "name": "2018-10",
         "rawType": "float64",
         "type": "float"
        },
        {
         "name": "2018-11",
         "rawType": "float64",
         "type": "float"
        },
        {
         "name": "2018-12",
         "rawType": "float64",
         "type": "float"
        },
        {
         "name": "2019-01",
         "rawType": "float64",
         "type": "float"
        },
        {
         "name": "2019-02",
         "rawType": "float64",
         "type": "float"
        },
        {
         "name": "2019-03",
         "rawType": "float64",
         "type": "float"
        },
        {
         "name": "2019-04",
         "rawType": "float64",
         "type": "float"
        },
        {
         "name": "2019-05",
         "rawType": "float64",
         "type": "float"
        },
        {
         "name": "2019-06",
         "rawType": "float64",
         "type": "float"
        },
        {
         "name": "2019-07",
         "rawType": "float64",
         "type": "float"
        },
        {
         "name": "2019-08",
         "rawType": "float64",
         "type": "float"
        },
        {
         "name": "2019-09",
         "rawType": "float64",
         "type": "float"
        },
        {
         "name": "2019-10",
         "rawType": "float64",
         "type": "float"
        },
        {
         "name": "2019-11",
         "rawType": "float64",
         "type": "float"
        },
        {
         "name": "2019-12",
         "rawType": "float64",
         "type": "float"
        },
        {
         "name": "2020-01",
         "rawType": "float64",
         "type": "float"
        },
        {
         "name": "2020-02",
         "rawType": "float64",
         "type": "float"
        },
        {
         "name": "2020-03",
         "rawType": "float64",
         "type": "float"
        },
        {
         "name": "2020-04",
         "rawType": "float64",
         "type": "float"
        },
        {
         "name": "2020-05",
         "rawType": "float64",
         "type": "float"
        },
        {
         "name": "2020-06",
         "rawType": "float64",
         "type": "float"
        },
        {
         "name": "2020-07",
         "rawType": "float64",
         "type": "float"
        },
        {
         "name": "2020-08",
         "rawType": "float64",
         "type": "float"
        },
        {
         "name": "2020-09",
         "rawType": "float64",
         "type": "float"
        },
        {
         "name": "2020-10",
         "rawType": "float64",
         "type": "float"
        },
        {
         "name": "2020-11",
         "rawType": "float64",
         "type": "float"
        },
        {
         "name": "2020-12",
         "rawType": "float64",
         "type": "float"
        },
        {
         "name": "2021-01",
         "rawType": "float64",
         "type": "float"
        },
        {
         "name": "2021-02",
         "rawType": "float64",
         "type": "float"
        },
        {
         "name": "2021-03",
         "rawType": "float64",
         "type": "float"
        },
        {
         "name": "2021-04",
         "rawType": "float64",
         "type": "float"
        },
        {
         "name": "2021-05",
         "rawType": "float64",
         "type": "float"
        },
        {
         "name": "2021-06",
         "rawType": "float64",
         "type": "float"
        },
        {
         "name": "2021-07",
         "rawType": "float64",
         "type": "float"
        },
        {
         "name": "2021-08",
         "rawType": "float64",
         "type": "float"
        },
        {
         "name": "2021-09",
         "rawType": "float64",
         "type": "float"
        },
        {
         "name": "2021-10",
         "rawType": "float64",
         "type": "float"
        },
        {
         "name": "2021-11",
         "rawType": "float64",
         "type": "float"
        },
        {
         "name": "2021-12",
         "rawType": "float64",
         "type": "float"
        },
        {
         "name": "2022-01",
         "rawType": "float64",
         "type": "float"
        },
        {
         "name": "2022-02",
         "rawType": "float64",
         "type": "float"
        },
        {
         "name": "2022-03",
         "rawType": "float64",
         "type": "float"
        },
        {
         "name": "2022-04",
         "rawType": "float64",
         "type": "float"
        },
        {
         "name": "2022-05",
         "rawType": "float64",
         "type": "float"
        },
        {
         "name": "2022-06",
         "rawType": "float64",
         "type": "float"
        },
        {
         "name": "2022-07",
         "rawType": "float64",
         "type": "float"
        },
        {
         "name": "2022-08",
         "rawType": "float64",
         "type": "float"
        },
        {
         "name": "2022-09",
         "rawType": "float64",
         "type": "float"
        },
        {
         "name": "2022-10",
         "rawType": "float64",
         "type": "float"
        },
        {
         "name": "2022-11",
         "rawType": "float64",
         "type": "float"
        },
        {
         "name": "2022-12",
         "rawType": "float64",
         "type": "float"
        },
        {
         "name": "2023-01",
         "rawType": "float64",
         "type": "float"
        },
        {
         "name": "2023-02",
         "rawType": "float64",
         "type": "float"
        },
        {
         "name": "2023-03",
         "rawType": "float64",
         "type": "float"
        },
        {
         "name": "2023-04",
         "rawType": "float64",
         "type": "float"
        },
        {
         "name": "2023-05",
         "rawType": "float64",
         "type": "float"
        },
        {
         "name": "2023-06",
         "rawType": "float64",
         "type": "float"
        },
        {
         "name": "2023-07",
         "rawType": "float64",
         "type": "float"
        },
        {
         "name": "2023-08",
         "rawType": "float64",
         "type": "float"
        },
        {
         "name": "2023-09",
         "rawType": "float64",
         "type": "float"
        },
        {
         "name": "2023-10",
         "rawType": "float64",
         "type": "float"
        },
        {
         "name": "2023-11",
         "rawType": "float64",
         "type": "float"
        },
        {
         "name": "2023-12",
         "rawType": "float64",
         "type": "float"
        },
        {
         "name": "2024-01",
         "rawType": "float64",
         "type": "float"
        },
        {
         "name": "2024-02",
         "rawType": "float64",
         "type": "float"
        },
        {
         "name": "2024-03",
         "rawType": "float64",
         "type": "float"
        },
        {
         "name": "2024-04",
         "rawType": "float64",
         "type": "float"
        },
        {
         "name": "2024-05",
         "rawType": "float64",
         "type": "float"
        },
        {
         "name": "2024-06",
         "rawType": "float64",
         "type": "float"
        },
        {
         "name": "2024-07",
         "rawType": "float64",
         "type": "float"
        },
        {
         "name": "2024-08",
         "rawType": "float64",
         "type": "float"
        },
        {
         "name": "2024-09",
         "rawType": "float64",
         "type": "float"
        },
        {
         "name": "2024-10",
         "rawType": "float64",
         "type": "float"
        },
        {
         "name": "2024-11",
         "rawType": "float64",
         "type": "float"
        },
        {
         "name": "2024-12",
         "rawType": "float64",
         "type": "float"
        },
        {
         "name": "2025-01",
         "rawType": "float64",
         "type": "float"
        }
       ],
       "conversionMethod": "pd.DataFrame",
       "ref": "5e0cf2f0-aead-4026-b596-7a1dc754b5e9",
       "rows": [
        [
         "0",
         "RO",
         "1392.0",
         "1301.0",
         "1064.0",
         "954.0",
         "777.0",
         "876.0",
         "727.0",
         "698.0",
         "737.0",
         "670.0",
         "1191.0",
         "1197.0",
         "1343.0",
         "1209.0",
         "1168.0",
         "868.0",
         "717.0",
         "694.0",
         "692.0",
         "703.0",
         "645.0",
         "876.0",
         "1056.0",
         "1258.0",
         "1391.0",
         "1112.0",
         "1059.0",
         "763.0",
         "649.0",
         "572.0",
         "602.0",
         "640.0",
         "786.0",
         "1046.0",
         "1302.0",
         "1492.0",
         "1754.0",
         "1394.0",
         "1113.0",
         "886.0",
         "692.0",
         "751.0",
         "661.0",
         "691.0",
         "712.0",
         "954.0",
         "1235.0",
         "1446.0",
         "1295.0",
         "1833.0",
         "1476.0",
         "632.0",
         "556.0",
         "557.0",
         "533.0",
         "565.0",
         "612.0",
         "843.0",
         "1309.0",
         "1761.0",
         "1860.0",
         "1445.0",
         "1162.0",
         "844.0",
         "577.0",
         "373.0",
         "499.0",
         "533.0",
         "592.0",
         "851.0",
         "1052.0",
         "1452.0",
         "1772.0",
         "1397.0",
         "1158.0",
         "787.0",
         "601.0",
         "561.0",
         "609.0",
         "614.0",
         "634.0",
         "789.0",
         "1351.0",
         "1562.0",
         "1650.0",
         "1458.0",
         "1472.0",
         "1039.0",
         "616.0",
         "526.0",
         "513.0",
         "508.0",
         "579.0",
         "956.0",
         "1209.0",
         "1543.0",
         "1591.0",
         "1263.0",
         "1247.0",
         "729.0",
         "576.0",
         "490.0",
         "455.0",
         "435.0",
         "493.0",
         "637.0",
         "965.0",
         "1309.0",
         "1295.0",
         "1300.0",
         "1004.0",
         "754.0",
         "473.0",
         "357.0",
         "423.0",
         "407.0",
         "434.0",
         "623.0",
         "1083.0",
         "1392.0",
         "1554.0",
         "1142.0",
         "1103.0",
         "541.0",
         "472.0",
         "414.0",
         "471.0",
         "433.0",
         "438.0",
         "710.0",
         "1233.0",
         "1393.0",
         "1437.0"
        ]
       ],
       "shape": {
        "columns": 134,
        "rows": 1
       }
      },
      "text/html": [
       "<div>\n",
       "<style scoped>\n",
       "    .dataframe tbody tr th:only-of-type {\n",
       "        vertical-align: middle;\n",
       "    }\n",
       "\n",
       "    .dataframe tbody tr th {\n",
       "        vertical-align: top;\n",
       "    }\n",
       "\n",
       "    .dataframe thead th {\n",
       "        text-align: right;\n",
       "    }\n",
       "</style>\n",
       "<table border=\"1\" class=\"dataframe\">\n",
       "  <thead>\n",
       "    <tr style=\"text-align: right;\">\n",
       "      <th></th>\n",
       "      <th>geo\\TIME_PERIOD</th>\n",
       "      <th>2014-01</th>\n",
       "      <th>2014-02</th>\n",
       "      <th>2014-03</th>\n",
       "      <th>2014-04</th>\n",
       "      <th>2014-05</th>\n",
       "      <th>2014-06</th>\n",
       "      <th>2014-07</th>\n",
       "      <th>2014-08</th>\n",
       "      <th>2014-09</th>\n",
       "      <th>...</th>\n",
       "      <th>2024-04</th>\n",
       "      <th>2024-05</th>\n",
       "      <th>2024-06</th>\n",
       "      <th>2024-07</th>\n",
       "      <th>2024-08</th>\n",
       "      <th>2024-09</th>\n",
       "      <th>2024-10</th>\n",
       "      <th>2024-11</th>\n",
       "      <th>2024-12</th>\n",
       "      <th>2025-01</th>\n",
       "    </tr>\n",
       "  </thead>\n",
       "  <tbody>\n",
       "    <tr>\n",
       "      <th>0</th>\n",
       "      <td>RO</td>\n",
       "      <td>1392.0</td>\n",
       "      <td>1301.0</td>\n",
       "      <td>1064.0</td>\n",
       "      <td>954.0</td>\n",
       "      <td>777.0</td>\n",
       "      <td>876.0</td>\n",
       "      <td>727.0</td>\n",
       "      <td>698.0</td>\n",
       "      <td>737.0</td>\n",
       "      <td>...</td>\n",
       "      <td>541.0</td>\n",
       "      <td>472.0</td>\n",
       "      <td>414.0</td>\n",
       "      <td>471.0</td>\n",
       "      <td>433.0</td>\n",
       "      <td>438.0</td>\n",
       "      <td>710.0</td>\n",
       "      <td>1233.0</td>\n",
       "      <td>1393.0</td>\n",
       "      <td>1437.0</td>\n",
       "    </tr>\n",
       "  </tbody>\n",
       "</table>\n",
       "<p>1 rows × 134 columns</p>\n",
       "</div>"
      ],
      "text/plain": [
       "  geo\\TIME_PERIOD  2014-01  2014-02  2014-03  2014-04  2014-05  2014-06  \\\n",
       "0              RO   1392.0   1301.0   1064.0    954.0    777.0    876.0   \n",
       "\n",
       "   2014-07  2014-08  2014-09  ...  2024-04  2024-05  2024-06  2024-07  \\\n",
       "0    727.0    698.0    737.0  ...    541.0    472.0    414.0    471.0   \n",
       "\n",
       "   2024-08  2024-09  2024-10  2024-11  2024-12  2025-01  \n",
       "0    433.0    438.0    710.0   1233.0   1393.0   1437.0  \n",
       "\n",
       "[1 rows x 134 columns]"
      ]
     },
     "execution_count": 2,
     "metadata": {},
     "output_type": "execute_result"
    }
   ],
   "source": [
    "# Extracting data from Eurostat\n",
    "# ==============================================================================\n",
    "import eurostat\n",
    "import pandas as pd\n",
    "import numpy as np\n",
    "\n",
    "my_filter_pars = {'startPeriod': 2014, 'geo': ['RO'], 'nrg_bal':['IC_CAL_MG'], 'unit':['MIO_M3']} #Filtering only relevant data\n",
    "data = eurostat.get_data_df('nrg_cb_gasm', filter_pars = my_filter_pars)\n",
    "data.drop(columns=['freq', 'nrg_bal', 'siec', 'unit'], inplace=True)\n",
    "\n",
    "\n",
    "data"
   ]
  },
  {
   "cell_type": "markdown",
   "metadata": {},
   "source": [
    "We filter and pivot the table so that we obtain a processable data frame."
   ]
  },
  {
   "cell_type": "code",
   "execution_count": 3,
   "metadata": {},
   "outputs": [
    {
     "name": "stdout",
     "output_type": "stream",
     "text": [
      "            Inland Consumption\n",
      "Date                          \n",
      "2014-01-01              1392.0\n",
      "2014-02-01              1301.0\n",
      "2014-03-01              1064.0\n",
      "2014-04-01               954.0\n",
      "2014-05-01               777.0\n",
      "...                        ...\n",
      "2024-09-01               438.0\n",
      "2024-10-01               710.0\n",
      "2024-11-01              1233.0\n",
      "2024-12-01              1393.0\n",
      "2025-01-01              1437.0\n",
      "\n",
      "[133 rows x 1 columns]\n"
     ]
    }
   ],
   "source": [
    "\n",
    "df_pivoted = data.melt(var_name='Date', value_name='Inland Consumption')\n",
    "df_pivoted.drop(index=[0], inplace=True)\n",
    "\n",
    "# Conversion\n",
    "df_pivoted[\"Date\"] = pd.to_datetime(df_pivoted[\"Date\"], format=\"%Y-%m\")\n",
    "df_pivoted[\"Inland Consumption\"] = pd.to_numeric(df_pivoted[\"Inland Consumption\"])\n",
    "\n",
    "data = df_pivoted\n",
    "\n",
    "data = data.set_index(\"Date\")\n",
    "data = data.asfreq(\"MS\") # Setting frequency to monthly\n",
    "print(data)"
   ]
  },
  {
   "cell_type": "code",
   "execution_count": null,
   "metadata": {},
   "outputs": [],
   "source": [
    "\n",
    "data.to_csv('Data/raw_data.csv')"
   ]
  },
  {
   "cell_type": "code",
   "execution_count": null,
   "metadata": {},
   "outputs": [],
   "source": []
  }
 ],
 "metadata": {
  "kernelspec": {
   "display_name": "lightgbm-icbe2025",
   "language": "python",
   "name": "python3"
  },
  "language_info": {
   "codemirror_mode": {
    "name": "ipython",
    "version": 3
   },
   "file_extension": ".py",
   "mimetype": "text/x-python",
   "name": "python",
   "nbconvert_exporter": "python",
   "pygments_lexer": "ipython3",
   "version": "3.13.2"
  }
 },
 "nbformat": 4,
 "nbformat_minor": 2
}
