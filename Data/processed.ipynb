{
 "cells": [
  {
   "cell_type": "markdown",
   "metadata": {},
   "source": [
    "## Data import"
   ]
  },
  {
   "cell_type": "markdown",
   "metadata": {},
   "source": [
    "This section will also serve as a seasonality and stationarity evaluation section, as well as analysing possible structural break analysis"
   ]
  },
  {
   "cell_type": "code",
   "execution_count": 1,
   "metadata": {},
   "outputs": [
    {
     "data": {
      "application/vnd.microsoft.datawrangler.viewer.v0+json": {
       "columns": [
        {
         "name": "Date",
         "rawType": "datetime64[ns]",
         "type": "datetime"
        },
        {
         "name": "Inland Consumption",
         "rawType": "float64",
         "type": "float"
        }
       ],
       "conversionMethod": "pd.DataFrame",
       "ref": "2bb04cf3-09cd-46e4-87ae-fd17cb035230",
       "rows": [
        [
         "2014-01-01 00:00:00",
         "1392.0"
        ],
        [
         "2014-02-01 00:00:00",
         "1301.0"
        ],
        [
         "2014-03-01 00:00:00",
         "1064.0"
        ],
        [
         "2014-04-01 00:00:00",
         "954.0"
        ],
        [
         "2014-05-01 00:00:00",
         "777.0"
        ],
        [
         "2014-06-01 00:00:00",
         "876.0"
        ],
        [
         "2014-07-01 00:00:00",
         "727.0"
        ],
        [
         "2014-08-01 00:00:00",
         "698.0"
        ],
        [
         "2014-09-01 00:00:00",
         "737.0"
        ],
        [
         "2014-10-01 00:00:00",
         "670.0"
        ],
        [
         "2014-11-01 00:00:00",
         "1191.0"
        ],
        [
         "2014-12-01 00:00:00",
         "1197.0"
        ],
        [
         "2015-01-01 00:00:00",
         "1343.0"
        ],
        [
         "2015-02-01 00:00:00",
         "1209.0"
        ],
        [
         "2015-03-01 00:00:00",
         "1168.0"
        ],
        [
         "2015-04-01 00:00:00",
         "868.0"
        ],
        [
         "2015-05-01 00:00:00",
         "717.0"
        ],
        [
         "2015-06-01 00:00:00",
         "694.0"
        ],
        [
         "2015-07-01 00:00:00",
         "692.0"
        ],
        [
         "2015-08-01 00:00:00",
         "703.0"
        ],
        [
         "2015-09-01 00:00:00",
         "645.0"
        ],
        [
         "2015-10-01 00:00:00",
         "876.0"
        ],
        [
         "2015-11-01 00:00:00",
         "1056.0"
        ],
        [
         "2015-12-01 00:00:00",
         "1258.0"
        ],
        [
         "2016-01-01 00:00:00",
         "1391.0"
        ],
        [
         "2016-02-01 00:00:00",
         "1112.0"
        ],
        [
         "2016-03-01 00:00:00",
         "1059.0"
        ],
        [
         "2016-04-01 00:00:00",
         "763.0"
        ],
        [
         "2016-05-01 00:00:00",
         "649.0"
        ],
        [
         "2016-06-01 00:00:00",
         "572.0"
        ],
        [
         "2016-07-01 00:00:00",
         "602.0"
        ],
        [
         "2016-08-01 00:00:00",
         "640.0"
        ],
        [
         "2016-09-01 00:00:00",
         "786.0"
        ],
        [
         "2016-10-01 00:00:00",
         "1046.0"
        ],
        [
         "2016-11-01 00:00:00",
         "1302.0"
        ],
        [
         "2016-12-01 00:00:00",
         "1492.0"
        ],
        [
         "2017-01-01 00:00:00",
         "1754.0"
        ],
        [
         "2017-02-01 00:00:00",
         "1394.0"
        ],
        [
         "2017-03-01 00:00:00",
         "1113.0"
        ],
        [
         "2017-04-01 00:00:00",
         "886.0"
        ],
        [
         "2017-05-01 00:00:00",
         "692.0"
        ],
        [
         "2017-06-01 00:00:00",
         "751.0"
        ],
        [
         "2017-07-01 00:00:00",
         "661.0"
        ],
        [
         "2017-08-01 00:00:00",
         "691.0"
        ],
        [
         "2017-09-01 00:00:00",
         "712.0"
        ],
        [
         "2017-10-01 00:00:00",
         "954.0"
        ],
        [
         "2017-11-01 00:00:00",
         "1235.0"
        ],
        [
         "2017-12-01 00:00:00",
         "1446.0"
        ],
        [
         "2018-01-01 00:00:00",
         "1295.0"
        ],
        [
         "2018-02-01 00:00:00",
         "1833.0"
        ]
       ],
       "shape": {
        "columns": 1,
        "rows": 133
       }
      },
      "text/html": [
       "<div>\n",
       "<style scoped>\n",
       "    .dataframe tbody tr th:only-of-type {\n",
       "        vertical-align: middle;\n",
       "    }\n",
       "\n",
       "    .dataframe tbody tr th {\n",
       "        vertical-align: top;\n",
       "    }\n",
       "\n",
       "    .dataframe thead th {\n",
       "        text-align: right;\n",
       "    }\n",
       "</style>\n",
       "<table border=\"1\" class=\"dataframe\">\n",
       "  <thead>\n",
       "    <tr style=\"text-align: right;\">\n",
       "      <th></th>\n",
       "      <th>Inland Consumption</th>\n",
       "    </tr>\n",
       "    <tr>\n",
       "      <th>Date</th>\n",
       "      <th></th>\n",
       "    </tr>\n",
       "  </thead>\n",
       "  <tbody>\n",
       "    <tr>\n",
       "      <th>2014-01-01</th>\n",
       "      <td>1392.0</td>\n",
       "    </tr>\n",
       "    <tr>\n",
       "      <th>2014-02-01</th>\n",
       "      <td>1301.0</td>\n",
       "    </tr>\n",
       "    <tr>\n",
       "      <th>2014-03-01</th>\n",
       "      <td>1064.0</td>\n",
       "    </tr>\n",
       "    <tr>\n",
       "      <th>2014-04-01</th>\n",
       "      <td>954.0</td>\n",
       "    </tr>\n",
       "    <tr>\n",
       "      <th>2014-05-01</th>\n",
       "      <td>777.0</td>\n",
       "    </tr>\n",
       "    <tr>\n",
       "      <th>...</th>\n",
       "      <td>...</td>\n",
       "    </tr>\n",
       "    <tr>\n",
       "      <th>2024-09-01</th>\n",
       "      <td>438.0</td>\n",
       "    </tr>\n",
       "    <tr>\n",
       "      <th>2024-10-01</th>\n",
       "      <td>710.0</td>\n",
       "    </tr>\n",
       "    <tr>\n",
       "      <th>2024-11-01</th>\n",
       "      <td>1233.0</td>\n",
       "    </tr>\n",
       "    <tr>\n",
       "      <th>2024-12-01</th>\n",
       "      <td>1393.0</td>\n",
       "    </tr>\n",
       "    <tr>\n",
       "      <th>2025-01-01</th>\n",
       "      <td>1437.0</td>\n",
       "    </tr>\n",
       "  </tbody>\n",
       "</table>\n",
       "<p>133 rows × 1 columns</p>\n",
       "</div>"
      ],
      "text/plain": [
       "            Inland Consumption\n",
       "Date                          \n",
       "2014-01-01              1392.0\n",
       "2014-02-01              1301.0\n",
       "2014-03-01              1064.0\n",
       "2014-04-01               954.0\n",
       "2014-05-01               777.0\n",
       "...                        ...\n",
       "2024-09-01               438.0\n",
       "2024-10-01               710.0\n",
       "2024-11-01              1233.0\n",
       "2024-12-01              1393.0\n",
       "2025-01-01              1437.0\n",
       "\n",
       "[133 rows x 1 columns]"
      ]
     },
     "execution_count": 1,
     "metadata": {},
     "output_type": "execute_result"
    }
   ],
   "source": [
    "import pandas as pd\n",
    "\n",
    "data = pd.read_csv('raw_data.csv', parse_dates=[\"Date\"])\n",
    "data[\"Date\"] = pd.to_datetime(data[\"Date\"], format=\"%Y-%m\")\n",
    "data[\"Inland Consumption\"] = pd.to_numeric(data[\"Inland Consumption\"])\n",
    "\n",
    "\n",
    "data = data.set_index(\"Date\")\n",
    "data = data.asfreq(\"MS\")\n",
    "\n",
    "data"
   ]
  },
  {
   "cell_type": "code",
   "execution_count": 2,
   "metadata": {},
   "outputs": [
    {
     "data": {
      "text/html": [
       "        <script type=\"text/javascript\">\n",
       "        window.PlotlyConfig = {MathJaxConfig: 'local'};\n",
       "        if (window.MathJax && window.MathJax.Hub && window.MathJax.Hub.Config) {window.MathJax.Hub.Config({SVG: {font: \"STIX-Web\"}});}\n",
       "        </script>\n",
       "        <script type=\"module\">import \"https://cdn.plot.ly/plotly-3.0.0.min\"</script>\n",
       "        "
      ]
     },
     "metadata": {},
     "output_type": "display_data"
    }
   ],
   "source": [
    "import plotly\n",
    "import matplotlib.pyplot as plt\n",
    "from statsmodels.graphics.tsaplots import plot_acf\n",
    "from statsmodels.graphics.tsaplots import plot_pacf\n",
    "import plotly.graph_objects as go\n",
    "from plotly.subplots import make_subplots\n",
    "import plotly.express as px\n",
    "import plotly.io as pio\n",
    "import plotly.offline as poff\n",
    "pio.templates.default = \"seaborn\"\n",
    "poff.init_notebook_mode(connected=True)\n",
    "plt.style.use('seaborn-v0_8-darkgrid')\n"
   ]
  },
  {
   "cell_type": "code",
   "execution_count": 3,
   "metadata": {},
   "outputs": [
    {
     "data": {
      "application/vnd.plotly.v1+json": {
       "config": {
        "plotlyServerURL": "https://plot.ly"
       },
       "data": [
        {
         "mode": "lines",
         "type": "scatter",
         "x": [
          "2014-01-01T00:00:00.000000000",
          "2014-02-01T00:00:00.000000000",
          "2014-03-01T00:00:00.000000000",
          "2014-04-01T00:00:00.000000000",
          "2014-05-01T00:00:00.000000000",
          "2014-06-01T00:00:00.000000000",
          "2014-07-01T00:00:00.000000000",
          "2014-08-01T00:00:00.000000000",
          "2014-09-01T00:00:00.000000000",
          "2014-10-01T00:00:00.000000000",
          "2014-11-01T00:00:00.000000000",
          "2014-12-01T00:00:00.000000000",
          "2015-01-01T00:00:00.000000000",
          "2015-02-01T00:00:00.000000000",
          "2015-03-01T00:00:00.000000000",
          "2015-04-01T00:00:00.000000000",
          "2015-05-01T00:00:00.000000000",
          "2015-06-01T00:00:00.000000000",
          "2015-07-01T00:00:00.000000000",
          "2015-08-01T00:00:00.000000000",
          "2015-09-01T00:00:00.000000000",
          "2015-10-01T00:00:00.000000000",
          "2015-11-01T00:00:00.000000000",
          "2015-12-01T00:00:00.000000000",
          "2016-01-01T00:00:00.000000000",
          "2016-02-01T00:00:00.000000000",
          "2016-03-01T00:00:00.000000000",
          "2016-04-01T00:00:00.000000000",
          "2016-05-01T00:00:00.000000000",
          "2016-06-01T00:00:00.000000000",
          "2016-07-01T00:00:00.000000000",
          "2016-08-01T00:00:00.000000000",
          "2016-09-01T00:00:00.000000000",
          "2016-10-01T00:00:00.000000000",
          "2016-11-01T00:00:00.000000000",
          "2016-12-01T00:00:00.000000000",
          "2017-01-01T00:00:00.000000000",
          "2017-02-01T00:00:00.000000000",
          "2017-03-01T00:00:00.000000000",
          "2017-04-01T00:00:00.000000000",
          "2017-05-01T00:00:00.000000000",
          "2017-06-01T00:00:00.000000000",
          "2017-07-01T00:00:00.000000000",
          "2017-08-01T00:00:00.000000000",
          "2017-09-01T00:00:00.000000000",
          "2017-10-01T00:00:00.000000000",
          "2017-11-01T00:00:00.000000000",
          "2017-12-01T00:00:00.000000000",
          "2018-01-01T00:00:00.000000000",
          "2018-02-01T00:00:00.000000000",
          "2018-03-01T00:00:00.000000000",
          "2018-04-01T00:00:00.000000000",
          "2018-05-01T00:00:00.000000000",
          "2018-06-01T00:00:00.000000000",
          "2018-07-01T00:00:00.000000000",
          "2018-08-01T00:00:00.000000000",
          "2018-09-01T00:00:00.000000000",
          "2018-10-01T00:00:00.000000000",
          "2018-11-01T00:00:00.000000000",
          "2018-12-01T00:00:00.000000000",
          "2019-01-01T00:00:00.000000000",
          "2019-02-01T00:00:00.000000000",
          "2019-03-01T00:00:00.000000000",
          "2019-04-01T00:00:00.000000000",
          "2019-05-01T00:00:00.000000000",
          "2019-06-01T00:00:00.000000000",
          "2019-07-01T00:00:00.000000000",
          "2019-08-01T00:00:00.000000000",
          "2019-09-01T00:00:00.000000000",
          "2019-10-01T00:00:00.000000000",
          "2019-11-01T00:00:00.000000000",
          "2019-12-01T00:00:00.000000000",
          "2020-01-01T00:00:00.000000000",
          "2020-02-01T00:00:00.000000000",
          "2020-03-01T00:00:00.000000000",
          "2020-04-01T00:00:00.000000000",
          "2020-05-01T00:00:00.000000000",
          "2020-06-01T00:00:00.000000000",
          "2020-07-01T00:00:00.000000000",
          "2020-08-01T00:00:00.000000000",
          "2020-09-01T00:00:00.000000000",
          "2020-10-01T00:00:00.000000000",
          "2020-11-01T00:00:00.000000000",
          "2020-12-01T00:00:00.000000000",
          "2021-01-01T00:00:00.000000000",
          "2021-02-01T00:00:00.000000000",
          "2021-03-01T00:00:00.000000000",
          "2021-04-01T00:00:00.000000000",
          "2021-05-01T00:00:00.000000000",
          "2021-06-01T00:00:00.000000000",
          "2021-07-01T00:00:00.000000000",
          "2021-08-01T00:00:00.000000000",
          "2021-09-01T00:00:00.000000000",
          "2021-10-01T00:00:00.000000000",
          "2021-11-01T00:00:00.000000000",
          "2021-12-01T00:00:00.000000000",
          "2022-01-01T00:00:00.000000000",
          "2022-02-01T00:00:00.000000000",
          "2022-03-01T00:00:00.000000000",
          "2022-04-01T00:00:00.000000000",
          "2022-05-01T00:00:00.000000000",
          "2022-06-01T00:00:00.000000000",
          "2022-07-01T00:00:00.000000000",
          "2022-08-01T00:00:00.000000000",
          "2022-09-01T00:00:00.000000000",
          "2022-10-01T00:00:00.000000000",
          "2022-11-01T00:00:00.000000000",
          "2022-12-01T00:00:00.000000000",
          "2023-01-01T00:00:00.000000000",
          "2023-02-01T00:00:00.000000000",
          "2023-03-01T00:00:00.000000000",
          "2023-04-01T00:00:00.000000000",
          "2023-05-01T00:00:00.000000000",
          "2023-06-01T00:00:00.000000000",
          "2023-07-01T00:00:00.000000000",
          "2023-08-01T00:00:00.000000000",
          "2023-09-01T00:00:00.000000000",
          "2023-10-01T00:00:00.000000000",
          "2023-11-01T00:00:00.000000000",
          "2023-12-01T00:00:00.000000000",
          "2024-01-01T00:00:00.000000000",
          "2024-02-01T00:00:00.000000000",
          "2024-03-01T00:00:00.000000000",
          "2024-04-01T00:00:00.000000000",
          "2024-05-01T00:00:00.000000000",
          "2024-06-01T00:00:00.000000000",
          "2024-07-01T00:00:00.000000000",
          "2024-08-01T00:00:00.000000000",
          "2024-09-01T00:00:00.000000000",
          "2024-10-01T00:00:00.000000000",
          "2024-11-01T00:00:00.000000000",
          "2024-12-01T00:00:00.000000000",
          "2025-01-01T00:00:00.000000000"
         ],
         "y": {
          "bdata": "AAAAAADAlUAAAAAAAFSUQAAAAAAAoJBAAAAAAADQjUAAAAAAAEiIQAAAAAAAYItAAAAAAAC4hkAAAAAAANCFQAAAAAAACIdAAAAAAADwhEAAAAAAAJySQAAAAAAAtJJAAAAAAAD8lEAAAAAAAOSSQAAAAAAAQJJAAAAAAAAgi0AAAAAAAGiGQAAAAAAAsIVAAAAAAACghUAAAAAAAPiFQAAAAAAAKIRAAAAAAABgi0AAAAAAAICQQAAAAAAAqJNAAAAAAAC8lUAAAAAAAGCRQAAAAAAAjJBAAAAAAADYh0AAAAAAAEiEQAAAAAAA4IFAAAAAAADQgkAAAAAAAACEQAAAAAAAkIhAAAAAAABYkEAAAAAAAFiUQAAAAAAAUJdAAAAAAABom0AAAAAAAMiVQAAAAAAAZJFAAAAAAACwi0AAAAAAAKCFQAAAAAAAeIdAAAAAAACohEAAAAAAAJiFQAAAAAAAQIZAAAAAAADQjUAAAAAAAEyTQAAAAAAAmJZAAAAAAAA8lEAAAAAAAKScQAAAAAAAEJdAAAAAAADAg0AAAAAAAGCBQAAAAAAAaIFAAAAAAACogEAAAAAAAKiBQAAAAAAAIINAAAAAAABYikAAAAAAAHSUQAAAAAAAhJtAAAAAAAAQnUAAAAAAAJSWQAAAAAAAKJJAAAAAAABgikAAAAAAAAiCQAAAAAAAUHdAAAAAAAAwf0AAAAAAAKiAQAAAAAAAgIJAAAAAAACYikAAAAAAAHCQQAAAAAAAsJZAAAAAAACwm0AAAAAAANSVQAAAAAAAGJJAAAAAAACYiEAAAAAAAMiCQAAAAAAAiIFAAAAAAAAIg0AAAAAAADCDQAAAAAAA0INAAAAAAACoiEAAAAAAAByVQAAAAAAAaJhAAAAAAADImUAAAAAAAMiWQAAAAAAAAJdAAAAAAAA8kEAAAAAAAECDQAAAAAAAcIBAAAAAAAAIgEAAAAAAAMB/QAAAAAAAGIJAAAAAAADgjUAAAAAAAOSSQAAAAAAAHJhAAAAAAADcmEAAAAAAALyTQAAAAAAAfJNAAAAAAADIhkAAAAAAAACCQAAAAAAAoH5AAAAAAABwfEAAAAAAADB7QAAAAAAA0H5AAAAAAADog0AAAAAAACiOQAAAAAAAdJRAAAAAAAA8lEAAAAAAAFCUQAAAAAAAYI9AAAAAAACQh0AAAAAAAJB9QAAAAAAAUHZAAAAAAABwekAAAAAAAHB5QAAAAAAAIHtAAAAAAAB4g0AAAAAAAOyQQAAAAAAAwJVAAAAAAABImEAAAAAAANiRQAAAAAAAPJFAAAAAAADogEAAAAAAAIB9QAAAAAAA4HlAAAAAAABwfUAAAAAAABB7QAAAAAAAYHtAAAAAAAAwhkAAAAAAAESTQAAAAAAAxJVAAAAAAAB0lkA=",
          "dtype": "f8"
         }
        }
       ],
       "layout": {
        "template": {
         "data": {
          "bar": [
           {
            "error_x": {
             "color": "#2a3f5f"
            },
            "error_y": {
             "color": "#2a3f5f"
            },
            "marker": {
             "line": {
              "color": "white",
              "width": 0.5
             },
             "pattern": {
              "fillmode": "overlay",
              "size": 10,
              "solidity": 0.2
             }
            },
            "type": "bar"
           }
          ],
          "barpolar": [
           {
            "marker": {
             "line": {
              "color": "white",
              "width": 0.5
             },
             "pattern": {
              "fillmode": "overlay",
              "size": 10,
              "solidity": 0.2
             }
            },
            "type": "barpolar"
           }
          ],
          "carpet": [
           {
            "aaxis": {
             "endlinecolor": "#2a3f5f",
             "gridcolor": "#C8D4E3",
             "linecolor": "#C8D4E3",
             "minorgridcolor": "#C8D4E3",
             "startlinecolor": "#2a3f5f"
            },
            "baxis": {
             "endlinecolor": "#2a3f5f",
             "gridcolor": "#C8D4E3",
             "linecolor": "#C8D4E3",
             "minorgridcolor": "#C8D4E3",
             "startlinecolor": "#2a3f5f"
            },
            "type": "carpet"
           }
          ],
          "choropleth": [
           {
            "colorbar": {
             "outlinewidth": 0,
             "ticks": ""
            },
            "type": "choropleth"
           }
          ],
          "contour": [
           {
            "colorbar": {
             "outlinewidth": 0,
             "ticks": ""
            },
            "colorscale": [
             [
              0,
              "#0d0887"
             ],
             [
              0.1111111111111111,
              "#46039f"
             ],
             [
              0.2222222222222222,
              "#7201a8"
             ],
             [
              0.3333333333333333,
              "#9c179e"
             ],
             [
              0.4444444444444444,
              "#bd3786"
             ],
             [
              0.5555555555555556,
              "#d8576b"
             ],
             [
              0.6666666666666666,
              "#ed7953"
             ],
             [
              0.7777777777777778,
              "#fb9f3a"
             ],
             [
              0.8888888888888888,
              "#fdca26"
             ],
             [
              1,
              "#f0f921"
             ]
            ],
            "type": "contour"
           }
          ],
          "contourcarpet": [
           {
            "colorbar": {
             "outlinewidth": 0,
             "ticks": ""
            },
            "type": "contourcarpet"
           }
          ],
          "heatmap": [
           {
            "colorbar": {
             "outlinewidth": 0,
             "ticks": ""
            },
            "colorscale": [
             [
              0,
              "#0d0887"
             ],
             [
              0.1111111111111111,
              "#46039f"
             ],
             [
              0.2222222222222222,
              "#7201a8"
             ],
             [
              0.3333333333333333,
              "#9c179e"
             ],
             [
              0.4444444444444444,
              "#bd3786"
             ],
             [
              0.5555555555555556,
              "#d8576b"
             ],
             [
              0.6666666666666666,
              "#ed7953"
             ],
             [
              0.7777777777777778,
              "#fb9f3a"
             ],
             [
              0.8888888888888888,
              "#fdca26"
             ],
             [
              1,
              "#f0f921"
             ]
            ],
            "type": "heatmap"
           }
          ],
          "histogram": [
           {
            "marker": {
             "pattern": {
              "fillmode": "overlay",
              "size": 10,
              "solidity": 0.2
             }
            },
            "type": "histogram"
           }
          ],
          "histogram2d": [
           {
            "colorbar": {
             "outlinewidth": 0,
             "ticks": ""
            },
            "colorscale": [
             [
              0,
              "#0d0887"
             ],
             [
              0.1111111111111111,
              "#46039f"
             ],
             [
              0.2222222222222222,
              "#7201a8"
             ],
             [
              0.3333333333333333,
              "#9c179e"
             ],
             [
              0.4444444444444444,
              "#bd3786"
             ],
             [
              0.5555555555555556,
              "#d8576b"
             ],
             [
              0.6666666666666666,
              "#ed7953"
             ],
             [
              0.7777777777777778,
              "#fb9f3a"
             ],
             [
              0.8888888888888888,
              "#fdca26"
             ],
             [
              1,
              "#f0f921"
             ]
            ],
            "type": "histogram2d"
           }
          ],
          "histogram2dcontour": [
           {
            "colorbar": {
             "outlinewidth": 0,
             "ticks": ""
            },
            "colorscale": [
             [
              0,
              "#0d0887"
             ],
             [
              0.1111111111111111,
              "#46039f"
             ],
             [
              0.2222222222222222,
              "#7201a8"
             ],
             [
              0.3333333333333333,
              "#9c179e"
             ],
             [
              0.4444444444444444,
              "#bd3786"
             ],
             [
              0.5555555555555556,
              "#d8576b"
             ],
             [
              0.6666666666666666,
              "#ed7953"
             ],
             [
              0.7777777777777778,
              "#fb9f3a"
             ],
             [
              0.8888888888888888,
              "#fdca26"
             ],
             [
              1,
              "#f0f921"
             ]
            ],
            "type": "histogram2dcontour"
           }
          ],
          "mesh3d": [
           {
            "colorbar": {
             "outlinewidth": 0,
             "ticks": ""
            },
            "type": "mesh3d"
           }
          ],
          "parcoords": [
           {
            "line": {
             "colorbar": {
              "outlinewidth": 0,
              "ticks": ""
             }
            },
            "type": "parcoords"
           }
          ],
          "pie": [
           {
            "automargin": true,
            "type": "pie"
           }
          ],
          "scatter": [
           {
            "fillpattern": {
             "fillmode": "overlay",
             "size": 10,
             "solidity": 0.2
            },
            "type": "scatter"
           }
          ],
          "scatter3d": [
           {
            "line": {
             "colorbar": {
              "outlinewidth": 0,
              "ticks": ""
             }
            },
            "marker": {
             "colorbar": {
              "outlinewidth": 0,
              "ticks": ""
             }
            },
            "type": "scatter3d"
           }
          ],
          "scattercarpet": [
           {
            "marker": {
             "colorbar": {
              "outlinewidth": 0,
              "ticks": ""
             }
            },
            "type": "scattercarpet"
           }
          ],
          "scattergeo": [
           {
            "marker": {
             "colorbar": {
              "outlinewidth": 0,
              "ticks": ""
             }
            },
            "type": "scattergeo"
           }
          ],
          "scattergl": [
           {
            "marker": {
             "colorbar": {
              "outlinewidth": 0,
              "ticks": ""
             }
            },
            "type": "scattergl"
           }
          ],
          "scattermap": [
           {
            "marker": {
             "colorbar": {
              "outlinewidth": 0,
              "ticks": ""
             }
            },
            "type": "scattermap"
           }
          ],
          "scattermapbox": [
           {
            "marker": {
             "colorbar": {
              "outlinewidth": 0,
              "ticks": ""
             }
            },
            "type": "scattermapbox"
           }
          ],
          "scatterpolar": [
           {
            "marker": {
             "colorbar": {
              "outlinewidth": 0,
              "ticks": ""
             }
            },
            "type": "scatterpolar"
           }
          ],
          "scatterpolargl": [
           {
            "marker": {
             "colorbar": {
              "outlinewidth": 0,
              "ticks": ""
             }
            },
            "type": "scatterpolargl"
           }
          ],
          "scatterternary": [
           {
            "marker": {
             "colorbar": {
              "outlinewidth": 0,
              "ticks": ""
             }
            },
            "type": "scatterternary"
           }
          ],
          "surface": [
           {
            "colorbar": {
             "outlinewidth": 0,
             "ticks": ""
            },
            "colorscale": [
             [
              0,
              "#0d0887"
             ],
             [
              0.1111111111111111,
              "#46039f"
             ],
             [
              0.2222222222222222,
              "#7201a8"
             ],
             [
              0.3333333333333333,
              "#9c179e"
             ],
             [
              0.4444444444444444,
              "#bd3786"
             ],
             [
              0.5555555555555556,
              "#d8576b"
             ],
             [
              0.6666666666666666,
              "#ed7953"
             ],
             [
              0.7777777777777778,
              "#fb9f3a"
             ],
             [
              0.8888888888888888,
              "#fdca26"
             ],
             [
              1,
              "#f0f921"
             ]
            ],
            "type": "surface"
           }
          ],
          "table": [
           {
            "cells": {
             "fill": {
              "color": "#EBF0F8"
             },
             "line": {
              "color": "white"
             }
            },
            "header": {
             "fill": {
              "color": "#C8D4E3"
             },
             "line": {
              "color": "white"
             }
            },
            "type": "table"
           }
          ]
         },
         "layout": {
          "annotationdefaults": {
           "arrowcolor": "#2a3f5f",
           "arrowhead": 0,
           "arrowwidth": 1
          },
          "autotypenumbers": "strict",
          "coloraxis": {
           "colorbar": {
            "outlinewidth": 0,
            "ticks": ""
           }
          },
          "colorscale": {
           "diverging": [
            [
             0,
             "#8e0152"
            ],
            [
             0.1,
             "#c51b7d"
            ],
            [
             0.2,
             "#de77ae"
            ],
            [
             0.3,
             "#f1b6da"
            ],
            [
             0.4,
             "#fde0ef"
            ],
            [
             0.5,
             "#f7f7f7"
            ],
            [
             0.6,
             "#e6f5d0"
            ],
            [
             0.7,
             "#b8e186"
            ],
            [
             0.8,
             "#7fbc41"
            ],
            [
             0.9,
             "#4d9221"
            ],
            [
             1,
             "#276419"
            ]
           ],
           "sequential": [
            [
             0,
             "#0d0887"
            ],
            [
             0.1111111111111111,
             "#46039f"
            ],
            [
             0.2222222222222222,
             "#7201a8"
            ],
            [
             0.3333333333333333,
             "#9c179e"
            ],
            [
             0.4444444444444444,
             "#bd3786"
            ],
            [
             0.5555555555555556,
             "#d8576b"
            ],
            [
             0.6666666666666666,
             "#ed7953"
            ],
            [
             0.7777777777777778,
             "#fb9f3a"
            ],
            [
             0.8888888888888888,
             "#fdca26"
            ],
            [
             1,
             "#f0f921"
            ]
           ],
           "sequentialminus": [
            [
             0,
             "#0d0887"
            ],
            [
             0.1111111111111111,
             "#46039f"
            ],
            [
             0.2222222222222222,
             "#7201a8"
            ],
            [
             0.3333333333333333,
             "#9c179e"
            ],
            [
             0.4444444444444444,
             "#bd3786"
            ],
            [
             0.5555555555555556,
             "#d8576b"
            ],
            [
             0.6666666666666666,
             "#ed7953"
            ],
            [
             0.7777777777777778,
             "#fb9f3a"
            ],
            [
             0.8888888888888888,
             "#fdca26"
            ],
            [
             1,
             "#f0f921"
            ]
           ]
          },
          "colorway": [
           "#636efa",
           "#EF553B",
           "#00cc96",
           "#ab63fa",
           "#FFA15A",
           "#19d3f3",
           "#FF6692",
           "#B6E880",
           "#FF97FF",
           "#FECB52"
          ],
          "font": {
           "color": "#2a3f5f"
          },
          "geo": {
           "bgcolor": "white",
           "lakecolor": "white",
           "landcolor": "white",
           "showlakes": true,
           "showland": true,
           "subunitcolor": "#C8D4E3"
          },
          "hoverlabel": {
           "align": "left"
          },
          "hovermode": "closest",
          "mapbox": {
           "style": "light"
          },
          "paper_bgcolor": "white",
          "plot_bgcolor": "white",
          "polar": {
           "angularaxis": {
            "gridcolor": "#EBF0F8",
            "linecolor": "#EBF0F8",
            "ticks": ""
           },
           "bgcolor": "white",
           "radialaxis": {
            "gridcolor": "#EBF0F8",
            "linecolor": "#EBF0F8",
            "ticks": ""
           }
          },
          "scene": {
           "xaxis": {
            "backgroundcolor": "white",
            "gridcolor": "#DFE8F3",
            "gridwidth": 2,
            "linecolor": "#EBF0F8",
            "showbackground": true,
            "ticks": "",
            "zerolinecolor": "#EBF0F8"
           },
           "yaxis": {
            "backgroundcolor": "white",
            "gridcolor": "#DFE8F3",
            "gridwidth": 2,
            "linecolor": "#EBF0F8",
            "showbackground": true,
            "ticks": "",
            "zerolinecolor": "#EBF0F8"
           },
           "zaxis": {
            "backgroundcolor": "white",
            "gridcolor": "#DFE8F3",
            "gridwidth": 2,
            "linecolor": "#EBF0F8",
            "showbackground": true,
            "ticks": "",
            "zerolinecolor": "#EBF0F8"
           }
          },
          "shapedefaults": {
           "line": {
            "color": "#2a3f5f"
           }
          },
          "ternary": {
           "aaxis": {
            "gridcolor": "#DFE8F3",
            "linecolor": "#A2B1C6",
            "ticks": ""
           },
           "baxis": {
            "gridcolor": "#DFE8F3",
            "linecolor": "#A2B1C6",
            "ticks": ""
           },
           "bgcolor": "white",
           "caxis": {
            "gridcolor": "#DFE8F3",
            "linecolor": "#A2B1C6",
            "ticks": ""
           }
          },
          "title": {
           "x": 0.05
          },
          "xaxis": {
           "automargin": true,
           "gridcolor": "#EBF0F8",
           "linecolor": "#EBF0F8",
           "ticks": "",
           "title": {
            "standoff": 15
           },
           "zerolinecolor": "#EBF0F8",
           "zerolinewidth": 2
          },
          "yaxis": {
           "automargin": true,
           "gridcolor": "#EBF0F8",
           "linecolor": "#EBF0F8",
           "ticks": "",
           "title": {
            "standoff": 15
           },
           "zerolinecolor": "#EBF0F8",
           "zerolinewidth": 2
          }
         }
        },
        "title": {
         "text": "Romania's Inland Gas Consumption",
         "x": 0.5
        },
        "xaxis": {
         "title": {
          "text": "Date"
         }
        },
        "yaxis": {
         "title": {
          "text": "Million cubic meters"
         }
        }
       }
      },
      "text/html": [
       "<div>            <script src=\"https://cdnjs.cloudflare.com/ajax/libs/mathjax/2.7.5/MathJax.js?config=TeX-AMS-MML_SVG\"></script><script type=\"text/javascript\">if (window.MathJax && window.MathJax.Hub && window.MathJax.Hub.Config) {window.MathJax.Hub.Config({SVG: {font: \"STIX-Web\"}});}</script>                <script type=\"text/javascript\">window.PlotlyConfig = {MathJaxConfig: 'local'};</script>\n",
       "        <script charset=\"utf-8\" src=\"https://cdn.plot.ly/plotly-3.0.0.min.js\"></script>                <div id=\"693e6b9a-eb86-4e71-89da-0bb784c978dd\" class=\"plotly-graph-div\" style=\"height:525px; width:100%;\"></div>            <script type=\"text/javascript\">                window.PLOTLYENV=window.PLOTLYENV || {};                                if (document.getElementById(\"693e6b9a-eb86-4e71-89da-0bb784c978dd\")) {                    Plotly.newPlot(                        \"693e6b9a-eb86-4e71-89da-0bb784c978dd\",                        [{\"mode\":\"lines\",\"x\":[\"2014-01-01T00:00:00.000000000\",\"2014-02-01T00:00:00.000000000\",\"2014-03-01T00:00:00.000000000\",\"2014-04-01T00:00:00.000000000\",\"2014-05-01T00:00:00.000000000\",\"2014-06-01T00:00:00.000000000\",\"2014-07-01T00:00:00.000000000\",\"2014-08-01T00:00:00.000000000\",\"2014-09-01T00:00:00.000000000\",\"2014-10-01T00:00:00.000000000\",\"2014-11-01T00:00:00.000000000\",\"2014-12-01T00:00:00.000000000\",\"2015-01-01T00:00:00.000000000\",\"2015-02-01T00:00:00.000000000\",\"2015-03-01T00:00:00.000000000\",\"2015-04-01T00:00:00.000000000\",\"2015-05-01T00:00:00.000000000\",\"2015-06-01T00:00:00.000000000\",\"2015-07-01T00:00:00.000000000\",\"2015-08-01T00:00:00.000000000\",\"2015-09-01T00:00:00.000000000\",\"2015-10-01T00:00:00.000000000\",\"2015-11-01T00:00:00.000000000\",\"2015-12-01T00:00:00.000000000\",\"2016-01-01T00:00:00.000000000\",\"2016-02-01T00:00:00.000000000\",\"2016-03-01T00:00:00.000000000\",\"2016-04-01T00:00:00.000000000\",\"2016-05-01T00:00:00.000000000\",\"2016-06-01T00:00:00.000000000\",\"2016-07-01T00:00:00.000000000\",\"2016-08-01T00:00:00.000000000\",\"2016-09-01T00:00:00.000000000\",\"2016-10-01T00:00:00.000000000\",\"2016-11-01T00:00:00.000000000\",\"2016-12-01T00:00:00.000000000\",\"2017-01-01T00:00:00.000000000\",\"2017-02-01T00:00:00.000000000\",\"2017-03-01T00:00:00.000000000\",\"2017-04-01T00:00:00.000000000\",\"2017-05-01T00:00:00.000000000\",\"2017-06-01T00:00:00.000000000\",\"2017-07-01T00:00:00.000000000\",\"2017-08-01T00:00:00.000000000\",\"2017-09-01T00:00:00.000000000\",\"2017-10-01T00:00:00.000000000\",\"2017-11-01T00:00:00.000000000\",\"2017-12-01T00:00:00.000000000\",\"2018-01-01T00:00:00.000000000\",\"2018-02-01T00:00:00.000000000\",\"2018-03-01T00:00:00.000000000\",\"2018-04-01T00:00:00.000000000\",\"2018-05-01T00:00:00.000000000\",\"2018-06-01T00:00:00.000000000\",\"2018-07-01T00:00:00.000000000\",\"2018-08-01T00:00:00.000000000\",\"2018-09-01T00:00:00.000000000\",\"2018-10-01T00:00:00.000000000\",\"2018-11-01T00:00:00.000000000\",\"2018-12-01T00:00:00.000000000\",\"2019-01-01T00:00:00.000000000\",\"2019-02-01T00:00:00.000000000\",\"2019-03-01T00:00:00.000000000\",\"2019-04-01T00:00:00.000000000\",\"2019-05-01T00:00:00.000000000\",\"2019-06-01T00:00:00.000000000\",\"2019-07-01T00:00:00.000000000\",\"2019-08-01T00:00:00.000000000\",\"2019-09-01T00:00:00.000000000\",\"2019-10-01T00:00:00.000000000\",\"2019-11-01T00:00:00.000000000\",\"2019-12-01T00:00:00.000000000\",\"2020-01-01T00:00:00.000000000\",\"2020-02-01T00:00:00.000000000\",\"2020-03-01T00:00:00.000000000\",\"2020-04-01T00:00:00.000000000\",\"2020-05-01T00:00:00.000000000\",\"2020-06-01T00:00:00.000000000\",\"2020-07-01T00:00:00.000000000\",\"2020-08-01T00:00:00.000000000\",\"2020-09-01T00:00:00.000000000\",\"2020-10-01T00:00:00.000000000\",\"2020-11-01T00:00:00.000000000\",\"2020-12-01T00:00:00.000000000\",\"2021-01-01T00:00:00.000000000\",\"2021-02-01T00:00:00.000000000\",\"2021-03-01T00:00:00.000000000\",\"2021-04-01T00:00:00.000000000\",\"2021-05-01T00:00:00.000000000\",\"2021-06-01T00:00:00.000000000\",\"2021-07-01T00:00:00.000000000\",\"2021-08-01T00:00:00.000000000\",\"2021-09-01T00:00:00.000000000\",\"2021-10-01T00:00:00.000000000\",\"2021-11-01T00:00:00.000000000\",\"2021-12-01T00:00:00.000000000\",\"2022-01-01T00:00:00.000000000\",\"2022-02-01T00:00:00.000000000\",\"2022-03-01T00:00:00.000000000\",\"2022-04-01T00:00:00.000000000\",\"2022-05-01T00:00:00.000000000\",\"2022-06-01T00:00:00.000000000\",\"2022-07-01T00:00:00.000000000\",\"2022-08-01T00:00:00.000000000\",\"2022-09-01T00:00:00.000000000\",\"2022-10-01T00:00:00.000000000\",\"2022-11-01T00:00:00.000000000\",\"2022-12-01T00:00:00.000000000\",\"2023-01-01T00:00:00.000000000\",\"2023-02-01T00:00:00.000000000\",\"2023-03-01T00:00:00.000000000\",\"2023-04-01T00:00:00.000000000\",\"2023-05-01T00:00:00.000000000\",\"2023-06-01T00:00:00.000000000\",\"2023-07-01T00:00:00.000000000\",\"2023-08-01T00:00:00.000000000\",\"2023-09-01T00:00:00.000000000\",\"2023-10-01T00:00:00.000000000\",\"2023-11-01T00:00:00.000000000\",\"2023-12-01T00:00:00.000000000\",\"2024-01-01T00:00:00.000000000\",\"2024-02-01T00:00:00.000000000\",\"2024-03-01T00:00:00.000000000\",\"2024-04-01T00:00:00.000000000\",\"2024-05-01T00:00:00.000000000\",\"2024-06-01T00:00:00.000000000\",\"2024-07-01T00:00:00.000000000\",\"2024-08-01T00:00:00.000000000\",\"2024-09-01T00:00:00.000000000\",\"2024-10-01T00:00:00.000000000\",\"2024-11-01T00:00:00.000000000\",\"2024-12-01T00:00:00.000000000\",\"2025-01-01T00:00:00.000000000\"],\"y\":{\"dtype\":\"f8\",\"bdata\":\"AAAAAADAlUAAAAAAAFSUQAAAAAAAoJBAAAAAAADQjUAAAAAAAEiIQAAAAAAAYItAAAAAAAC4hkAAAAAAANCFQAAAAAAACIdAAAAAAADwhEAAAAAAAJySQAAAAAAAtJJAAAAAAAD8lEAAAAAAAOSSQAAAAAAAQJJAAAAAAAAgi0AAAAAAAGiGQAAAAAAAsIVAAAAAAACghUAAAAAAAPiFQAAAAAAAKIRAAAAAAABgi0AAAAAAAICQQAAAAAAAqJNAAAAAAAC8lUAAAAAAAGCRQAAAAAAAjJBAAAAAAADYh0AAAAAAAEiEQAAAAAAA4IFAAAAAAADQgkAAAAAAAACEQAAAAAAAkIhAAAAAAABYkEAAAAAAAFiUQAAAAAAAUJdAAAAAAABom0AAAAAAAMiVQAAAAAAAZJFAAAAAAACwi0AAAAAAAKCFQAAAAAAAeIdAAAAAAACohEAAAAAAAJiFQAAAAAAAQIZAAAAAAADQjUAAAAAAAEyTQAAAAAAAmJZAAAAAAAA8lEAAAAAAAKScQAAAAAAAEJdAAAAAAADAg0AAAAAAAGCBQAAAAAAAaIFAAAAAAACogEAAAAAAAKiBQAAAAAAAIINAAAAAAABYikAAAAAAAHSUQAAAAAAAhJtAAAAAAAAQnUAAAAAAAJSWQAAAAAAAKJJAAAAAAABgikAAAAAAAAiCQAAAAAAAUHdAAAAAAAAwf0AAAAAAAKiAQAAAAAAAgIJAAAAAAACYikAAAAAAAHCQQAAAAAAAsJZAAAAAAACwm0AAAAAAANSVQAAAAAAAGJJAAAAAAACYiEAAAAAAAMiCQAAAAAAAiIFAAAAAAAAIg0AAAAAAADCDQAAAAAAA0INAAAAAAACoiEAAAAAAAByVQAAAAAAAaJhAAAAAAADImUAAAAAAAMiWQAAAAAAAAJdAAAAAAAA8kEAAAAAAAECDQAAAAAAAcIBAAAAAAAAIgEAAAAAAAMB\\u002fQAAAAAAAGIJAAAAAAADgjUAAAAAAAOSSQAAAAAAAHJhAAAAAAADcmEAAAAAAALyTQAAAAAAAfJNAAAAAAADIhkAAAAAAAACCQAAAAAAAoH5AAAAAAABwfEAAAAAAADB7QAAAAAAA0H5AAAAAAADog0AAAAAAACiOQAAAAAAAdJRAAAAAAAA8lEAAAAAAAFCUQAAAAAAAYI9AAAAAAACQh0AAAAAAAJB9QAAAAAAAUHZAAAAAAABwekAAAAAAAHB5QAAAAAAAIHtAAAAAAAB4g0AAAAAAAOyQQAAAAAAAwJVAAAAAAABImEAAAAAAANiRQAAAAAAAPJFAAAAAAADogEAAAAAAAIB9QAAAAAAA4HlAAAAAAABwfUAAAAAAABB7QAAAAAAAYHtAAAAAAAAwhkAAAAAAAESTQAAAAAAAxJVAAAAAAAB0lkA=\"},\"type\":\"scatter\"}],                        {\"template\":{\"data\":{\"barpolar\":[{\"marker\":{\"line\":{\"color\":\"white\",\"width\":0.5},\"pattern\":{\"fillmode\":\"overlay\",\"size\":10,\"solidity\":0.2}},\"type\":\"barpolar\"}],\"bar\":[{\"error_x\":{\"color\":\"#2a3f5f\"},\"error_y\":{\"color\":\"#2a3f5f\"},\"marker\":{\"line\":{\"color\":\"white\",\"width\":0.5},\"pattern\":{\"fillmode\":\"overlay\",\"size\":10,\"solidity\":0.2}},\"type\":\"bar\"}],\"carpet\":[{\"aaxis\":{\"endlinecolor\":\"#2a3f5f\",\"gridcolor\":\"#C8D4E3\",\"linecolor\":\"#C8D4E3\",\"minorgridcolor\":\"#C8D4E3\",\"startlinecolor\":\"#2a3f5f\"},\"baxis\":{\"endlinecolor\":\"#2a3f5f\",\"gridcolor\":\"#C8D4E3\",\"linecolor\":\"#C8D4E3\",\"minorgridcolor\":\"#C8D4E3\",\"startlinecolor\":\"#2a3f5f\"},\"type\":\"carpet\"}],\"choropleth\":[{\"colorbar\":{\"outlinewidth\":0,\"ticks\":\"\"},\"type\":\"choropleth\"}],\"contourcarpet\":[{\"colorbar\":{\"outlinewidth\":0,\"ticks\":\"\"},\"type\":\"contourcarpet\"}],\"contour\":[{\"colorbar\":{\"outlinewidth\":0,\"ticks\":\"\"},\"colorscale\":[[0.0,\"#0d0887\"],[0.1111111111111111,\"#46039f\"],[0.2222222222222222,\"#7201a8\"],[0.3333333333333333,\"#9c179e\"],[0.4444444444444444,\"#bd3786\"],[0.5555555555555556,\"#d8576b\"],[0.6666666666666666,\"#ed7953\"],[0.7777777777777778,\"#fb9f3a\"],[0.8888888888888888,\"#fdca26\"],[1.0,\"#f0f921\"]],\"type\":\"contour\"}],\"heatmap\":[{\"colorbar\":{\"outlinewidth\":0,\"ticks\":\"\"},\"colorscale\":[[0.0,\"#0d0887\"],[0.1111111111111111,\"#46039f\"],[0.2222222222222222,\"#7201a8\"],[0.3333333333333333,\"#9c179e\"],[0.4444444444444444,\"#bd3786\"],[0.5555555555555556,\"#d8576b\"],[0.6666666666666666,\"#ed7953\"],[0.7777777777777778,\"#fb9f3a\"],[0.8888888888888888,\"#fdca26\"],[1.0,\"#f0f921\"]],\"type\":\"heatmap\"}],\"histogram2dcontour\":[{\"colorbar\":{\"outlinewidth\":0,\"ticks\":\"\"},\"colorscale\":[[0.0,\"#0d0887\"],[0.1111111111111111,\"#46039f\"],[0.2222222222222222,\"#7201a8\"],[0.3333333333333333,\"#9c179e\"],[0.4444444444444444,\"#bd3786\"],[0.5555555555555556,\"#d8576b\"],[0.6666666666666666,\"#ed7953\"],[0.7777777777777778,\"#fb9f3a\"],[0.8888888888888888,\"#fdca26\"],[1.0,\"#f0f921\"]],\"type\":\"histogram2dcontour\"}],\"histogram2d\":[{\"colorbar\":{\"outlinewidth\":0,\"ticks\":\"\"},\"colorscale\":[[0.0,\"#0d0887\"],[0.1111111111111111,\"#46039f\"],[0.2222222222222222,\"#7201a8\"],[0.3333333333333333,\"#9c179e\"],[0.4444444444444444,\"#bd3786\"],[0.5555555555555556,\"#d8576b\"],[0.6666666666666666,\"#ed7953\"],[0.7777777777777778,\"#fb9f3a\"],[0.8888888888888888,\"#fdca26\"],[1.0,\"#f0f921\"]],\"type\":\"histogram2d\"}],\"histogram\":[{\"marker\":{\"pattern\":{\"fillmode\":\"overlay\",\"size\":10,\"solidity\":0.2}},\"type\":\"histogram\"}],\"mesh3d\":[{\"colorbar\":{\"outlinewidth\":0,\"ticks\":\"\"},\"type\":\"mesh3d\"}],\"parcoords\":[{\"line\":{\"colorbar\":{\"outlinewidth\":0,\"ticks\":\"\"}},\"type\":\"parcoords\"}],\"pie\":[{\"automargin\":true,\"type\":\"pie\"}],\"scatter3d\":[{\"line\":{\"colorbar\":{\"outlinewidth\":0,\"ticks\":\"\"}},\"marker\":{\"colorbar\":{\"outlinewidth\":0,\"ticks\":\"\"}},\"type\":\"scatter3d\"}],\"scattercarpet\":[{\"marker\":{\"colorbar\":{\"outlinewidth\":0,\"ticks\":\"\"}},\"type\":\"scattercarpet\"}],\"scattergeo\":[{\"marker\":{\"colorbar\":{\"outlinewidth\":0,\"ticks\":\"\"}},\"type\":\"scattergeo\"}],\"scattergl\":[{\"marker\":{\"colorbar\":{\"outlinewidth\":0,\"ticks\":\"\"}},\"type\":\"scattergl\"}],\"scattermapbox\":[{\"marker\":{\"colorbar\":{\"outlinewidth\":0,\"ticks\":\"\"}},\"type\":\"scattermapbox\"}],\"scattermap\":[{\"marker\":{\"colorbar\":{\"outlinewidth\":0,\"ticks\":\"\"}},\"type\":\"scattermap\"}],\"scatterpolargl\":[{\"marker\":{\"colorbar\":{\"outlinewidth\":0,\"ticks\":\"\"}},\"type\":\"scatterpolargl\"}],\"scatterpolar\":[{\"marker\":{\"colorbar\":{\"outlinewidth\":0,\"ticks\":\"\"}},\"type\":\"scatterpolar\"}],\"scatter\":[{\"fillpattern\":{\"fillmode\":\"overlay\",\"size\":10,\"solidity\":0.2},\"type\":\"scatter\"}],\"scatterternary\":[{\"marker\":{\"colorbar\":{\"outlinewidth\":0,\"ticks\":\"\"}},\"type\":\"scatterternary\"}],\"surface\":[{\"colorbar\":{\"outlinewidth\":0,\"ticks\":\"\"},\"colorscale\":[[0.0,\"#0d0887\"],[0.1111111111111111,\"#46039f\"],[0.2222222222222222,\"#7201a8\"],[0.3333333333333333,\"#9c179e\"],[0.4444444444444444,\"#bd3786\"],[0.5555555555555556,\"#d8576b\"],[0.6666666666666666,\"#ed7953\"],[0.7777777777777778,\"#fb9f3a\"],[0.8888888888888888,\"#fdca26\"],[1.0,\"#f0f921\"]],\"type\":\"surface\"}],\"table\":[{\"cells\":{\"fill\":{\"color\":\"#EBF0F8\"},\"line\":{\"color\":\"white\"}},\"header\":{\"fill\":{\"color\":\"#C8D4E3\"},\"line\":{\"color\":\"white\"}},\"type\":\"table\"}]},\"layout\":{\"annotationdefaults\":{\"arrowcolor\":\"#2a3f5f\",\"arrowhead\":0,\"arrowwidth\":1},\"autotypenumbers\":\"strict\",\"coloraxis\":{\"colorbar\":{\"outlinewidth\":0,\"ticks\":\"\"}},\"colorscale\":{\"diverging\":[[0,\"#8e0152\"],[0.1,\"#c51b7d\"],[0.2,\"#de77ae\"],[0.3,\"#f1b6da\"],[0.4,\"#fde0ef\"],[0.5,\"#f7f7f7\"],[0.6,\"#e6f5d0\"],[0.7,\"#b8e186\"],[0.8,\"#7fbc41\"],[0.9,\"#4d9221\"],[1,\"#276419\"]],\"sequential\":[[0.0,\"#0d0887\"],[0.1111111111111111,\"#46039f\"],[0.2222222222222222,\"#7201a8\"],[0.3333333333333333,\"#9c179e\"],[0.4444444444444444,\"#bd3786\"],[0.5555555555555556,\"#d8576b\"],[0.6666666666666666,\"#ed7953\"],[0.7777777777777778,\"#fb9f3a\"],[0.8888888888888888,\"#fdca26\"],[1.0,\"#f0f921\"]],\"sequentialminus\":[[0.0,\"#0d0887\"],[0.1111111111111111,\"#46039f\"],[0.2222222222222222,\"#7201a8\"],[0.3333333333333333,\"#9c179e\"],[0.4444444444444444,\"#bd3786\"],[0.5555555555555556,\"#d8576b\"],[0.6666666666666666,\"#ed7953\"],[0.7777777777777778,\"#fb9f3a\"],[0.8888888888888888,\"#fdca26\"],[1.0,\"#f0f921\"]]},\"colorway\":[\"#636efa\",\"#EF553B\",\"#00cc96\",\"#ab63fa\",\"#FFA15A\",\"#19d3f3\",\"#FF6692\",\"#B6E880\",\"#FF97FF\",\"#FECB52\"],\"font\":{\"color\":\"#2a3f5f\"},\"geo\":{\"bgcolor\":\"white\",\"lakecolor\":\"white\",\"landcolor\":\"white\",\"showlakes\":true,\"showland\":true,\"subunitcolor\":\"#C8D4E3\"},\"hoverlabel\":{\"align\":\"left\"},\"hovermode\":\"closest\",\"mapbox\":{\"style\":\"light\"},\"paper_bgcolor\":\"white\",\"plot_bgcolor\":\"white\",\"polar\":{\"angularaxis\":{\"gridcolor\":\"#EBF0F8\",\"linecolor\":\"#EBF0F8\",\"ticks\":\"\"},\"bgcolor\":\"white\",\"radialaxis\":{\"gridcolor\":\"#EBF0F8\",\"linecolor\":\"#EBF0F8\",\"ticks\":\"\"}},\"scene\":{\"xaxis\":{\"backgroundcolor\":\"white\",\"gridcolor\":\"#DFE8F3\",\"gridwidth\":2,\"linecolor\":\"#EBF0F8\",\"showbackground\":true,\"ticks\":\"\",\"zerolinecolor\":\"#EBF0F8\"},\"yaxis\":{\"backgroundcolor\":\"white\",\"gridcolor\":\"#DFE8F3\",\"gridwidth\":2,\"linecolor\":\"#EBF0F8\",\"showbackground\":true,\"ticks\":\"\",\"zerolinecolor\":\"#EBF0F8\"},\"zaxis\":{\"backgroundcolor\":\"white\",\"gridcolor\":\"#DFE8F3\",\"gridwidth\":2,\"linecolor\":\"#EBF0F8\",\"showbackground\":true,\"ticks\":\"\",\"zerolinecolor\":\"#EBF0F8\"}},\"shapedefaults\":{\"line\":{\"color\":\"#2a3f5f\"}},\"ternary\":{\"aaxis\":{\"gridcolor\":\"#DFE8F3\",\"linecolor\":\"#A2B1C6\",\"ticks\":\"\"},\"baxis\":{\"gridcolor\":\"#DFE8F3\",\"linecolor\":\"#A2B1C6\",\"ticks\":\"\"},\"bgcolor\":\"white\",\"caxis\":{\"gridcolor\":\"#DFE8F3\",\"linecolor\":\"#A2B1C6\",\"ticks\":\"\"}},\"title\":{\"x\":0.05},\"xaxis\":{\"automargin\":true,\"gridcolor\":\"#EBF0F8\",\"linecolor\":\"#EBF0F8\",\"ticks\":\"\",\"title\":{\"standoff\":15},\"zerolinecolor\":\"#EBF0F8\",\"zerolinewidth\":2},\"yaxis\":{\"automargin\":true,\"gridcolor\":\"#EBF0F8\",\"linecolor\":\"#EBF0F8\",\"ticks\":\"\",\"title\":{\"standoff\":15},\"zerolinecolor\":\"#EBF0F8\",\"zerolinewidth\":2}}},\"title\":{\"text\":\"Romania's Inland Gas Consumption\",\"x\":0.5},\"xaxis\":{\"title\":{\"text\":\"Date\"}},\"yaxis\":{\"title\":{\"text\":\"Million cubic meters\"}}},                        {\"responsive\": true}                    ).then(function(){\n",
       "                            \n",
       "var gd = document.getElementById('693e6b9a-eb86-4e71-89da-0bb784c978dd');\n",
       "var x = new MutationObserver(function (mutations, observer) {{\n",
       "        var display = window.getComputedStyle(gd).display;\n",
       "        if (!display || display === 'none') {{\n",
       "            console.log([gd, 'removed!']);\n",
       "            Plotly.purge(gd);\n",
       "            observer.disconnect();\n",
       "        }}\n",
       "}});\n",
       "\n",
       "// Listen for the removal of the full notebook cells\n",
       "var notebookContainer = gd.closest('#notebook-container');\n",
       "if (notebookContainer) {{\n",
       "    x.observe(notebookContainer, {childList: true});\n",
       "}}\n",
       "\n",
       "// Listen for the clearing of the current output cell\n",
       "var outputEl = gd.closest('.output');\n",
       "if (outputEl) {{\n",
       "    x.observe(outputEl, {childList: true});\n",
       "}}\n",
       "\n",
       "                        })                };            </script>        </div>"
      ]
     },
     "metadata": {},
     "output_type": "display_data"
    }
   ],
   "source": [
    "fig = go.Figure()\n",
    "\n",
    "fig.add_trace(go.Scatter(x=data.index,\n",
    "                         y=data['Inland Consumption'],\n",
    "                         mode='lines'))\n",
    "\n",
    "fig.update_layout(title=\"Romania's Inland Gas Consumption\",\n",
    "                  xaxis_title='Date',\n",
    "                  title_x = 0.5,\n",
    "                  yaxis_title='Million cubic meters',\n",
    "                  template='plotly_white')\n",
    "            \n",
    "fig.show()"
   ]
  },
  {
   "cell_type": "markdown",
   "metadata": {},
   "source": [
    "## Evaluating stationarity and seasonality"
   ]
  },
  {
   "cell_type": "code",
   "execution_count": 4,
   "metadata": {},
   "outputs": [
    {
     "data": {
      "image/png": "[encoded data removed]",
      "text/plain": [
       "<Figure size 1400x400 with 2 Axes>"
      ]
     },
     "metadata": {},
     "output_type": "display_data"
    }
   ],
   "source": [
    "import matplotlib.pyplot as plt\n",
    "from statsmodels.graphics.tsaplots import plot_acf, plot_pacf\n",
    "\n",
    "# Create a figure with two subplots (1 row, 2 columns)\n",
    "fig, axes = plt.subplots(nrows=1, ncols=2, figsize=(14, 4))\n",
    "\n",
    "# Autocorrelation plot\n",
    "plot_acf(data['Inland Consumption'], ax=axes[0], lags=60)\n",
    "axes[0].set_title(\"Autocorrelation Function (ACF)\")\n",
    "\n",
    "# Partial Autocorrelation plot\n",
    "plot_pacf(data['Inland Consumption'], ax=axes[1], lags=60, method=\"ywm\")\n",
    "axes[1].set_title(\"Partial Autocorrelation Function (PACF)\")\n",
    "\n",
    "# Adjust layout for better appearance\n",
    "plt.tight_layout()\n",
    "plt.show()\n"
   ]
  },
  {
   "cell_type": "markdown",
   "metadata": {},
   "source": [
    "Monthly seasonality is present in the data, as we can see from the ACF plot. The PACF plot shows a significant spike at lag 1, which suggests that the series is likely an AR(1) process."
   ]
  },
  {
   "cell_type": "code",
   "execution_count": 5,
   "metadata": {},
   "outputs": [
    {
     "data": {
      "application/vnd.plotly.v1+json": {
       "config": {
        "plotlyServerURL": "https://plot.ly"
       },
       "data": [
        {
         "legendgroup": "2014",
         "line": {
          "color": "rgb(102, 197, 204)",
          "width": 2
         },
         "mode": "lines",
         "name": "2014",
         "showlegend": true,
         "type": "scatter",
         "x": {
          "bdata": "AQAAAAIAAAADAAAABAAAAAUAAAAGAAAABwAAAAgAAAAJAAAACgAAAAsAAAAMAAAA",
          "dtype": "i4"
         },
         "y": {
          "bdata": "AAAAAADAlUAAAAAAAFSUQAAAAAAAoJBAAAAAAADQjUAAAAAAAEiIQAAAAAAAYItAAAAAAAC4hkAAAAAAANCFQAAAAAAACIdAAAAAAADwhEAAAAAAAJySQAAAAAAAtJJA",
          "dtype": "f8"
         }
        },
        {
         "legendgroup": "2015",
         "line": {
          "color": "rgb(246, 207, 113)",
          "width": 2
         },
         "mode": "lines",
         "name": "2015",
         "showlegend": true,
         "type": "scatter",
         "x": {
          "bdata": "AQAAAAIAAAADAAAABAAAAAUAAAAGAAAABwAAAAgAAAAJAAAACgAAAAsAAAAMAAAA",
          "dtype": "i4"
         },
         "y": {
          "bdata": "AAAAAAD8lEAAAAAAAOSSQAAAAAAAQJJAAAAAAAAgi0AAAAAAAGiGQAAAAAAAsIVAAAAAAACghUAAAAAAAPiFQAAAAAAAKIRAAAAAAABgi0AAAAAAAICQQAAAAAAAqJNA",
          "dtype": "f8"
         }
        },
        {
         "legendgroup": "2016",
         "line": {
          "color": "rgb(248, 156, 116)",
          "width": 2
         },
         "mode": "lines",
         "name": "2016",
         "showlegend": true,
         "type": "scatter",
         "x": {
          "bdata": "AQAAAAIAAAADAAAABAAAAAUAAAAGAAAABwAAAAgAAAAJAAAACgAAAAsAAAAMAAAA",
          "dtype": "i4"
         },
         "y": {
          "bdata": "AAAAAAC8lUAAAAAAAGCRQAAAAAAAjJBAAAAAAADYh0AAAAAAAEiEQAAAAAAA4IFAAAAAAADQgkAAAAAAAACEQAAAAAAAkIhAAAAAAABYkEAAAAAAAFiUQAAAAAAAUJdA",
          "dtype": "f8"
         }
        },
        {
         "legendgroup": "2017",
         "line": {
          "color": "rgb(220, 176, 242)",
          "width": 2
         },
         "mode": "lines",
         "name": "2017",
         "showlegend": true,
         "type": "scatter",
         "x": {
          "bdata": "AQAAAAIAAAADAAAABAAAAAUAAAAGAAAABwAAAAgAAAAJAAAACgAAAAsAAAAMAAAA",
          "dtype": "i4"
         },
         "y": {
          "bdata": "AAAAAABom0AAAAAAAMiVQAAAAAAAZJFAAAAAAACwi0AAAAAAAKCFQAAAAAAAeIdAAAAAAACohEAAAAAAAJiFQAAAAAAAQIZAAAAAAADQjUAAAAAAAEyTQAAAAAAAmJZA",
          "dtype": "f8"
         }
        },
        {
         "legendgroup": "2018",
         "line": {
          "color": "rgb(135, 197, 95)",
          "width": 2
         },
         "mode": "lines",
         "name": "2018",
         "showlegend": true,
         "type": "scatter",
         "x": {
          "bdata": "AQAAAAIAAAADAAAABAAAAAUAAAAGAAAABwAAAAgAAAAJAAAACgAAAAsAAAAMAAAA",
          "dtype": "i4"
         },
         "y": {
          "bdata": "AAAAAAA8lEAAAAAAAKScQAAAAAAAEJdAAAAAAADAg0AAAAAAAGCBQAAAAAAAaIFAAAAAAACogEAAAAAAAKiBQAAAAAAAIINAAAAAAABYikAAAAAAAHSUQAAAAAAAhJtA",
          "dtype": "f8"
         }
        },
        {
         "legendgroup": "2019",
         "line": {
          "color": "rgb(158, 185, 243)",
          "width": 2
         },
         "mode": "lines",
         "name": "2019",
         "showlegend": true,
         "type": "scatter",
         "x": {
          "bdata": "AQAAAAIAAAADAAAABAAAAAUAAAAGAAAABwAAAAgAAAAJAAAACgAAAAsAAAAMAAAA",
          "dtype": "i4"
         },
         "y": {
          "bdata": "AAAAAAAQnUAAAAAAAJSWQAAAAAAAKJJAAAAAAABgikAAAAAAAAiCQAAAAAAAUHdAAAAAAAAwf0AAAAAAAKiAQAAAAAAAgIJAAAAAAACYikAAAAAAAHCQQAAAAAAAsJZA",
          "dtype": "f8"
         }
        },
        {
         "legendgroup": "2020",
         "line": {
          "color": "rgb(254, 136, 177)",
          "width": 2
         },
         "mode": "lines",
         "name": "2020",
         "showlegend": true,
         "type": "scatter",
         "x": {
          "bdata": "AQAAAAIAAAADAAAABAAAAAUAAAAGAAAABwAAAAgAAAAJAAAACgAAAAsAAAAMAAAA",
          "dtype": "i4"
         },
         "y": {
          "bdata": "AAAAAACwm0AAAAAAANSVQAAAAAAAGJJAAAAAAACYiEAAAAAAAMiCQAAAAAAAiIFAAAAAAAAIg0AAAAAAADCDQAAAAAAA0INAAAAAAACoiEAAAAAAAByVQAAAAAAAaJhA",
          "dtype": "f8"
         }
        },
        {
         "legendgroup": "2021",
         "line": {
          "color": "rgb(201, 219, 116)",
          "width": 2
         },
         "mode": "lines",
         "name": "2021",
         "showlegend": true,
         "type": "scatter",
         "x": {
          "bdata": "AQAAAAIAAAADAAAABAAAAAUAAAAGAAAABwAAAAgAAAAJAAAACgAAAAsAAAAMAAAA",
          "dtype": "i4"
         },
         "y": {
          "bdata": "AAAAAADImUAAAAAAAMiWQAAAAAAAAJdAAAAAAAA8kEAAAAAAAECDQAAAAAAAcIBAAAAAAAAIgEAAAAAAAMB/QAAAAAAAGIJAAAAAAADgjUAAAAAAAOSSQAAAAAAAHJhA",
          "dtype": "f8"
         }
        },
        {
         "legendgroup": "2022",
         "line": {
          "color": "rgb(139, 224, 164)",
          "width": 2
         },
         "mode": "lines",
         "name": "2022",
         "showlegend": true,
         "type": "scatter",
         "x": {
          "bdata": "AQAAAAIAAAADAAAABAAAAAUAAAAGAAAABwAAAAgAAAAJAAAACgAAAAsAAAAMAAAA",
          "dtype": "i4"
         },
         "y": {
          "bdata": "AAAAAADcmEAAAAAAALyTQAAAAAAAfJNAAAAAAADIhkAAAAAAAACCQAAAAAAAoH5AAAAAAABwfEAAAAAAADB7QAAAAAAA0H5AAAAAAADog0AAAAAAACiOQAAAAAAAdJRA",
          "dtype": "f8"
         }
        },
        {
         "legendgroup": "2023",
         "line": {
          "color": "rgb(180, 151, 231)",
          "width": 2
         },
         "mode": "lines",
         "name": "2023",
         "showlegend": true,
         "type": "scatter",
         "x": {
          "bdata": "AQAAAAIAAAADAAAABAAAAAUAAAAGAAAABwAAAAgAAAAJAAAACgAAAAsAAAAMAAAA",
          "dtype": "i4"
         },
         "y": {
          "bdata": "AAAAAAA8lEAAAAAAAFCUQAAAAAAAYI9AAAAAAACQh0AAAAAAAJB9QAAAAAAAUHZAAAAAAABwekAAAAAAAHB5QAAAAAAAIHtAAAAAAAB4g0AAAAAAAOyQQAAAAAAAwJVA",
          "dtype": "f8"
         }
        },
        {
         "legendgroup": "2024",
         "line": {
          "color": "rgb(179, 179, 179)",
          "width": 2
         },
         "mode": "lines",
         "name": "2024",
         "showlegend": true,
         "type": "scatter",
         "x": {
          "bdata": "AQAAAAIAAAADAAAABAAAAAUAAAAGAAAABwAAAAgAAAAJAAAACgAAAAsAAAAMAAAA",
          "dtype": "i4"
         },
         "y": {
          "bdata": "AAAAAABImEAAAAAAANiRQAAAAAAAPJFAAAAAAADogEAAAAAAAIB9QAAAAAAA4HlAAAAAAABwfUAAAAAAABB7QAAAAAAAYHtAAAAAAAAwhkAAAAAAAESTQAAAAAAAxJVA",
          "dtype": "f8"
         }
        },
        {
         "legendgroup": "2025",
         "line": {
          "color": "rgb(102, 197, 204)",
          "width": 2
         },
         "mode": "lines",
         "name": "2025",
         "showlegend": true,
         "type": "scatter",
         "x": {
          "bdata": "AQAAAA==",
          "dtype": "i4"
         },
         "y": {
          "bdata": "AAAAAAB0lkA=",
          "dtype": "f8"
         }
        }
       ],
       "layout": {
        "height": 600,
        "legend": {
         "title": {
          "text": "Year"
         }
        },
        "template": {
         "data": {
          "bar": [
           {
            "error_x": {
             "color": "#2a3f5f"
            },
            "error_y": {
             "color": "#2a3f5f"
            },
            "marker": {
             "line": {
              "color": "white",
              "width": 0.5
             },
             "pattern": {
              "fillmode": "overlay",
              "size": 10,
              "solidity": 0.2
             }
            },
            "type": "bar"
           }
          ],
          "barpolar": [
           {
            "marker": {
             "line": {
              "color": "white",
              "width": 0.5
             },
             "pattern": {
              "fillmode": "overlay",
              "size": 10,
              "solidity": 0.2
             }
            },
            "type": "barpolar"
           }
          ],
          "carpet": [
           {
            "aaxis": {
             "endlinecolor": "#2a3f5f",
             "gridcolor": "#C8D4E3",
             "linecolor": "#C8D4E3",
             "minorgridcolor": "#C8D4E3",
             "startlinecolor": "#2a3f5f"
            },
            "baxis": {
             "endlinecolor": "#2a3f5f",
             "gridcolor": "#C8D4E3",
             "linecolor": "#C8D4E3",
             "minorgridcolor": "#C8D4E3",
             "startlinecolor": "#2a3f5f"
            },
            "type": "carpet"
           }
          ],
          "choropleth": [
           {
            "colorbar": {
             "outlinewidth": 0,
             "ticks": ""
            },
            "type": "choropleth"
           }
          ],
          "contour": [
           {
            "colorbar": {
             "outlinewidth": 0,
             "ticks": ""
            },
            "colorscale": [
             [
              0,
              "#0d0887"
             ],
             [
              0.1111111111111111,
              "#46039f"
             ],
             [
              0.2222222222222222,
              "#7201a8"
             ],
             [
              0.3333333333333333,
              "#9c179e"
             ],
             [
              0.4444444444444444,
              "#bd3786"
             ],
             [
              0.5555555555555556,
              "#d8576b"
             ],
             [
              0.6666666666666666,
              "#ed7953"
             ],
             [
              0.7777777777777778,
              "#fb9f3a"
             ],
             [
              0.8888888888888888,
              "#fdca26"
             ],
             [
              1,
              "#f0f921"
             ]
            ],
            "type": "contour"
           }
          ],
          "contourcarpet": [
           {
            "colorbar": {
             "outlinewidth": 0,
             "ticks": ""
            },
            "type": "contourcarpet"
           }
          ],
          "heatmap": [
           {
            "colorbar": {
             "outlinewidth": 0,
             "ticks": ""
            },
            "colorscale": [
             [
              0,
              "#0d0887"
             ],
             [
              0.1111111111111111,
              "#46039f"
             ],
             [
              0.2222222222222222,
              "#7201a8"
             ],
             [
              0.3333333333333333,
              "#9c179e"
             ],
             [
              0.4444444444444444,
              "#bd3786"
             ],
             [
              0.5555555555555556,
              "#d8576b"
             ],
             [
              0.6666666666666666,
              "#ed7953"
             ],
             [
              0.7777777777777778,
              "#fb9f3a"
             ],
             [
              0.8888888888888888,
              "#fdca26"
             ],
             [
              1,
              "#f0f921"
             ]
            ],
            "type": "heatmap"
           }
          ],
          "histogram": [
           {
            "marker": {
             "pattern": {
              "fillmode": "overlay",
              "size": 10,
              "solidity": 0.2
             }
            },
            "type": "histogram"
           }
          ],
          "histogram2d": [
           {
            "colorbar": {
             "outlinewidth": 0,
             "ticks": ""
            },
            "colorscale": [
             [
              0,
              "#0d0887"
             ],
             [
              0.1111111111111111,
              "#46039f"
             ],
             [
              0.2222222222222222,
              "#7201a8"
             ],
             [
              0.3333333333333333,
              "#9c179e"
             ],
             [
              0.4444444444444444,
              "#bd3786"
             ],
             [
              0.5555555555555556,
              "#d8576b"
             ],
             [
              0.6666666666666666,
              "#ed7953"
             ],
             [
              0.7777777777777778,
              "#fb9f3a"
             ],
             [
              0.8888888888888888,
              "#fdca26"
             ],
             [
              1,
              "#f0f921"
             ]
            ],
            "type": "histogram2d"
           }
          ],
          "histogram2dcontour": [
           {
            "colorbar": {
             "outlinewidth": 0,
             "ticks": ""
            },
            "colorscale": [
             [
              0,
              "#0d0887"
             ],
             [
              0.1111111111111111,
              "#46039f"
             ],
             [
              0.2222222222222222,
              "#7201a8"
             ],
             [
              0.3333333333333333,
              "#9c179e"
             ],
             [
              0.4444444444444444,
              "#bd3786"
             ],
             [
              0.5555555555555556,
              "#d8576b"
             ],
             [
              0.6666666666666666,
              "#ed7953"
             ],
             [
              0.7777777777777778,
              "#fb9f3a"
             ],
             [
              0.8888888888888888,
              "#fdca26"
             ],
             [
              1,
              "#f0f921"
             ]
            ],
            "type": "histogram2dcontour"
           }
          ],
          "mesh3d": [
           {
            "colorbar": {
             "outlinewidth": 0,
             "ticks": ""
            },
            "type": "mesh3d"
           }
          ],
          "parcoords": [
           {
            "line": {
             "colorbar": {
              "outlinewidth": 0,
              "ticks": ""
             }
            },
            "type": "parcoords"
           }
          ],
          "pie": [
           {
            "automargin": true,
            "type": "pie"
           }
          ],
          "scatter": [
           {
            "fillpattern": {
             "fillmode": "overlay",
             "size": 10,
             "solidity": 0.2
            },
            "type": "scatter"
           }
          ],
          "scatter3d": [
           {
            "line": {
             "colorbar": {
              "outlinewidth": 0,
              "ticks": ""
             }
            },
            "marker": {
             "colorbar": {
              "outlinewidth": 0,
              "ticks": ""
             }
            },
            "type": "scatter3d"
           }
          ],
          "scattercarpet": [
           {
            "marker": {
             "colorbar": {
              "outlinewidth": 0,
              "ticks": ""
             }
            },
            "type": "scattercarpet"
           }
          ],
          "scattergeo": [
           {
            "marker": {
             "colorbar": {
              "outlinewidth": 0,
              "ticks": ""
             }
            },
            "type": "scattergeo"
           }
          ],
          "scattergl": [
           {
            "marker": {
             "colorbar": {
              "outlinewidth": 0,
              "ticks": ""
             }
            },
            "type": "scattergl"
           }
          ],
          "scattermap": [
           {
            "marker": {
             "colorbar": {
              "outlinewidth": 0,
              "ticks": ""
             }
            },
            "type": "scattermap"
           }
          ],
          "scattermapbox": [
           {
            "marker": {
             "colorbar": {
              "outlinewidth": 0,
              "ticks": ""
             }
            },
            "type": "scattermapbox"
           }
          ],
          "scatterpolar": [
           {
            "marker": {
             "colorbar": {
              "outlinewidth": 0,
              "ticks": ""
             }
            },
            "type": "scatterpolar"
           }
          ],
          "scatterpolargl": [
           {
            "marker": {
             "colorbar": {
              "outlinewidth": 0,
              "ticks": ""
             }
            },
            "type": "scatterpolargl"
           }
          ],
          "scatterternary": [
           {
            "marker": {
             "colorbar": {
              "outlinewidth": 0,
              "ticks": ""
             }
            },
            "type": "scatterternary"
           }
          ],
          "surface": [
           {
            "colorbar": {
             "outlinewidth": 0,
             "ticks": ""
            },
            "colorscale": [
             [
              0,
              "#0d0887"
             ],
             [
              0.1111111111111111,
              "#46039f"
             ],
             [
              0.2222222222222222,
              "#7201a8"
             ],
             [
              0.3333333333333333,
              "#9c179e"
             ],
             [
              0.4444444444444444,
              "#bd3786"
             ],
             [
              0.5555555555555556,
              "#d8576b"
             ],
             [
              0.6666666666666666,
              "#ed7953"
             ],
             [
              0.7777777777777778,
              "#fb9f3a"
             ],
             [
              0.8888888888888888,
              "#fdca26"
             ],
             [
              1,
              "#f0f921"
             ]
            ],
            "type": "surface"
           }
          ],
          "table": [
           {
            "cells": {
             "fill": {
              "color": "#EBF0F8"
             },
             "line": {
              "color": "white"
             }
            },
            "header": {
             "fill": {
              "color": "#C8D4E3"
             },
             "line": {
              "color": "white"
             }
            },
            "type": "table"
           }
          ]
         },
         "layout": {
          "annotationdefaults": {
           "arrowcolor": "#2a3f5f",
           "arrowhead": 0,
           "arrowwidth": 1
          },
          "autotypenumbers": "strict",
          "coloraxis": {
           "colorbar": {
            "outlinewidth": 0,
            "ticks": ""
           }
          },
          "colorscale": {
           "diverging": [
            [
             0,
             "#8e0152"
            ],
            [
             0.1,
             "#c51b7d"
            ],
            [
             0.2,
             "#de77ae"
            ],
            [
             0.3,
             "#f1b6da"
            ],
            [
             0.4,
             "#fde0ef"
            ],
            [
             0.5,
             "#f7f7f7"
            ],
            [
             0.6,
             "#e6f5d0"
            ],
            [
             0.7,
             "#b8e186"
            ],
            [
             0.8,
             "#7fbc41"
            ],
            [
             0.9,
             "#4d9221"
            ],
            [
             1,
             "#276419"
            ]
           ],
           "sequential": [
            [
             0,
             "#0d0887"
            ],
            [
             0.1111111111111111,
             "#46039f"
            ],
            [
             0.2222222222222222,
             "#7201a8"
            ],
            [
             0.3333333333333333,
             "#9c179e"
            ],
            [
             0.4444444444444444,
             "#bd3786"
            ],
            [
             0.5555555555555556,
             "#d8576b"
            ],
            [
             0.6666666666666666,
             "#ed7953"
            ],
            [
             0.7777777777777778,
             "#fb9f3a"
            ],
            [
             0.8888888888888888,
             "#fdca26"
            ],
            [
             1,
             "#f0f921"
            ]
           ],
           "sequentialminus": [
            [
             0,
             "#0d0887"
            ],
            [
             0.1111111111111111,
             "#46039f"
            ],
            [
             0.2222222222222222,
             "#7201a8"
            ],
            [
             0.3333333333333333,
             "#9c179e"
            ],
            [
             0.4444444444444444,
             "#bd3786"
            ],
            [
             0.5555555555555556,
             "#d8576b"
            ],
            [
             0.6666666666666666,
             "#ed7953"
            ],
            [
             0.7777777777777778,
             "#fb9f3a"
            ],
            [
             0.8888888888888888,
             "#fdca26"
            ],
            [
             1,
             "#f0f921"
            ]
           ]
          },
          "colorway": [
           "#636efa",
           "#EF553B",
           "#00cc96",
           "#ab63fa",
           "#FFA15A",
           "#19d3f3",
           "#FF6692",
           "#B6E880",
           "#FF97FF",
           "#FECB52"
          ],
          "font": {
           "color": "#2a3f5f"
          },
          "geo": {
           "bgcolor": "white",
           "lakecolor": "white",
           "landcolor": "white",
           "showlakes": true,
           "showland": true,
           "subunitcolor": "#C8D4E3"
          },
          "hoverlabel": {
           "align": "left"
          },
          "hovermode": "closest",
          "mapbox": {
           "style": "light"
          },
          "paper_bgcolor": "white",
          "plot_bgcolor": "white",
          "polar": {
           "angularaxis": {
            "gridcolor": "#EBF0F8",
            "linecolor": "#EBF0F8",
            "ticks": ""
           },
           "bgcolor": "white",
           "radialaxis": {
            "gridcolor": "#EBF0F8",
            "linecolor": "#EBF0F8",
            "ticks": ""
           }
          },
          "scene": {
           "xaxis": {
            "backgroundcolor": "white",
            "gridcolor": "#DFE8F3",
            "gridwidth": 2,
            "linecolor": "#EBF0F8",
            "showbackground": true,
            "ticks": "",
            "zerolinecolor": "#EBF0F8"
           },
           "yaxis": {
            "backgroundcolor": "white",
            "gridcolor": "#DFE8F3",
            "gridwidth": 2,
            "linecolor": "#EBF0F8",
            "showbackground": true,
            "ticks": "",
            "zerolinecolor": "#EBF0F8"
           },
           "zaxis": {
            "backgroundcolor": "white",
            "gridcolor": "#DFE8F3",
            "gridwidth": 2,
            "linecolor": "#EBF0F8",
            "showbackground": true,
            "ticks": "",
            "zerolinecolor": "#EBF0F8"
           }
          },
          "shapedefaults": {
           "line": {
            "color": "#2a3f5f"
           }
          },
          "ternary": {
           "aaxis": {
            "gridcolor": "#DFE8F3",
            "linecolor": "#A2B1C6",
            "ticks": ""
           },
           "baxis": {
            "gridcolor": "#DFE8F3",
            "linecolor": "#A2B1C6",
            "ticks": ""
           },
           "bgcolor": "white",
           "caxis": {
            "gridcolor": "#DFE8F3",
            "linecolor": "#A2B1C6",
            "ticks": ""
           }
          },
          "title": {
           "x": 0.05
          },
          "xaxis": {
           "automargin": true,
           "gridcolor": "#EBF0F8",
           "linecolor": "#EBF0F8",
           "ticks": "",
           "title": {
            "standoff": 15
           },
           "zerolinecolor": "#EBF0F8",
           "zerolinewidth": 2
          },
          "yaxis": {
           "automargin": true,
           "gridcolor": "#EBF0F8",
           "linecolor": "#EBF0F8",
           "ticks": "",
           "title": {
            "standoff": 15
           },
           "zerolinecolor": "#EBF0F8",
           "zerolinewidth": 2
          }
         }
        },
        "title": {
         "text": "Seasonality Plot of Romania's Inland Gas Consumption",
         "x": 0.5
        },
        "width": 1000,
        "xaxis": {
         "tickmode": "array",
         "ticktext": [
          "Jan",
          "Feb",
          "Mar",
          "Apr",
          "May",
          "Jun",
          "Jul",
          "Aug",
          "Sep",
          "Oct",
          "Nov",
          "Dec"
         ],
         "tickvals": [
          1,
          2,
          3,
          4,
          5,
          6,
          7,
          8,
          9,
          10,
          11,
          12
         ],
         "title": {
          "text": "Month"
         }
        },
        "yaxis": {
         "title": {
          "text": "Million cubic meters"
         }
        }
       }
      },
      "text/html": [
       "<div>            <script src=\"https://cdnjs.cloudflare.com/ajax/libs/mathjax/2.7.5/MathJax.js?config=TeX-AMS-MML_SVG\"></script><script type=\"text/javascript\">if (window.MathJax && window.MathJax.Hub && window.MathJax.Hub.Config) {window.MathJax.Hub.Config({SVG: {font: \"STIX-Web\"}});}</script>                <script type=\"text/javascript\">window.PlotlyConfig = {MathJaxConfig: 'local'};</script>\n",
       "        <script charset=\"utf-8\" src=\"https://cdn.plot.ly/plotly-3.0.0.min.js\"></script>                <div id=\"8ef958e2-404d-418f-a343-f463b9b244f4\" class=\"plotly-graph-div\" style=\"height:600px; width:1000px;\"></div>            <script type=\"text/javascript\">                window.PLOTLYENV=window.PLOTLYENV || {};                                if (document.getElementById(\"8ef958e2-404d-418f-a343-f463b9b244f4\")) {                    Plotly.newPlot(                        \"8ef958e2-404d-418f-a343-f463b9b244f4\",                        [{\"legendgroup\":\"2014\",\"line\":{\"color\":\"rgb(102, 197, 204)\",\"width\":2},\"mode\":\"lines\",\"name\":\"2014\",\"showlegend\":true,\"x\":{\"dtype\":\"i4\",\"bdata\":\"AQAAAAIAAAADAAAABAAAAAUAAAAGAAAABwAAAAgAAAAJAAAACgAAAAsAAAAMAAAA\"},\"y\":{\"dtype\":\"f8\",\"bdata\":\"AAAAAADAlUAAAAAAAFSUQAAAAAAAoJBAAAAAAADQjUAAAAAAAEiIQAAAAAAAYItAAAAAAAC4hkAAAAAAANCFQAAAAAAACIdAAAAAAADwhEAAAAAAAJySQAAAAAAAtJJA\"},\"type\":\"scatter\"},{\"legendgroup\":\"2015\",\"line\":{\"color\":\"rgb(246, 207, 113)\",\"width\":2},\"mode\":\"lines\",\"name\":\"2015\",\"showlegend\":true,\"x\":{\"dtype\":\"i4\",\"bdata\":\"AQAAAAIAAAADAAAABAAAAAUAAAAGAAAABwAAAAgAAAAJAAAACgAAAAsAAAAMAAAA\"},\"y\":{\"dtype\":\"f8\",\"bdata\":\"AAAAAAD8lEAAAAAAAOSSQAAAAAAAQJJAAAAAAAAgi0AAAAAAAGiGQAAAAAAAsIVAAAAAAACghUAAAAAAAPiFQAAAAAAAKIRAAAAAAABgi0AAAAAAAICQQAAAAAAAqJNA\"},\"type\":\"scatter\"},{\"legendgroup\":\"2016\",\"line\":{\"color\":\"rgb(248, 156, 116)\",\"width\":2},\"mode\":\"lines\",\"name\":\"2016\",\"showlegend\":true,\"x\":{\"dtype\":\"i4\",\"bdata\":\"AQAAAAIAAAADAAAABAAAAAUAAAAGAAAABwAAAAgAAAAJAAAACgAAAAsAAAAMAAAA\"},\"y\":{\"dtype\":\"f8\",\"bdata\":\"AAAAAAC8lUAAAAAAAGCRQAAAAAAAjJBAAAAAAADYh0AAAAAAAEiEQAAAAAAA4IFAAAAAAADQgkAAAAAAAACEQAAAAAAAkIhAAAAAAABYkEAAAAAAAFiUQAAAAAAAUJdA\"},\"type\":\"scatter\"},{\"legendgroup\":\"2017\",\"line\":{\"color\":\"rgb(220, 176, 242)\",\"width\":2},\"mode\":\"lines\",\"name\":\"2017\",\"showlegend\":true,\"x\":{\"dtype\":\"i4\",\"bdata\":\"AQAAAAIAAAADAAAABAAAAAUAAAAGAAAABwAAAAgAAAAJAAAACgAAAAsAAAAMAAAA\"},\"y\":{\"dtype\":\"f8\",\"bdata\":\"AAAAAABom0AAAAAAAMiVQAAAAAAAZJFAAAAAAACwi0AAAAAAAKCFQAAAAAAAeIdAAAAAAACohEAAAAAAAJiFQAAAAAAAQIZAAAAAAADQjUAAAAAAAEyTQAAAAAAAmJZA\"},\"type\":\"scatter\"},{\"legendgroup\":\"2018\",\"line\":{\"color\":\"rgb(135, 197, 95)\",\"width\":2},\"mode\":\"lines\",\"name\":\"2018\",\"showlegend\":true,\"x\":{\"dtype\":\"i4\",\"bdata\":\"AQAAAAIAAAADAAAABAAAAAUAAAAGAAAABwAAAAgAAAAJAAAACgAAAAsAAAAMAAAA\"},\"y\":{\"dtype\":\"f8\",\"bdata\":\"AAAAAAA8lEAAAAAAAKScQAAAAAAAEJdAAAAAAADAg0AAAAAAAGCBQAAAAAAAaIFAAAAAAACogEAAAAAAAKiBQAAAAAAAIINAAAAAAABYikAAAAAAAHSUQAAAAAAAhJtA\"},\"type\":\"scatter\"},{\"legendgroup\":\"2019\",\"line\":{\"color\":\"rgb(158, 185, 243)\",\"width\":2},\"mode\":\"lines\",\"name\":\"2019\",\"showlegend\":true,\"x\":{\"dtype\":\"i4\",\"bdata\":\"AQAAAAIAAAADAAAABAAAAAUAAAAGAAAABwAAAAgAAAAJAAAACgAAAAsAAAAMAAAA\"},\"y\":{\"dtype\":\"f8\",\"bdata\":\"AAAAAAAQnUAAAAAAAJSWQAAAAAAAKJJAAAAAAABgikAAAAAAAAiCQAAAAAAAUHdAAAAAAAAwf0AAAAAAAKiAQAAAAAAAgIJAAAAAAACYikAAAAAAAHCQQAAAAAAAsJZA\"},\"type\":\"scatter\"},{\"legendgroup\":\"2020\",\"line\":{\"color\":\"rgb(254, 136, 177)\",\"width\":2},\"mode\":\"lines\",\"name\":\"2020\",\"showlegend\":true,\"x\":{\"dtype\":\"i4\",\"bdata\":\"AQAAAAIAAAADAAAABAAAAAUAAAAGAAAABwAAAAgAAAAJAAAACgAAAAsAAAAMAAAA\"},\"y\":{\"dtype\":\"f8\",\"bdata\":\"AAAAAACwm0AAAAAAANSVQAAAAAAAGJJAAAAAAACYiEAAAAAAAMiCQAAAAAAAiIFAAAAAAAAIg0AAAAAAADCDQAAAAAAA0INAAAAAAACoiEAAAAAAAByVQAAAAAAAaJhA\"},\"type\":\"scatter\"},{\"legendgroup\":\"2021\",\"line\":{\"color\":\"rgb(201, 219, 116)\",\"width\":2},\"mode\":\"lines\",\"name\":\"2021\",\"showlegend\":true,\"x\":{\"dtype\":\"i4\",\"bdata\":\"AQAAAAIAAAADAAAABAAAAAUAAAAGAAAABwAAAAgAAAAJAAAACgAAAAsAAAAMAAAA\"},\"y\":{\"dtype\":\"f8\",\"bdata\":\"AAAAAADImUAAAAAAAMiWQAAAAAAAAJdAAAAAAAA8kEAAAAAAAECDQAAAAAAAcIBAAAAAAAAIgEAAAAAAAMB\\u002fQAAAAAAAGIJAAAAAAADgjUAAAAAAAOSSQAAAAAAAHJhA\"},\"type\":\"scatter\"},{\"legendgroup\":\"2022\",\"line\":{\"color\":\"rgb(139, 224, 164)\",\"width\":2},\"mode\":\"lines\",\"name\":\"2022\",\"showlegend\":true,\"x\":{\"dtype\":\"i4\",\"bdata\":\"AQAAAAIAAAADAAAABAAAAAUAAAAGAAAABwAAAAgAAAAJAAAACgAAAAsAAAAMAAAA\"},\"y\":{\"dtype\":\"f8\",\"bdata\":\"AAAAAADcmEAAAAAAALyTQAAAAAAAfJNAAAAAAADIhkAAAAAAAACCQAAAAAAAoH5AAAAAAABwfEAAAAAAADB7QAAAAAAA0H5AAAAAAADog0AAAAAAACiOQAAAAAAAdJRA\"},\"type\":\"scatter\"},{\"legendgroup\":\"2023\",\"line\":{\"color\":\"rgb(180, 151, 231)\",\"width\":2},\"mode\":\"lines\",\"name\":\"2023\",\"showlegend\":true,\"x\":{\"dtype\":\"i4\",\"bdata\":\"AQAAAAIAAAADAAAABAAAAAUAAAAGAAAABwAAAAgAAAAJAAAACgAAAAsAAAAMAAAA\"},\"y\":{\"dtype\":\"f8\",\"bdata\":\"AAAAAAA8lEAAAAAAAFCUQAAAAAAAYI9AAAAAAACQh0AAAAAAAJB9QAAAAAAAUHZAAAAAAABwekAAAAAAAHB5QAAAAAAAIHtAAAAAAAB4g0AAAAAAAOyQQAAAAAAAwJVA\"},\"type\":\"scatter\"},{\"legendgroup\":\"2024\",\"line\":{\"color\":\"rgb(179, 179, 179)\",\"width\":2},\"mode\":\"lines\",\"name\":\"2024\",\"showlegend\":true,\"x\":{\"dtype\":\"i4\",\"bdata\":\"AQAAAAIAAAADAAAABAAAAAUAAAAGAAAABwAAAAgAAAAJAAAACgAAAAsAAAAMAAAA\"},\"y\":{\"dtype\":\"f8\",\"bdata\":\"AAAAAABImEAAAAAAANiRQAAAAAAAPJFAAAAAAADogEAAAAAAAIB9QAAAAAAA4HlAAAAAAABwfUAAAAAAABB7QAAAAAAAYHtAAAAAAAAwhkAAAAAAAESTQAAAAAAAxJVA\"},\"type\":\"scatter\"},{\"legendgroup\":\"2025\",\"line\":{\"color\":\"rgb(102, 197, 204)\",\"width\":2},\"mode\":\"lines\",\"name\":\"2025\",\"showlegend\":true,\"x\":{\"dtype\":\"i4\",\"bdata\":\"AQAAAA==\"},\"y\":{\"dtype\":\"f8\",\"bdata\":\"AAAAAAB0lkA=\"},\"type\":\"scatter\"}],                        {\"template\":{\"data\":{\"barpolar\":[{\"marker\":{\"line\":{\"color\":\"white\",\"width\":0.5},\"pattern\":{\"fillmode\":\"overlay\",\"size\":10,\"solidity\":0.2}},\"type\":\"barpolar\"}],\"bar\":[{\"error_x\":{\"color\":\"#2a3f5f\"},\"error_y\":{\"color\":\"#2a3f5f\"},\"marker\":{\"line\":{\"color\":\"white\",\"width\":0.5},\"pattern\":{\"fillmode\":\"overlay\",\"size\":10,\"solidity\":0.2}},\"type\":\"bar\"}],\"carpet\":[{\"aaxis\":{\"endlinecolor\":\"#2a3f5f\",\"gridcolor\":\"#C8D4E3\",\"linecolor\":\"#C8D4E3\",\"minorgridcolor\":\"#C8D4E3\",\"startlinecolor\":\"#2a3f5f\"},\"baxis\":{\"endlinecolor\":\"#2a3f5f\",\"gridcolor\":\"#C8D4E3\",\"linecolor\":\"#C8D4E3\",\"minorgridcolor\":\"#C8D4E3\",\"startlinecolor\":\"#2a3f5f\"},\"type\":\"carpet\"}],\"choropleth\":[{\"colorbar\":{\"outlinewidth\":0,\"ticks\":\"\"},\"type\":\"choropleth\"}],\"contourcarpet\":[{\"colorbar\":{\"outlinewidth\":0,\"ticks\":\"\"},\"type\":\"contourcarpet\"}],\"contour\":[{\"colorbar\":{\"outlinewidth\":0,\"ticks\":\"\"},\"colorscale\":[[0.0,\"#0d0887\"],[0.1111111111111111,\"#46039f\"],[0.2222222222222222,\"#7201a8\"],[0.3333333333333333,\"#9c179e\"],[0.4444444444444444,\"#bd3786\"],[0.5555555555555556,\"#d8576b\"],[0.6666666666666666,\"#ed7953\"],[0.7777777777777778,\"#fb9f3a\"],[0.8888888888888888,\"#fdca26\"],[1.0,\"#f0f921\"]],\"type\":\"contour\"}],\"heatmap\":[{\"colorbar\":{\"outlinewidth\":0,\"ticks\":\"\"},\"colorscale\":[[0.0,\"#0d0887\"],[0.1111111111111111,\"#46039f\"],[0.2222222222222222,\"#7201a8\"],[0.3333333333333333,\"#9c179e\"],[0.4444444444444444,\"#bd3786\"],[0.5555555555555556,\"#d8576b\"],[0.6666666666666666,\"#ed7953\"],[0.7777777777777778,\"#fb9f3a\"],[0.8888888888888888,\"#fdca26\"],[1.0,\"#f0f921\"]],\"type\":\"heatmap\"}],\"histogram2dcontour\":[{\"colorbar\":{\"outlinewidth\":0,\"ticks\":\"\"},\"colorscale\":[[0.0,\"#0d0887\"],[0.1111111111111111,\"#46039f\"],[0.2222222222222222,\"#7201a8\"],[0.3333333333333333,\"#9c179e\"],[0.4444444444444444,\"#bd3786\"],[0.5555555555555556,\"#d8576b\"],[0.6666666666666666,\"#ed7953\"],[0.7777777777777778,\"#fb9f3a\"],[0.8888888888888888,\"#fdca26\"],[1.0,\"#f0f921\"]],\"type\":\"histogram2dcontour\"}],\"histogram2d\":[{\"colorbar\":{\"outlinewidth\":0,\"ticks\":\"\"},\"colorscale\":[[0.0,\"#0d0887\"],[0.1111111111111111,\"#46039f\"],[0.2222222222222222,\"#7201a8\"],[0.3333333333333333,\"#9c179e\"],[0.4444444444444444,\"#bd3786\"],[0.5555555555555556,\"#d8576b\"],[0.6666666666666666,\"#ed7953\"],[0.7777777777777778,\"#fb9f3a\"],[0.8888888888888888,\"#fdca26\"],[1.0,\"#f0f921\"]],\"type\":\"histogram2d\"}],\"histogram\":[{\"marker\":{\"pattern\":{\"fillmode\":\"overlay\",\"size\":10,\"solidity\":0.2}},\"type\":\"histogram\"}],\"mesh3d\":[{\"colorbar\":{\"outlinewidth\":0,\"ticks\":\"\"},\"type\":\"mesh3d\"}],\"parcoords\":[{\"line\":{\"colorbar\":{\"outlinewidth\":0,\"ticks\":\"\"}},\"type\":\"parcoords\"}],\"pie\":[{\"automargin\":true,\"type\":\"pie\"}],\"scatter3d\":[{\"line\":{\"colorbar\":{\"outlinewidth\":0,\"ticks\":\"\"}},\"marker\":{\"colorbar\":{\"outlinewidth\":0,\"ticks\":\"\"}},\"type\":\"scatter3d\"}],\"scattercarpet\":[{\"marker\":{\"colorbar\":{\"outlinewidth\":0,\"ticks\":\"\"}},\"type\":\"scattercarpet\"}],\"scattergeo\":[{\"marker\":{\"colorbar\":{\"outlinewidth\":0,\"ticks\":\"\"}},\"type\":\"scattergeo\"}],\"scattergl\":[{\"marker\":{\"colorbar\":{\"outlinewidth\":0,\"ticks\":\"\"}},\"type\":\"scattergl\"}],\"scattermapbox\":[{\"marker\":{\"colorbar\":{\"outlinewidth\":0,\"ticks\":\"\"}},\"type\":\"scattermapbox\"}],\"scattermap\":[{\"marker\":{\"colorbar\":{\"outlinewidth\":0,\"ticks\":\"\"}},\"type\":\"scattermap\"}],\"scatterpolargl\":[{\"marker\":{\"colorbar\":{\"outlinewidth\":0,\"ticks\":\"\"}},\"type\":\"scatterpolargl\"}],\"scatterpolar\":[{\"marker\":{\"colorbar\":{\"outlinewidth\":0,\"ticks\":\"\"}},\"type\":\"scatterpolar\"}],\"scatter\":[{\"fillpattern\":{\"fillmode\":\"overlay\",\"size\":10,\"solidity\":0.2},\"type\":\"scatter\"}],\"scatterternary\":[{\"marker\":{\"colorbar\":{\"outlinewidth\":0,\"ticks\":\"\"}},\"type\":\"scatterternary\"}],\"surface\":[{\"colorbar\":{\"outlinewidth\":0,\"ticks\":\"\"},\"colorscale\":[[0.0,\"#0d0887\"],[0.1111111111111111,\"#46039f\"],[0.2222222222222222,\"#7201a8\"],[0.3333333333333333,\"#9c179e\"],[0.4444444444444444,\"#bd3786\"],[0.5555555555555556,\"#d8576b\"],[0.6666666666666666,\"#ed7953\"],[0.7777777777777778,\"#fb9f3a\"],[0.8888888888888888,\"#fdca26\"],[1.0,\"#f0f921\"]],\"type\":\"surface\"}],\"table\":[{\"cells\":{\"fill\":{\"color\":\"#EBF0F8\"},\"line\":{\"color\":\"white\"}},\"header\":{\"fill\":{\"color\":\"#C8D4E3\"},\"line\":{\"color\":\"white\"}},\"type\":\"table\"}]},\"layout\":{\"annotationdefaults\":{\"arrowcolor\":\"#2a3f5f\",\"arrowhead\":0,\"arrowwidth\":1},\"autotypenumbers\":\"strict\",\"coloraxis\":{\"colorbar\":{\"outlinewidth\":0,\"ticks\":\"\"}},\"colorscale\":{\"diverging\":[[0,\"#8e0152\"],[0.1,\"#c51b7d\"],[0.2,\"#de77ae\"],[0.3,\"#f1b6da\"],[0.4,\"#fde0ef\"],[0.5,\"#f7f7f7\"],[0.6,\"#e6f5d0\"],[0.7,\"#b8e186\"],[0.8,\"#7fbc41\"],[0.9,\"#4d9221\"],[1,\"#276419\"]],\"sequential\":[[0.0,\"#0d0887\"],[0.1111111111111111,\"#46039f\"],[0.2222222222222222,\"#7201a8\"],[0.3333333333333333,\"#9c179e\"],[0.4444444444444444,\"#bd3786\"],[0.5555555555555556,\"#d8576b\"],[0.6666666666666666,\"#ed7953\"],[0.7777777777777778,\"#fb9f3a\"],[0.8888888888888888,\"#fdca26\"],[1.0,\"#f0f921\"]],\"sequentialminus\":[[0.0,\"#0d0887\"],[0.1111111111111111,\"#46039f\"],[0.2222222222222222,\"#7201a8\"],[0.3333333333333333,\"#9c179e\"],[0.4444444444444444,\"#bd3786\"],[0.5555555555555556,\"#d8576b\"],[0.6666666666666666,\"#ed7953\"],[0.7777777777777778,\"#fb9f3a\"],[0.8888888888888888,\"#fdca26\"],[1.0,\"#f0f921\"]]},\"colorway\":[\"#636efa\",\"#EF553B\",\"#00cc96\",\"#ab63fa\",\"#FFA15A\",\"#19d3f3\",\"#FF6692\",\"#B6E880\",\"#FF97FF\",\"#FECB52\"],\"font\":{\"color\":\"#2a3f5f\"},\"geo\":{\"bgcolor\":\"white\",\"lakecolor\":\"white\",\"landcolor\":\"white\",\"showlakes\":true,\"showland\":true,\"subunitcolor\":\"#C8D4E3\"},\"hoverlabel\":{\"align\":\"left\"},\"hovermode\":\"closest\",\"mapbox\":{\"style\":\"light\"},\"paper_bgcolor\":\"white\",\"plot_bgcolor\":\"white\",\"polar\":{\"angularaxis\":{\"gridcolor\":\"#EBF0F8\",\"linecolor\":\"#EBF0F8\",\"ticks\":\"\"},\"bgcolor\":\"white\",\"radialaxis\":{\"gridcolor\":\"#EBF0F8\",\"linecolor\":\"#EBF0F8\",\"ticks\":\"\"}},\"scene\":{\"xaxis\":{\"backgroundcolor\":\"white\",\"gridcolor\":\"#DFE8F3\",\"gridwidth\":2,\"linecolor\":\"#EBF0F8\",\"showbackground\":true,\"ticks\":\"\",\"zerolinecolor\":\"#EBF0F8\"},\"yaxis\":{\"backgroundcolor\":\"white\",\"gridcolor\":\"#DFE8F3\",\"gridwidth\":2,\"linecolor\":\"#EBF0F8\",\"showbackground\":true,\"ticks\":\"\",\"zerolinecolor\":\"#EBF0F8\"},\"zaxis\":{\"backgroundcolor\":\"white\",\"gridcolor\":\"#DFE8F3\",\"gridwidth\":2,\"linecolor\":\"#EBF0F8\",\"showbackground\":true,\"ticks\":\"\",\"zerolinecolor\":\"#EBF0F8\"}},\"shapedefaults\":{\"line\":{\"color\":\"#2a3f5f\"}},\"ternary\":{\"aaxis\":{\"gridcolor\":\"#DFE8F3\",\"linecolor\":\"#A2B1C6\",\"ticks\":\"\"},\"baxis\":{\"gridcolor\":\"#DFE8F3\",\"linecolor\":\"#A2B1C6\",\"ticks\":\"\"},\"bgcolor\":\"white\",\"caxis\":{\"gridcolor\":\"#DFE8F3\",\"linecolor\":\"#A2B1C6\",\"ticks\":\"\"}},\"title\":{\"x\":0.05},\"xaxis\":{\"automargin\":true,\"gridcolor\":\"#EBF0F8\",\"linecolor\":\"#EBF0F8\",\"ticks\":\"\",\"title\":{\"standoff\":15},\"zerolinecolor\":\"#EBF0F8\",\"zerolinewidth\":2},\"yaxis\":{\"automargin\":true,\"gridcolor\":\"#EBF0F8\",\"linecolor\":\"#EBF0F8\",\"ticks\":\"\",\"title\":{\"standoff\":15},\"zerolinecolor\":\"#EBF0F8\",\"zerolinewidth\":2}}},\"title\":{\"text\":\"Seasonality Plot of Romania's Inland Gas Consumption\",\"x\":0.5},\"xaxis\":{\"title\":{\"text\":\"Month\"},\"tickmode\":\"array\",\"tickvals\":[1,2,3,4,5,6,7,8,9,10,11,12],\"ticktext\":[\"Jan\",\"Feb\",\"Mar\",\"Apr\",\"May\",\"Jun\",\"Jul\",\"Aug\",\"Sep\",\"Oct\",\"Nov\",\"Dec\"]},\"yaxis\":{\"title\":{\"text\":\"Million cubic meters\"}},\"legend\":{\"title\":{\"text\":\"Year\"}},\"width\":1000,\"height\":600},                        {\"responsive\": true}                    ).then(function(){\n",
       "                            \n",
       "var gd = document.getElementById('8ef958e2-404d-418f-a343-f463b9b244f4');\n",
       "var x = new MutationObserver(function (mutations, observer) {{\n",
       "        var display = window.getComputedStyle(gd).display;\n",
       "        if (!display || display === 'none') {{\n",
       "            console.log([gd, 'removed!']);\n",
       "            Plotly.purge(gd);\n",
       "            observer.disconnect();\n",
       "        }}\n",
       "}});\n",
       "\n",
       "// Listen for the removal of the full notebook cells\n",
       "var notebookContainer = gd.closest('#notebook-container');\n",
       "if (notebookContainer) {{\n",
       "    x.observe(notebookContainer, {childList: true});\n",
       "}}\n",
       "\n",
       "// Listen for the clearing of the current output cell\n",
       "var outputEl = gd.closest('.output');\n",
       "if (outputEl) {{\n",
       "    x.observe(outputEl, {childList: true});\n",
       "}}\n",
       "\n",
       "                        })                };            </script>        </div>"
      ]
     },
     "metadata": {},
     "output_type": "display_data"
    }
   ],
   "source": [
    "# Definging monthly seasonal plot\n",
    "# ==============================================================================\n",
    "def plot_seasonal(data):\n",
    "    fig = go.Figure()\n",
    "    \n",
    "    data['year'] = data.index.year\n",
    "    data['month'] = data.index.month\n",
    "    year_list = data['year'].unique().tolist()\n",
    "\n",
    "    # Loop through each year and plot the data\n",
    "    for idx, year in enumerate(year_list):\n",
    "        df = data[data['year'] == year][['month', 'Inland Consumption']]\n",
    "        # Sort by month (just in case)\n",
    "        df = df.sort_values(by='month')\n",
    "        # Create a trace for each year\n",
    "        color_palette = px.colors.qualitative.Pastel\n",
    "        trace = go.Scatter(\n",
    "            x=df['month'],  # Use the month as the x-axis\n",
    "            y=df['Inland Consumption'],  # Use \"Inland Consumption\" as the y-axis\n",
    "            line=dict(width=2, color=color_palette[idx % len(color_palette)]),  # Dynamic color for each year\n",
    "            mode='lines',\n",
    "            name=str(year),  # Use the year as the legend name\n",
    "            legendgroup=str(year),\n",
    "            showlegend=True\n",
    "        )\n",
    "\n",
    "        # Add the trace to the figure\n",
    "        fig.add_trace(trace)\n",
    "\n",
    "    # Update layout for better visualization\n",
    "    fig.update_layout(\n",
    "        title=\"Seasonality Plot of Romania's Inland Gas Consumption\",\n",
    "        title_x = 0.5,\n",
    "        xaxis_title=\"Month\",\n",
    "        yaxis_title=\"Million cubic meters\",\n",
    "        legend_title=\"Year\",\n",
    "        template=\"plotly_white\",\n",
    "        width=1000,\n",
    "        height=600,\n",
    "        xaxis=dict(\n",
    "            tickmode='array',  # Use custom tick labels\n",
    "            tickvals=list(range(1, 13)),  # Months 1 to 12\n",
    "            ticktext=['Jan', 'Feb', 'Mar', 'Apr', 'May', 'Jun', 'Jul', 'Aug', 'Sep', 'Oct', 'Nov', 'Dec']  # Month names\n",
    "        )\n",
    "    )\n",
    "\n",
    "    # Show the plot\n",
    "    fig.show()\n",
    "\n",
    "# Call the function with your DataFrame\n",
    "plot_seasonal(data)"
   ]
  },
  {
   "cell_type": "code",
   "execution_count": 6,
   "metadata": {},
   "outputs": [
    {
     "data": {
      "image/png": "[encoded data removed]",
      "text/plain": [
       "<Figure size 640x480 with 4 Axes>"
      ]
     },
     "metadata": {},
     "output_type": "display_data"
    },
    {
     "data": {
      "image/png": "[encoded data removed]",
      "text/plain": [
       "<Figure size 640x480 with 1 Axes>"
      ]
     },
     "metadata": {},
     "output_type": "display_data"
    },
    {
     "name": "stdout",
     "output_type": "stream",
     "text": [
      "Date\n",
      "2014-01-01    980.861548\n",
      "2014-02-01    977.666764\n",
      "2014-03-01    974.471979\n",
      "2014-04-01    971.277195\n",
      "2014-05-01    968.082411\n",
      "                 ...    \n",
      "2024-09-01    816.974699\n",
      "2024-10-01    818.162490\n",
      "2024-11-01    819.350282\n",
      "2024-12-01    820.538073\n",
      "2025-01-01    821.725864\n",
      "Freq: MS, Name: trend, Length: 133, dtype: float64\n"
     ]
    }
   ],
   "source": [
    "import matplotlib.pyplot as plt\n",
    "import statsmodels.api as sm\n",
    "from statsmodels.tsa.seasonal import seasonal_decompose\n",
    "from statsmodels.graphics.tsaplots import plot_acf\n",
    "\n",
    "# Assuming your DataFrame 'data' is already loaded and prepared\n",
    "\n",
    "# Seasonal Decomposition\n",
    "decomposition = seasonal_decompose(data[\"Inland Consumption\"], model=\"additive\", extrapolate_trend='freq') #or multiplicative if needed\n",
    "decomposition.plot()\n",
    "plt.show()\n",
    "\n",
    "trend=decomposition.trend\n",
    "\n",
    "\n",
    "# Monthly boxplots to see seasonal variation\n",
    "data['month'] = data.index.month\n",
    "data.boxplot(column='Inland Consumption', by='month')\n",
    "plt.show()\n",
    "\n",
    "print(trend)"
   ]
  },
  {
   "cell_type": "code",
   "execution_count": 7,
   "metadata": {},
   "outputs": [
    {
     "name": "stdout",
     "output_type": "stream",
     "text": [
      "   Augmented Dickey-Fuller Results   \n",
      "=====================================\n",
      "Test Statistic                 -1.374\n",
      "P-value                         0.868\n",
      "Lags                               12\n",
      "-------------------------------------\n",
      "\n",
      "Trend: Constant and Linear Time Trend\n",
      "Critical Values: -4.04 (1%), -3.45 (5%), -3.15 (10%)\n",
      "Null Hypothesis: The process contains a unit root.\n",
      "Alternative Hypothesis: The process is weakly stationary.\n"
     ]
    }
   ],
   "source": [
    "from arch.unitroot import ADF, DFGLS, PhillipsPerron, KPSS\n",
    "\n",
    "adf = ADF(data['Inland Consumption'], trend='ct', lags=12)\n",
    "\n",
    "print(adf.summary().as_text())\n",
    "\n",
    "# We already know that the data is non-stationary, so we will apply differencing"
   ]
  },
  {
   "cell_type": "code",
   "execution_count": 8,
   "metadata": {},
   "outputs": [
    {
     "data": {
      "application/vnd.microsoft.datawrangler.viewer.v0+json": {
       "columns": [
        {
         "name": "Date",
         "rawType": "datetime64[ns]",
         "type": "datetime"
        },
        {
         "name": "Inland Consumption",
         "rawType": "float64",
         "type": "float"
        },
        {
         "name": "year",
         "rawType": "float64",
         "type": "float"
        },
        {
         "name": "month",
         "rawType": "float64",
         "type": "float"
        }
       ],
       "conversionMethod": "pd.DataFrame",
       "ref": "c1126b27-9f0b-450f-ad15-c80adce351a1",
       "rows": [
        [
         "2016-01-01 00:00:00",
         "97.0",
         "0.0",
         "0.0"
        ],
        [
         "2016-02-01 00:00:00",
         "-5.0",
         "0.0",
         "0.0"
        ],
        [
         "2016-03-01 00:00:00",
         "-213.0",
         "0.0",
         "0.0"
        ],
        [
         "2016-04-01 00:00:00",
         "-19.0",
         "0.0",
         "0.0"
        ],
        [
         "2016-05-01 00:00:00",
         "-8.0",
         "0.0",
         "0.0"
        ],
        [
         "2016-06-01 00:00:00",
         "60.0",
         "0.0",
         "0.0"
        ],
        [
         "2016-07-01 00:00:00",
         "-55.0",
         "0.0",
         "0.0"
        ],
        [
         "2016-08-01 00:00:00",
         "-68.0",
         "0.0",
         "0.0"
        ],
        [
         "2016-09-01 00:00:00",
         "233.0",
         "0.0",
         "0.0"
        ],
        [
         "2016-10-01 00:00:00",
         "-36.0",
         "0.0",
         "0.0"
        ],
        [
         "2016-11-01 00:00:00",
         "381.0",
         "0.0",
         "0.0"
        ],
        [
         "2016-12-01 00:00:00",
         "173.0",
         "0.0",
         "0.0"
        ],
        [
         "2017-01-01 00:00:00",
         "315.0",
         "0.0",
         "0.0"
        ],
        [
         "2017-02-01 00:00:00",
         "379.0",
         "0.0",
         "0.0"
        ],
        [
         "2017-03-01 00:00:00",
         "163.0",
         "0.0",
         "0.0"
        ],
        [
         "2017-04-01 00:00:00",
         "228.0",
         "0.0",
         "0.0"
        ],
        [
         "2017-05-01 00:00:00",
         "111.0",
         "0.0",
         "0.0"
        ],
        [
         "2017-06-01 00:00:00",
         "301.0",
         "0.0",
         "0.0"
        ],
        [
         "2017-07-01 00:00:00",
         "149.0",
         "0.0",
         "0.0"
        ],
        [
         "2017-08-01 00:00:00",
         "114.0",
         "0.0",
         "0.0"
        ],
        [
         "2017-09-01 00:00:00",
         "-215.0",
         "0.0",
         "0.0"
        ],
        [
         "2017-10-01 00:00:00",
         "-262.0",
         "0.0",
         "0.0"
        ],
        [
         "2017-11-01 00:00:00",
         "-313.0",
         "0.0",
         "0.0"
        ],
        [
         "2017-12-01 00:00:00",
         "-280.0",
         "0.0",
         "0.0"
        ],
        [
         "2018-01-01 00:00:00",
         "-822.0",
         "0.0",
         "0.0"
        ],
        [
         "2018-02-01 00:00:00",
         "157.0",
         "0.0",
         "0.0"
        ],
        [
         "2018-03-01 00:00:00",
         "309.0",
         "0.0",
         "0.0"
        ],
        [
         "2018-04-01 00:00:00",
         "-377.0",
         "0.0",
         "0.0"
        ],
        [
         "2018-05-01 00:00:00",
         "-179.0",
         "0.0",
         "0.0"
        ],
        [
         "2018-06-01 00:00:00",
         "-373.0",
         "0.0",
         "0.0"
        ],
        [
         "2018-07-01 00:00:00",
         "-187.0",
         "0.0",
         "0.0"
        ],
        [
         "2018-08-01 00:00:00",
         "-177.0",
         "0.0",
         "0.0"
        ],
        [
         "2018-09-01 00:00:00",
         "-26.0",
         "0.0",
         "0.0"
        ],
        [
         "2018-10-01 00:00:00",
         "-19.0",
         "0.0",
         "0.0"
        ],
        [
         "2018-11-01 00:00:00",
         "141.0",
         "0.0",
         "0.0"
        ],
        [
         "2018-12-01 00:00:00",
         "361.0",
         "0.0",
         "0.0"
        ],
        [
         "2019-01-01 00:00:00",
         "1024.0",
         "0.0",
         "0.0"
        ],
        [
         "2019-02-01 00:00:00",
         "-827.0",
         "0.0",
         "0.0"
        ],
        [
         "2019-03-01 00:00:00",
         "-677.0",
         "0.0",
         "0.0"
        ],
        [
         "2019-04-01 00:00:00",
         "466.0",
         "0.0",
         "0.0"
        ],
        [
         "2019-05-01 00:00:00",
         "157.0",
         "0.0",
         "0.0"
        ],
        [
         "2019-06-01 00:00:00",
         "10.0",
         "0.0",
         "0.0"
        ],
        [
         "2019-07-01 00:00:00",
         "94.0",
         "0.0",
         "0.0"
        ],
        [
         "2019-08-01 00:00:00",
         "94.0",
         "0.0",
         "0.0"
        ],
        [
         "2019-09-01 00:00:00",
         "80.0",
         "0.0",
         "0.0"
        ],
        [
         "2019-10-01 00:00:00",
         "119.0",
         "0.0",
         "0.0"
        ],
        [
         "2019-11-01 00:00:00",
         "-331.0",
         "0.0",
         "0.0"
        ],
        [
         "2019-12-01 00:00:00",
         "-624.0",
         "0.0",
         "0.0"
        ],
        [
         "2020-01-01 00:00:00",
         "-653.0",
         "0.0",
         "0.0"
        ],
        [
         "2020-02-01 00:00:00",
         "340.0",
         "0.0",
         "0.0"
        ]
       ],
       "shape": {
        "columns": 3,
        "rows": 109
       }
      },
      "text/html": [
       "<div>\n",
       "<style scoped>\n",
       "    .dataframe tbody tr th:only-of-type {\n",
       "        vertical-align: middle;\n",
       "    }\n",
       "\n",
       "    .dataframe tbody tr th {\n",
       "        vertical-align: top;\n",
       "    }\n",
       "\n",
       "    .dataframe thead th {\n",
       "        text-align: right;\n",
       "    }\n",
       "</style>\n",
       "<table border=\"1\" class=\"dataframe\">\n",
       "  <thead>\n",
       "    <tr style=\"text-align: right;\">\n",
       "      <th></th>\n",
       "      <th>Inland Consumption</th>\n",
       "      <th>year</th>\n",
       "      <th>month</th>\n",
       "    </tr>\n",
       "    <tr>\n",
       "      <th>Date</th>\n",
       "      <th></th>\n",
       "      <th></th>\n",
       "      <th></th>\n",
       "    </tr>\n",
       "  </thead>\n",
       "  <tbody>\n",
       "    <tr>\n",
       "      <th>2016-01-01</th>\n",
       "      <td>97.0</td>\n",
       "      <td>0.0</td>\n",
       "      <td>0.0</td>\n",
       "    </tr>\n",
       "    <tr>\n",
       "      <th>2016-02-01</th>\n",
       "      <td>-5.0</td>\n",
       "      <td>0.0</td>\n",
       "      <td>0.0</td>\n",
       "    </tr>\n",
       "    <tr>\n",
       "      <th>2016-03-01</th>\n",
       "      <td>-213.0</td>\n",
       "      <td>0.0</td>\n",
       "      <td>0.0</td>\n",
       "    </tr>\n",
       "    <tr>\n",
       "      <th>2016-04-01</th>\n",
       "      <td>-19.0</td>\n",
       "      <td>0.0</td>\n",
       "      <td>0.0</td>\n",
       "    </tr>\n",
       "    <tr>\n",
       "      <th>2016-05-01</th>\n",
       "      <td>-8.0</td>\n",
       "      <td>0.0</td>\n",
       "      <td>0.0</td>\n",
       "    </tr>\n",
       "    <tr>\n",
       "      <th>...</th>\n",
       "      <td>...</td>\n",
       "      <td>...</td>\n",
       "      <td>...</td>\n",
       "    </tr>\n",
       "    <tr>\n",
       "      <th>2024-09-01</th>\n",
       "      <td>63.0</td>\n",
       "      <td>0.0</td>\n",
       "      <td>0.0</td>\n",
       "    </tr>\n",
       "    <tr>\n",
       "      <th>2024-10-01</th>\n",
       "      <td>101.0</td>\n",
       "      <td>0.0</td>\n",
       "      <td>0.0</td>\n",
       "    </tr>\n",
       "    <tr>\n",
       "      <th>2024-11-01</th>\n",
       "      <td>32.0</td>\n",
       "      <td>0.0</td>\n",
       "      <td>0.0</td>\n",
       "    </tr>\n",
       "    <tr>\n",
       "      <th>2024-12-01</th>\n",
       "      <td>-82.0</td>\n",
       "      <td>0.0</td>\n",
       "      <td>0.0</td>\n",
       "    </tr>\n",
       "    <tr>\n",
       "      <th>2025-01-01</th>\n",
       "      <td>-376.0</td>\n",
       "      <td>0.0</td>\n",
       "      <td>0.0</td>\n",
       "    </tr>\n",
       "  </tbody>\n",
       "</table>\n",
       "<p>109 rows × 3 columns</p>\n",
       "</div>"
      ],
      "text/plain": [
       "            Inland Consumption  year  month\n",
       "Date                                       \n",
       "2016-01-01                97.0   0.0    0.0\n",
       "2016-02-01                -5.0   0.0    0.0\n",
       "2016-03-01              -213.0   0.0    0.0\n",
       "2016-04-01               -19.0   0.0    0.0\n",
       "2016-05-01                -8.0   0.0    0.0\n",
       "...                        ...   ...    ...\n",
       "2024-09-01                63.0   0.0    0.0\n",
       "2024-10-01               101.0   0.0    0.0\n",
       "2024-11-01                32.0   0.0    0.0\n",
       "2024-12-01               -82.0   0.0    0.0\n",
       "2025-01-01              -376.0   0.0    0.0\n",
       "\n",
       "[109 rows x 3 columns]"
      ]
     },
     "execution_count": 8,
     "metadata": {},
     "output_type": "execute_result"
    }
   ],
   "source": [
    "#Differentiate monthly seasonality for the first order\n",
    "data_diff = data.diff(periods=12).dropna()\n",
    "data_diff\n",
    "\n",
    "#Differentiate sesaonality for the second order\n",
    "data_diff2 = data_diff.diff(periods=12).dropna()\n",
    "data_diff2"
   ]
  },
  {
   "cell_type": "code",
   "execution_count": 28,
   "metadata": {},
   "outputs": [
    {
     "data": {
      "application/vnd.plotly.v1+json": {
       "config": {
        "plotlyServerURL": "https://plot.ly"
       },
       "data": [
        {
         "mode": "lines",
         "type": "scatter",
         "x": [
          "2015-01-01T00:00:00.000000000",
          "2015-02-01T00:00:00.000000000",
          "2015-03-01T00:00:00.000000000",
          "2015-04-01T00:00:00.000000000",
          "2015-05-01T00:00:00.000000000",
          "2015-06-01T00:00:00.000000000",
          "2015-07-01T00:00:00.000000000",
          "2015-08-01T00:00:00.000000000",
          "2015-09-01T00:00:00.000000000",
          "2015-10-01T00:00:00.000000000",
          "2015-11-01T00:00:00.000000000",
          "2015-12-01T00:00:00.000000000",
          "2016-01-01T00:00:00.000000000",
          "2016-02-01T00:00:00.000000000",
          "2016-03-01T00:00:00.000000000",
          "2016-04-01T00:00:00.000000000",
          "2016-05-01T00:00:00.000000000",
          "2016-06-01T00:00:00.000000000",
          "2016-07-01T00:00:00.000000000",
          "2016-08-01T00:00:00.000000000",
          "2016-09-01T00:00:00.000000000",
          "2016-10-01T00:00:00.000000000",
          "2016-11-01T00:00:00.000000000",
          "2016-12-01T00:00:00.000000000",
          "2017-01-01T00:00:00.000000000",
          "2017-02-01T00:00:00.000000000",
          "2017-03-01T00:00:00.000000000",
          "2017-04-01T00:00:00.000000000",
          "2017-05-01T00:00:00.000000000",
          "2017-06-01T00:00:00.000000000",
          "2017-07-01T00:00:00.000000000",
          "2017-08-01T00:00:00.000000000",
          "2017-09-01T00:00:00.000000000",
          "2017-10-01T00:00:00.000000000",
          "2017-11-01T00:00:00.000000000",
          "2017-12-01T00:00:00.000000000",
          "2018-01-01T00:00:00.000000000",
          "2018-02-01T00:00:00.000000000",
          "2018-03-01T00:00:00.000000000",
          "2018-04-01T00:00:00.000000000",
          "2018-05-01T00:00:00.000000000",
          "2018-06-01T00:00:00.000000000",
          "2018-07-01T00:00:00.000000000",
          "2018-08-01T00:00:00.000000000",
          "2018-09-01T00:00:00.000000000",
          "2018-10-01T00:00:00.000000000",
          "2018-11-01T00:00:00.000000000",
          "2018-12-01T00:00:00.000000000",
          "2019-01-01T00:00:00.000000000",
          "2019-02-01T00:00:00.000000000",
          "2019-03-01T00:00:00.000000000",
          "2019-04-01T00:00:00.000000000",
          "2019-05-01T00:00:00.000000000",
          "2019-06-01T00:00:00.000000000",
          "2019-07-01T00:00:00.000000000",
          "2019-08-01T00:00:00.000000000",
          "2019-09-01T00:00:00.000000000",
          "2019-10-01T00:00:00.000000000",
          "2019-11-01T00:00:00.000000000",
          "2019-12-01T00:00:00.000000000",
          "2020-01-01T00:00:00.000000000",
          "2020-02-01T00:00:00.000000000",
          "2020-03-01T00:00:00.000000000",
          "2020-04-01T00:00:00.000000000",
          "2020-05-01T00:00:00.000000000",
          "2020-06-01T00:00:00.000000000",
          "2020-07-01T00:00:00.000000000",
          "2020-08-01T00:00:00.000000000",
          "2020-09-01T00:00:00.000000000",
          "2020-10-01T00:00:00.000000000",
          "2020-11-01T00:00:00.000000000",
          "2020-12-01T00:00:00.000000000",
          "2021-01-01T00:00:00.000000000",
          "2021-02-01T00:00:00.000000000",
          "2021-03-01T00:00:00.000000000",
          "2021-04-01T00:00:00.000000000",
          "2021-05-01T00:00:00.000000000",
          "2021-06-01T00:00:00.000000000",
          "2021-07-01T00:00:00.000000000",
          "2021-08-01T00:00:00.000000000",
          "2021-09-01T00:00:00.000000000",
          "2021-10-01T00:00:00.000000000",
          "2021-11-01T00:00:00.000000000",
          "2021-12-01T00:00:00.000000000",
          "2022-01-01T00:00:00.000000000",
          "2022-02-01T00:00:00.000000000",
          "2022-03-01T00:00:00.000000000",
          "2022-04-01T00:00:00.000000000",
          "2022-05-01T00:00:00.000000000",
          "2022-06-01T00:00:00.000000000",
          "2022-07-01T00:00:00.000000000",
          "2022-08-01T00:00:00.000000000",
          "2022-09-01T00:00:00.000000000",
          "2022-10-01T00:00:00.000000000",
          "2022-11-01T00:00:00.000000000",
          "2022-12-01T00:00:00.000000000",
          "2023-01-01T00:00:00.000000000",
          "2023-02-01T00:00:00.000000000",
          "2023-03-01T00:00:00.000000000",
          "2023-04-01T00:00:00.000000000",
          "2023-05-01T00:00:00.000000000",
          "2023-06-01T00:00:00.000000000",
          "2023-07-01T00:00:00.000000000",
          "2023-08-01T00:00:00.000000000",
          "2023-09-01T00:00:00.000000000",
          "2023-10-01T00:00:00.000000000",
          "2023-11-01T00:00:00.000000000",
          "2023-12-01T00:00:00.000000000",
          "2024-01-01T00:00:00.000000000",
          "2024-02-01T00:00:00.000000000",
          "2024-03-01T00:00:00.000000000",
          "2024-04-01T00:00:00.000000000",
          "2024-05-01T00:00:00.000000000",
          "2024-06-01T00:00:00.000000000",
          "2024-07-01T00:00:00.000000000",
          "2024-08-01T00:00:00.000000000",
          "2024-09-01T00:00:00.000000000",
          "2024-10-01T00:00:00.000000000",
          "2024-11-01T00:00:00.000000000",
          "2024-12-01T00:00:00.000000000",
          "2025-01-01T00:00:00.000000000"
         ],
         "y": {
          "bdata": "AAAAAACASMAAAAAAAABXwAAAAAAAAFpAAAAAAACAVcAAAAAAAABOwAAAAAAAwGbAAAAAAACAQcAAAAAAAAAUQAAAAAAAAFfAAAAAAADAaUAAAAAAAOBgwAAAAAAAgE5AAAAAAAAASEAAAAAAAEBYwAAAAAAAQFvAAAAAAABAWsAAAAAAAABRwAAAAAAAgF7AAAAAAACAVsAAAAAAAIBPwAAAAAAAoGFAAAAAAABAZUAAAAAAAMBuQAAAAAAAQG1AAAAAAACwdkAAAAAAAKBxQAAAAAAAAEtAAAAAAADAXkAAAAAAAIBFQAAAAAAAYGZAAAAAAACATUAAAAAAAIBJQAAAAAAAgFLAAAAAAAAAV8AAAAAAAMBQwAAAAAAAAEfAAAAAAACwfMAAAAAAAHB7QAAAAAAAsHZAAAAAAADAb8AAAAAAAABhwAAAAAAAQGjAAAAAAAAAYMAAAAAAAIBfwAAAAAAAAFnAAAAAAADAW8AAAAAAAIBSQAAAAAAAsHNAAAAAAACogUAAAAAAAEB4wAAAAAAAoHPAAAAAAACAakAAAAAAAAA1QAAAAAAAAGfAAAAAAAAAQcAAAAAAAABAwAAAAAAAADTAAAAAAAAAIEAAAAAAABBwwAAAAAAAUHPAAAAAAAAAVsAAAAAAAABIwAAAAAAAABDAAAAAAACATMAAAAAAAAA4QAAAAAAAgGdAAAAAAACAW0AAAAAAAEBUQAAAAAAAAEVAAAAAAAAAT8AAAAAAALByQAAAAAAAgFtAAAAAAACAXsAAAAAAAIBOQAAAAAAAoHNAAAAAAACAb0AAAAAAAAAuQAAAAAAAgEHAAAAAAAAAWMAAAAAAAIBawAAAAAAAgEvAAAAAAADgZEAAAAAAAMBhwAAAAAAAADPAAAAAAACATcAAAAAAAGBowAAAAAAAIGzAAAAAAABgc8AAAAAAAABEwAAAAAAAAELAAAAAAAAATcAAAAAAAEBSwAAAAAAAgFXAAAAAAADwc8AAAAAAAIBuwAAAAAAAQG3AAAAAAACAcsAAAAAAAIBCQAAAAAAAYG7AAAAAAAAAOUAAAAAAAMBZwAAAAAAAoGDAAAAAAAAAQMAAAAAAAAA8wAAAAAAAgE3AAAAAAAAALMAAAAAAAIBdQAAAAAAAwFRAAAAAAAAwcEAAAAAAAMBjwAAAAAAAwFhAAAAAAACgasAAAAAAAADwvwAAAAAAgExAAAAAAAAASEAAAAAAAAA6QAAAAAAAABBAAAAAAADAVUAAAAAAAMBiQAAAAAAAAPA/AAAAAABAXcA=",
          "dtype": "f8"
         }
        }
       ],
       "layout": {
        "template": {
         "data": {
          "bar": [
           {
            "error_x": {
             "color": "#2a3f5f"
            },
            "error_y": {
             "color": "#2a3f5f"
            },
            "marker": {
             "line": {
              "color": "white",
              "width": 0.5
             },
             "pattern": {
              "fillmode": "overlay",
              "size": 10,
              "solidity": 0.2
             }
            },
            "type": "bar"
           }
          ],
          "barpolar": [
           {
            "marker": {
             "line": {
              "color": "white",
              "width": 0.5
             },
             "pattern": {
              "fillmode": "overlay",
              "size": 10,
              "solidity": 0.2
             }
            },
            "type": "barpolar"
           }
          ],
          "carpet": [
           {
            "aaxis": {
             "endlinecolor": "#2a3f5f",
             "gridcolor": "#C8D4E3",
             "linecolor": "#C8D4E3",
             "minorgridcolor": "#C8D4E3",
             "startlinecolor": "#2a3f5f"
            },
            "baxis": {
             "endlinecolor": "#2a3f5f",
             "gridcolor": "#C8D4E3",
             "linecolor": "#C8D4E3",
             "minorgridcolor": "#C8D4E3",
             "startlinecolor": "#2a3f5f"
            },
            "type": "carpet"
           }
          ],
          "choropleth": [
           {
            "colorbar": {
             "outlinewidth": 0,
             "ticks": ""
            },
            "type": "choropleth"
           }
          ],
          "contour": [
           {
            "colorbar": {
             "outlinewidth": 0,
             "ticks": ""
            },
            "colorscale": [
             [
              0,
              "#0d0887"
             ],
             [
              0.1111111111111111,
              "#46039f"
             ],
             [
              0.2222222222222222,
              "#7201a8"
             ],
             [
              0.3333333333333333,
              "#9c179e"
             ],
             [
              0.4444444444444444,
              "#bd3786"
             ],
             [
              0.5555555555555556,
              "#d8576b"
             ],
             [
              0.6666666666666666,
              "#ed7953"
             ],
             [
              0.7777777777777778,
              "#fb9f3a"
             ],
             [
              0.8888888888888888,
              "#fdca26"
             ],
             [
              1,
              "#f0f921"
             ]
            ],
            "type": "contour"
           }
          ],
          "contourcarpet": [
           {
            "colorbar": {
             "outlinewidth": 0,
             "ticks": ""
            },
            "type": "contourcarpet"
           }
          ],
          "heatmap": [
           {
            "colorbar": {
             "outlinewidth": 0,
             "ticks": ""
            },
            "colorscale": [
             [
              0,
              "#0d0887"
             ],
             [
              0.1111111111111111,
              "#46039f"
             ],
             [
              0.2222222222222222,
              "#7201a8"
             ],
             [
              0.3333333333333333,
              "#9c179e"
             ],
             [
              0.4444444444444444,
              "#bd3786"
             ],
             [
              0.5555555555555556,
              "#d8576b"
             ],
             [
              0.6666666666666666,
              "#ed7953"
             ],
             [
              0.7777777777777778,
              "#fb9f3a"
             ],
             [
              0.8888888888888888,
              "#fdca26"
             ],
             [
              1,
              "#f0f921"
             ]
            ],
            "type": "heatmap"
           }
          ],
          "histogram": [
           {
            "marker": {
             "pattern": {
              "fillmode": "overlay",
              "size": 10,
              "solidity": 0.2
             }
            },
            "type": "histogram"
           }
          ],
          "histogram2d": [
           {
            "colorbar": {
             "outlinewidth": 0,
             "ticks": ""
            },
            "colorscale": [
             [
              0,
              "#0d0887"
             ],
             [
              0.1111111111111111,
              "#46039f"
             ],
             [
              0.2222222222222222,
              "#7201a8"
             ],
             [
              0.3333333333333333,
              "#9c179e"
             ],
             [
              0.4444444444444444,
              "#bd3786"
             ],
             [
              0.5555555555555556,
              "#d8576b"
             ],
             [
              0.6666666666666666,
              "#ed7953"
             ],
             [
              0.7777777777777778,
              "#fb9f3a"
             ],
             [
              0.8888888888888888,
              "#fdca26"
             ],
             [
              1,
              "#f0f921"
             ]
            ],
            "type": "histogram2d"
           }
          ],
          "histogram2dcontour": [
           {
            "colorbar": {
             "outlinewidth": 0,
             "ticks": ""
            },
            "colorscale": [
             [
              0,
              "#0d0887"
             ],
             [
              0.1111111111111111,
              "#46039f"
             ],
             [
              0.2222222222222222,
              "#7201a8"
             ],
             [
              0.3333333333333333,
              "#9c179e"
             ],
             [
              0.4444444444444444,
              "#bd3786"
             ],
             [
              0.5555555555555556,
              "#d8576b"
             ],
             [
              0.6666666666666666,
              "#ed7953"
             ],
             [
              0.7777777777777778,
              "#fb9f3a"
             ],
             [
              0.8888888888888888,
              "#fdca26"
             ],
             [
              1,
              "#f0f921"
             ]
            ],
            "type": "histogram2dcontour"
           }
          ],
          "mesh3d": [
           {
            "colorbar": {
             "outlinewidth": 0,
             "ticks": ""
            },
            "type": "mesh3d"
           }
          ],
          "parcoords": [
           {
            "line": {
             "colorbar": {
              "outlinewidth": 0,
              "ticks": ""
             }
            },
            "type": "parcoords"
           }
          ],
          "pie": [
           {
            "automargin": true,
            "type": "pie"
           }
          ],
          "scatter": [
           {
            "fillpattern": {
             "fillmode": "overlay",
             "size": 10,
             "solidity": 0.2
            },
            "type": "scatter"
           }
          ],
          "scatter3d": [
           {
            "line": {
             "colorbar": {
              "outlinewidth": 0,
              "ticks": ""
             }
            },
            "marker": {
             "colorbar": {
              "outlinewidth": 0,
              "ticks": ""
             }
            },
            "type": "scatter3d"
           }
          ],
          "scattercarpet": [
           {
            "marker": {
             "colorbar": {
              "outlinewidth": 0,
              "ticks": ""
             }
            },
            "type": "scattercarpet"
           }
          ],
          "scattergeo": [
           {
            "marker": {
             "colorbar": {
              "outlinewidth": 0,
              "ticks": ""
             }
            },
            "type": "scattergeo"
           }
          ],
          "scattergl": [
           {
            "marker": {
             "colorbar": {
              "outlinewidth": 0,
              "ticks": ""
             }
            },
            "type": "scattergl"
           }
          ],
          "scattermap": [
           {
            "marker": {
             "colorbar": {
              "outlinewidth": 0,
              "ticks": ""
             }
            },
            "type": "scattermap"
           }
          ],
          "scattermapbox": [
           {
            "marker": {
             "colorbar": {
              "outlinewidth": 0,
              "ticks": ""
             }
            },
            "type": "scattermapbox"
           }
          ],
          "scatterpolar": [
           {
            "marker": {
             "colorbar": {
              "outlinewidth": 0,
              "ticks": ""
             }
            },
            "type": "scatterpolar"
           }
          ],
          "scatterpolargl": [
           {
            "marker": {
             "colorbar": {
              "outlinewidth": 0,
              "ticks": ""
             }
            },
            "type": "scatterpolargl"
           }
          ],
          "scatterternary": [
           {
            "marker": {
             "colorbar": {
              "outlinewidth": 0,
              "ticks": ""
             }
            },
            "type": "scatterternary"
           }
          ],
          "surface": [
           {
            "colorbar": {
             "outlinewidth": 0,
             "ticks": ""
            },
            "colorscale": [
             [
              0,
              "#0d0887"
             ],
             [
              0.1111111111111111,
              "#46039f"
             ],
             [
              0.2222222222222222,
              "#7201a8"
             ],
             [
              0.3333333333333333,
              "#9c179e"
             ],
             [
              0.4444444444444444,
              "#bd3786"
             ],
             [
              0.5555555555555556,
              "#d8576b"
             ],
             [
              0.6666666666666666,
              "#ed7953"
             ],
             [
              0.7777777777777778,
              "#fb9f3a"
             ],
             [
              0.8888888888888888,
              "#fdca26"
             ],
             [
              1,
              "#f0f921"
             ]
            ],
            "type": "surface"
           }
          ],
          "table": [
           {
            "cells": {
             "fill": {
              "color": "#EBF0F8"
             },
             "line": {
              "color": "white"
             }
            },
            "header": {
             "fill": {
              "color": "#C8D4E3"
             },
             "line": {
              "color": "white"
             }
            },
            "type": "table"
           }
          ]
         },
         "layout": {
          "annotationdefaults": {
           "arrowcolor": "#2a3f5f",
           "arrowhead": 0,
           "arrowwidth": 1
          },
          "autotypenumbers": "strict",
          "coloraxis": {
           "colorbar": {
            "outlinewidth": 0,
            "ticks": ""
           }
          },
          "colorscale": {
           "diverging": [
            [
             0,
             "#8e0152"
            ],
            [
             0.1,
             "#c51b7d"
            ],
            [
             0.2,
             "#de77ae"
            ],
            [
             0.3,
             "#f1b6da"
            ],
            [
             0.4,
             "#fde0ef"
            ],
            [
             0.5,
             "#f7f7f7"
            ],
            [
             0.6,
             "#e6f5d0"
            ],
            [
             0.7,
             "#b8e186"
            ],
            [
             0.8,
             "#7fbc41"
            ],
            [
             0.9,
             "#4d9221"
            ],
            [
             1,
             "#276419"
            ]
           ],
           "sequential": [
            [
             0,
             "#0d0887"
            ],
            [
             0.1111111111111111,
             "#46039f"
            ],
            [
             0.2222222222222222,
             "#7201a8"
            ],
            [
             0.3333333333333333,
             "#9c179e"
            ],
            [
             0.4444444444444444,
             "#bd3786"
            ],
            [
             0.5555555555555556,
             "#d8576b"
            ],
            [
             0.6666666666666666,
             "#ed7953"
            ],
            [
             0.7777777777777778,
             "#fb9f3a"
            ],
            [
             0.8888888888888888,
             "#fdca26"
            ],
            [
             1,
             "#f0f921"
            ]
           ],
           "sequentialminus": [
            [
             0,
             "#0d0887"
            ],
            [
             0.1111111111111111,
             "#46039f"
            ],
            [
             0.2222222222222222,
             "#7201a8"
            ],
            [
             0.3333333333333333,
             "#9c179e"
            ],
            [
             0.4444444444444444,
             "#bd3786"
            ],
            [
             0.5555555555555556,
             "#d8576b"
            ],
            [
             0.6666666666666666,
             "#ed7953"
            ],
            [
             0.7777777777777778,
             "#fb9f3a"
            ],
            [
             0.8888888888888888,
             "#fdca26"
            ],
            [
             1,
             "#f0f921"
            ]
           ]
          },
          "colorway": [
           "#636efa",
           "#EF553B",
           "#00cc96",
           "#ab63fa",
           "#FFA15A",
           "#19d3f3",
           "#FF6692",
           "#B6E880",
           "#FF97FF",
           "#FECB52"
          ],
          "font": {
           "color": "#2a3f5f"
          },
          "geo": {
           "bgcolor": "white",
           "lakecolor": "white",
           "landcolor": "white",
           "showlakes": true,
           "showland": true,
           "subunitcolor": "#C8D4E3"
          },
          "hoverlabel": {
           "align": "left"
          },
          "hovermode": "closest",
          "mapbox": {
           "style": "light"
          },
          "paper_bgcolor": "white",
          "plot_bgcolor": "white",
          "polar": {
           "angularaxis": {
            "gridcolor": "#EBF0F8",
            "linecolor": "#EBF0F8",
            "ticks": ""
           },
           "bgcolor": "white",
           "radialaxis": {
            "gridcolor": "#EBF0F8",
            "linecolor": "#EBF0F8",
            "ticks": ""
           }
          },
          "scene": {
           "xaxis": {
            "backgroundcolor": "white",
            "gridcolor": "#DFE8F3",
            "gridwidth": 2,
            "linecolor": "#EBF0F8",
            "showbackground": true,
            "ticks": "",
            "zerolinecolor": "#EBF0F8"
           },
           "yaxis": {
            "backgroundcolor": "white",
            "gridcolor": "#DFE8F3",
            "gridwidth": 2,
            "linecolor": "#EBF0F8",
            "showbackground": true,
            "ticks": "",
            "zerolinecolor": "#EBF0F8"
           },
           "zaxis": {
            "backgroundcolor": "white",
            "gridcolor": "#DFE8F3",
            "gridwidth": 2,
            "linecolor": "#EBF0F8",
            "showbackground": true,
            "ticks": "",
            "zerolinecolor": "#EBF0F8"
           }
          },
          "shapedefaults": {
           "line": {
            "color": "#2a3f5f"
           }
          },
          "ternary": {
           "aaxis": {
            "gridcolor": "#DFE8F3",
            "linecolor": "#A2B1C6",
            "ticks": ""
           },
           "baxis": {
            "gridcolor": "#DFE8F3",
            "linecolor": "#A2B1C6",
            "ticks": ""
           },
           "bgcolor": "white",
           "caxis": {
            "gridcolor": "#DFE8F3",
            "linecolor": "#A2B1C6",
            "ticks": ""
           }
          },
          "title": {
           "x": 0.05
          },
          "xaxis": {
           "automargin": true,
           "gridcolor": "#EBF0F8",
           "linecolor": "#EBF0F8",
           "ticks": "",
           "title": {
            "standoff": 15
           },
           "zerolinecolor": "#EBF0F8",
           "zerolinewidth": 2
          },
          "yaxis": {
           "automargin": true,
           "gridcolor": "#EBF0F8",
           "linecolor": "#EBF0F8",
           "ticks": "",
           "title": {
            "standoff": 15
           },
           "zerolinecolor": "#EBF0F8",
           "zerolinewidth": 2
          }
         }
        },
        "title": {
         "text": "First Order Differencing",
         "x": 0.5
        },
        "xaxis": {
         "title": {
          "text": "Date"
         }
        },
        "yaxis": {
         "title": {
          "text": ""
         }
        }
       }
      },
      "text/html": [
       "<div>            <script src=\"https://cdnjs.cloudflare.com/ajax/libs/mathjax/2.7.5/MathJax.js?config=TeX-AMS-MML_SVG\"></script><script type=\"text/javascript\">if (window.MathJax && window.MathJax.Hub && window.MathJax.Hub.Config) {window.MathJax.Hub.Config({SVG: {font: \"STIX-Web\"}});}</script>                <script type=\"text/javascript\">window.PlotlyConfig = {MathJaxConfig: 'local'};</script>\n",
       "        <script charset=\"utf-8\" src=\"https://cdn.plot.ly/plotly-3.0.0.min.js\"></script>                <div id=\"22a10f5b-35c3-404f-b119-7b98e2177ec3\" class=\"plotly-graph-div\" style=\"height:525px; width:100%;\"></div>            <script type=\"text/javascript\">                window.PLOTLYENV=window.PLOTLYENV || {};                                if (document.getElementById(\"22a10f5b-35c3-404f-b119-7b98e2177ec3\")) {                    Plotly.newPlot(                        \"22a10f5b-35c3-404f-b119-7b98e2177ec3\",                        [{\"mode\":\"lines\",\"x\":[\"2015-01-01T00:00:00.000000000\",\"2015-02-01T00:00:00.000000000\",\"2015-03-01T00:00:00.000000000\",\"2015-04-01T00:00:00.000000000\",\"2015-05-01T00:00:00.000000000\",\"2015-06-01T00:00:00.000000000\",\"2015-07-01T00:00:00.000000000\",\"2015-08-01T00:00:00.000000000\",\"2015-09-01T00:00:00.000000000\",\"2015-10-01T00:00:00.000000000\",\"2015-11-01T00:00:00.000000000\",\"2015-12-01T00:00:00.000000000\",\"2016-01-01T00:00:00.000000000\",\"2016-02-01T00:00:00.000000000\",\"2016-03-01T00:00:00.000000000\",\"2016-04-01T00:00:00.000000000\",\"2016-05-01T00:00:00.000000000\",\"2016-06-01T00:00:00.000000000\",\"2016-07-01T00:00:00.000000000\",\"2016-08-01T00:00:00.000000000\",\"2016-09-01T00:00:00.000000000\",\"2016-10-01T00:00:00.000000000\",\"2016-11-01T00:00:00.000000000\",\"2016-12-01T00:00:00.000000000\",\"2017-01-01T00:00:00.000000000\",\"2017-02-01T00:00:00.000000000\",\"2017-03-01T00:00:00.000000000\",\"2017-04-01T00:00:00.000000000\",\"2017-05-01T00:00:00.000000000\",\"2017-06-01T00:00:00.000000000\",\"2017-07-01T00:00:00.000000000\",\"2017-08-01T00:00:00.000000000\",\"2017-09-01T00:00:00.000000000\",\"2017-10-01T00:00:00.000000000\",\"2017-11-01T00:00:00.000000000\",\"2017-12-01T00:00:00.000000000\",\"2018-01-01T00:00:00.000000000\",\"2018-02-01T00:00:00.000000000\",\"2018-03-01T00:00:00.000000000\",\"2018-04-01T00:00:00.000000000\",\"2018-05-01T00:00:00.000000000\",\"2018-06-01T00:00:00.000000000\",\"2018-07-01T00:00:00.000000000\",\"2018-08-01T00:00:00.000000000\",\"2018-09-01T00:00:00.000000000\",\"2018-10-01T00:00:00.000000000\",\"2018-11-01T00:00:00.000000000\",\"2018-12-01T00:00:00.000000000\",\"2019-01-01T00:00:00.000000000\",\"2019-02-01T00:00:00.000000000\",\"2019-03-01T00:00:00.000000000\",\"2019-04-01T00:00:00.000000000\",\"2019-05-01T00:00:00.000000000\",\"2019-06-01T00:00:00.000000000\",\"2019-07-01T00:00:00.000000000\",\"2019-08-01T00:00:00.000000000\",\"2019-09-01T00:00:00.000000000\",\"2019-10-01T00:00:00.000000000\",\"2019-11-01T00:00:00.000000000\",\"2019-12-01T00:00:00.000000000\",\"2020-01-01T00:00:00.000000000\",\"2020-02-01T00:00:00.000000000\",\"2020-03-01T00:00:00.000000000\",\"2020-04-01T00:00:00.000000000\",\"2020-05-01T00:00:00.000000000\",\"2020-06-01T00:00:00.000000000\",\"2020-07-01T00:00:00.000000000\",\"2020-08-01T00:00:00.000000000\",\"2020-09-01T00:00:00.000000000\",\"2020-10-01T00:00:00.000000000\",\"2020-11-01T00:00:00.000000000\",\"2020-12-01T00:00:00.000000000\",\"2021-01-01T00:00:00.000000000\",\"2021-02-01T00:00:00.000000000\",\"2021-03-01T00:00:00.000000000\",\"2021-04-01T00:00:00.000000000\",\"2021-05-01T00:00:00.000000000\",\"2021-06-01T00:00:00.000000000\",\"2021-07-01T00:00:00.000000000\",\"2021-08-01T00:00:00.000000000\",\"2021-09-01T00:00:00.000000000\",\"2021-10-01T00:00:00.000000000\",\"2021-11-01T00:00:00.000000000\",\"2021-12-01T00:00:00.000000000\",\"2022-01-01T00:00:00.000000000\",\"2022-02-01T00:00:00.000000000\",\"2022-03-01T00:00:00.000000000\",\"2022-04-01T00:00:00.000000000\",\"2022-05-01T00:00:00.000000000\",\"2022-06-01T00:00:00.000000000\",\"2022-07-01T00:00:00.000000000\",\"2022-08-01T00:00:00.000000000\",\"2022-09-01T00:00:00.000000000\",\"2022-10-01T00:00:00.000000000\",\"2022-11-01T00:00:00.000000000\",\"2022-12-01T00:00:00.000000000\",\"2023-01-01T00:00:00.000000000\",\"2023-02-01T00:00:00.000000000\",\"2023-03-01T00:00:00.000000000\",\"2023-04-01T00:00:00.000000000\",\"2023-05-01T00:00:00.000000000\",\"2023-06-01T00:00:00.000000000\",\"2023-07-01T00:00:00.000000000\",\"2023-08-01T00:00:00.000000000\",\"2023-09-01T00:00:00.000000000\",\"2023-10-01T00:00:00.000000000\",\"2023-11-01T00:00:00.000000000\",\"2023-12-01T00:00:00.000000000\",\"2024-01-01T00:00:00.000000000\",\"2024-02-01T00:00:00.000000000\",\"2024-03-01T00:00:00.000000000\",\"2024-04-01T00:00:00.000000000\",\"2024-05-01T00:00:00.000000000\",\"2024-06-01T00:00:00.000000000\",\"2024-07-01T00:00:00.000000000\",\"2024-08-01T00:00:00.000000000\",\"2024-09-01T00:00:00.000000000\",\"2024-10-01T00:00:00.000000000\",\"2024-11-01T00:00:00.000000000\",\"2024-12-01T00:00:00.000000000\",\"2025-01-01T00:00:00.000000000\"],\"y\":{\"dtype\":\"f8\",\"bdata\":\"AAAAAACASMAAAAAAAABXwAAAAAAAAFpAAAAAAACAVcAAAAAAAABOwAAAAAAAwGbAAAAAAACAQcAAAAAAAAAUQAAAAAAAAFfAAAAAAADAaUAAAAAAAOBgwAAAAAAAgE5AAAAAAAAASEAAAAAAAEBYwAAAAAAAQFvAAAAAAABAWsAAAAAAAABRwAAAAAAAgF7AAAAAAACAVsAAAAAAAIBPwAAAAAAAoGFAAAAAAABAZUAAAAAAAMBuQAAAAAAAQG1AAAAAAACwdkAAAAAAAKBxQAAAAAAAAEtAAAAAAADAXkAAAAAAAIBFQAAAAAAAYGZAAAAAAACATUAAAAAAAIBJQAAAAAAAgFLAAAAAAAAAV8AAAAAAAMBQwAAAAAAAAEfAAAAAAACwfMAAAAAAAHB7QAAAAAAAsHZAAAAAAADAb8AAAAAAAABhwAAAAAAAQGjAAAAAAAAAYMAAAAAAAIBfwAAAAAAAAFnAAAAAAADAW8AAAAAAAIBSQAAAAAAAsHNAAAAAAACogUAAAAAAAEB4wAAAAAAAoHPAAAAAAACAakAAAAAAAAA1QAAAAAAAAGfAAAAAAAAAQcAAAAAAAABAwAAAAAAAADTAAAAAAAAAIEAAAAAAABBwwAAAAAAAUHPAAAAAAAAAVsAAAAAAAABIwAAAAAAAABDAAAAAAACATMAAAAAAAAA4QAAAAAAAgGdAAAAAAACAW0AAAAAAAEBUQAAAAAAAAEVAAAAAAAAAT8AAAAAAALByQAAAAAAAgFtAAAAAAACAXsAAAAAAAIBOQAAAAAAAoHNAAAAAAACAb0AAAAAAAAAuQAAAAAAAgEHAAAAAAAAAWMAAAAAAAIBawAAAAAAAgEvAAAAAAADgZEAAAAAAAMBhwAAAAAAAADPAAAAAAACATcAAAAAAAGBowAAAAAAAIGzAAAAAAABgc8AAAAAAAABEwAAAAAAAAELAAAAAAAAATcAAAAAAAEBSwAAAAAAAgFXAAAAAAADwc8AAAAAAAIBuwAAAAAAAQG3AAAAAAACAcsAAAAAAAIBCQAAAAAAAYG7AAAAAAAAAOUAAAAAAAMBZwAAAAAAAoGDAAAAAAAAAQMAAAAAAAAA8wAAAAAAAgE3AAAAAAAAALMAAAAAAAIBdQAAAAAAAwFRAAAAAAAAwcEAAAAAAAMBjwAAAAAAAwFhAAAAAAACgasAAAAAAAADwvwAAAAAAgExAAAAAAAAASEAAAAAAAAA6QAAAAAAAABBAAAAAAADAVUAAAAAAAMBiQAAAAAAAAPA\\u002fAAAAAABAXcA=\"},\"type\":\"scatter\"}],                        {\"template\":{\"data\":{\"barpolar\":[{\"marker\":{\"line\":{\"color\":\"white\",\"width\":0.5},\"pattern\":{\"fillmode\":\"overlay\",\"size\":10,\"solidity\":0.2}},\"type\":\"barpolar\"}],\"bar\":[{\"error_x\":{\"color\":\"#2a3f5f\"},\"error_y\":{\"color\":\"#2a3f5f\"},\"marker\":{\"line\":{\"color\":\"white\",\"width\":0.5},\"pattern\":{\"fillmode\":\"overlay\",\"size\":10,\"solidity\":0.2}},\"type\":\"bar\"}],\"carpet\":[{\"aaxis\":{\"endlinecolor\":\"#2a3f5f\",\"gridcolor\":\"#C8D4E3\",\"linecolor\":\"#C8D4E3\",\"minorgridcolor\":\"#C8D4E3\",\"startlinecolor\":\"#2a3f5f\"},\"baxis\":{\"endlinecolor\":\"#2a3f5f\",\"gridcolor\":\"#C8D4E3\",\"linecolor\":\"#C8D4E3\",\"minorgridcolor\":\"#C8D4E3\",\"startlinecolor\":\"#2a3f5f\"},\"type\":\"carpet\"}],\"choropleth\":[{\"colorbar\":{\"outlinewidth\":0,\"ticks\":\"\"},\"type\":\"choropleth\"}],\"contourcarpet\":[{\"colorbar\":{\"outlinewidth\":0,\"ticks\":\"\"},\"type\":\"contourcarpet\"}],\"contour\":[{\"colorbar\":{\"outlinewidth\":0,\"ticks\":\"\"},\"colorscale\":[[0.0,\"#0d0887\"],[0.1111111111111111,\"#46039f\"],[0.2222222222222222,\"#7201a8\"],[0.3333333333333333,\"#9c179e\"],[0.4444444444444444,\"#bd3786\"],[0.5555555555555556,\"#d8576b\"],[0.6666666666666666,\"#ed7953\"],[0.7777777777777778,\"#fb9f3a\"],[0.8888888888888888,\"#fdca26\"],[1.0,\"#f0f921\"]],\"type\":\"contour\"}],\"heatmap\":[{\"colorbar\":{\"outlinewidth\":0,\"ticks\":\"\"},\"colorscale\":[[0.0,\"#0d0887\"],[0.1111111111111111,\"#46039f\"],[0.2222222222222222,\"#7201a8\"],[0.3333333333333333,\"#9c179e\"],[0.4444444444444444,\"#bd3786\"],[0.5555555555555556,\"#d8576b\"],[0.6666666666666666,\"#ed7953\"],[0.7777777777777778,\"#fb9f3a\"],[0.8888888888888888,\"#fdca26\"],[1.0,\"#f0f921\"]],\"type\":\"heatmap\"}],\"histogram2dcontour\":[{\"colorbar\":{\"outlinewidth\":0,\"ticks\":\"\"},\"colorscale\":[[0.0,\"#0d0887\"],[0.1111111111111111,\"#46039f\"],[0.2222222222222222,\"#7201a8\"],[0.3333333333333333,\"#9c179e\"],[0.4444444444444444,\"#bd3786\"],[0.5555555555555556,\"#d8576b\"],[0.6666666666666666,\"#ed7953\"],[0.7777777777777778,\"#fb9f3a\"],[0.8888888888888888,\"#fdca26\"],[1.0,\"#f0f921\"]],\"type\":\"histogram2dcontour\"}],\"histogram2d\":[{\"colorbar\":{\"outlinewidth\":0,\"ticks\":\"\"},\"colorscale\":[[0.0,\"#0d0887\"],[0.1111111111111111,\"#46039f\"],[0.2222222222222222,\"#7201a8\"],[0.3333333333333333,\"#9c179e\"],[0.4444444444444444,\"#bd3786\"],[0.5555555555555556,\"#d8576b\"],[0.6666666666666666,\"#ed7953\"],[0.7777777777777778,\"#fb9f3a\"],[0.8888888888888888,\"#fdca26\"],[1.0,\"#f0f921\"]],\"type\":\"histogram2d\"}],\"histogram\":[{\"marker\":{\"pattern\":{\"fillmode\":\"overlay\",\"size\":10,\"solidity\":0.2}},\"type\":\"histogram\"}],\"mesh3d\":[{\"colorbar\":{\"outlinewidth\":0,\"ticks\":\"\"},\"type\":\"mesh3d\"}],\"parcoords\":[{\"line\":{\"colorbar\":{\"outlinewidth\":0,\"ticks\":\"\"}},\"type\":\"parcoords\"}],\"pie\":[{\"automargin\":true,\"type\":\"pie\"}],\"scatter3d\":[{\"line\":{\"colorbar\":{\"outlinewidth\":0,\"ticks\":\"\"}},\"marker\":{\"colorbar\":{\"outlinewidth\":0,\"ticks\":\"\"}},\"type\":\"scatter3d\"}],\"scattercarpet\":[{\"marker\":{\"colorbar\":{\"outlinewidth\":0,\"ticks\":\"\"}},\"type\":\"scattercarpet\"}],\"scattergeo\":[{\"marker\":{\"colorbar\":{\"outlinewidth\":0,\"ticks\":\"\"}},\"type\":\"scattergeo\"}],\"scattergl\":[{\"marker\":{\"colorbar\":{\"outlinewidth\":0,\"ticks\":\"\"}},\"type\":\"scattergl\"}],\"scattermapbox\":[{\"marker\":{\"colorbar\":{\"outlinewidth\":0,\"ticks\":\"\"}},\"type\":\"scattermapbox\"}],\"scattermap\":[{\"marker\":{\"colorbar\":{\"outlinewidth\":0,\"ticks\":\"\"}},\"type\":\"scattermap\"}],\"scatterpolargl\":[{\"marker\":{\"colorbar\":{\"outlinewidth\":0,\"ticks\":\"\"}},\"type\":\"scatterpolargl\"}],\"scatterpolar\":[{\"marker\":{\"colorbar\":{\"outlinewidth\":0,\"ticks\":\"\"}},\"type\":\"scatterpolar\"}],\"scatter\":[{\"fillpattern\":{\"fillmode\":\"overlay\",\"size\":10,\"solidity\":0.2},\"type\":\"scatter\"}],\"scatterternary\":[{\"marker\":{\"colorbar\":{\"outlinewidth\":0,\"ticks\":\"\"}},\"type\":\"scatterternary\"}],\"surface\":[{\"colorbar\":{\"outlinewidth\":0,\"ticks\":\"\"},\"colorscale\":[[0.0,\"#0d0887\"],[0.1111111111111111,\"#46039f\"],[0.2222222222222222,\"#7201a8\"],[0.3333333333333333,\"#9c179e\"],[0.4444444444444444,\"#bd3786\"],[0.5555555555555556,\"#d8576b\"],[0.6666666666666666,\"#ed7953\"],[0.7777777777777778,\"#fb9f3a\"],[0.8888888888888888,\"#fdca26\"],[1.0,\"#f0f921\"]],\"type\":\"surface\"}],\"table\":[{\"cells\":{\"fill\":{\"color\":\"#EBF0F8\"},\"line\":{\"color\":\"white\"}},\"header\":{\"fill\":{\"color\":\"#C8D4E3\"},\"line\":{\"color\":\"white\"}},\"type\":\"table\"}]},\"layout\":{\"annotationdefaults\":{\"arrowcolor\":\"#2a3f5f\",\"arrowhead\":0,\"arrowwidth\":1},\"autotypenumbers\":\"strict\",\"coloraxis\":{\"colorbar\":{\"outlinewidth\":0,\"ticks\":\"\"}},\"colorscale\":{\"diverging\":[[0,\"#8e0152\"],[0.1,\"#c51b7d\"],[0.2,\"#de77ae\"],[0.3,\"#f1b6da\"],[0.4,\"#fde0ef\"],[0.5,\"#f7f7f7\"],[0.6,\"#e6f5d0\"],[0.7,\"#b8e186\"],[0.8,\"#7fbc41\"],[0.9,\"#4d9221\"],[1,\"#276419\"]],\"sequential\":[[0.0,\"#0d0887\"],[0.1111111111111111,\"#46039f\"],[0.2222222222222222,\"#7201a8\"],[0.3333333333333333,\"#9c179e\"],[0.4444444444444444,\"#bd3786\"],[0.5555555555555556,\"#d8576b\"],[0.6666666666666666,\"#ed7953\"],[0.7777777777777778,\"#fb9f3a\"],[0.8888888888888888,\"#fdca26\"],[1.0,\"#f0f921\"]],\"sequentialminus\":[[0.0,\"#0d0887\"],[0.1111111111111111,\"#46039f\"],[0.2222222222222222,\"#7201a8\"],[0.3333333333333333,\"#9c179e\"],[0.4444444444444444,\"#bd3786\"],[0.5555555555555556,\"#d8576b\"],[0.6666666666666666,\"#ed7953\"],[0.7777777777777778,\"#fb9f3a\"],[0.8888888888888888,\"#fdca26\"],[1.0,\"#f0f921\"]]},\"colorway\":[\"#636efa\",\"#EF553B\",\"#00cc96\",\"#ab63fa\",\"#FFA15A\",\"#19d3f3\",\"#FF6692\",\"#B6E880\",\"#FF97FF\",\"#FECB52\"],\"font\":{\"color\":\"#2a3f5f\"},\"geo\":{\"bgcolor\":\"white\",\"lakecolor\":\"white\",\"landcolor\":\"white\",\"showlakes\":true,\"showland\":true,\"subunitcolor\":\"#C8D4E3\"},\"hoverlabel\":{\"align\":\"left\"},\"hovermode\":\"closest\",\"mapbox\":{\"style\":\"light\"},\"paper_bgcolor\":\"white\",\"plot_bgcolor\":\"white\",\"polar\":{\"angularaxis\":{\"gridcolor\":\"#EBF0F8\",\"linecolor\":\"#EBF0F8\",\"ticks\":\"\"},\"bgcolor\":\"white\",\"radialaxis\":{\"gridcolor\":\"#EBF0F8\",\"linecolor\":\"#EBF0F8\",\"ticks\":\"\"}},\"scene\":{\"xaxis\":{\"backgroundcolor\":\"white\",\"gridcolor\":\"#DFE8F3\",\"gridwidth\":2,\"linecolor\":\"#EBF0F8\",\"showbackground\":true,\"ticks\":\"\",\"zerolinecolor\":\"#EBF0F8\"},\"yaxis\":{\"backgroundcolor\":\"white\",\"gridcolor\":\"#DFE8F3\",\"gridwidth\":2,\"linecolor\":\"#EBF0F8\",\"showbackground\":true,\"ticks\":\"\",\"zerolinecolor\":\"#EBF0F8\"},\"zaxis\":{\"backgroundcolor\":\"white\",\"gridcolor\":\"#DFE8F3\",\"gridwidth\":2,\"linecolor\":\"#EBF0F8\",\"showbackground\":true,\"ticks\":\"\",\"zerolinecolor\":\"#EBF0F8\"}},\"shapedefaults\":{\"line\":{\"color\":\"#2a3f5f\"}},\"ternary\":{\"aaxis\":{\"gridcolor\":\"#DFE8F3\",\"linecolor\":\"#A2B1C6\",\"ticks\":\"\"},\"baxis\":{\"gridcolor\":\"#DFE8F3\",\"linecolor\":\"#A2B1C6\",\"ticks\":\"\"},\"bgcolor\":\"white\",\"caxis\":{\"gridcolor\":\"#DFE8F3\",\"linecolor\":\"#A2B1C6\",\"ticks\":\"\"}},\"title\":{\"x\":0.05},\"xaxis\":{\"automargin\":true,\"gridcolor\":\"#EBF0F8\",\"linecolor\":\"#EBF0F8\",\"ticks\":\"\",\"title\":{\"standoff\":15},\"zerolinecolor\":\"#EBF0F8\",\"zerolinewidth\":2},\"yaxis\":{\"automargin\":true,\"gridcolor\":\"#EBF0F8\",\"linecolor\":\"#EBF0F8\",\"ticks\":\"\",\"title\":{\"standoff\":15},\"zerolinecolor\":\"#EBF0F8\",\"zerolinewidth\":2}}},\"title\":{\"text\":\"First Order Differencing\",\"x\":0.5},\"xaxis\":{\"title\":{\"text\":\"Date\"}},\"yaxis\":{\"title\":{\"text\":\"\"}}},                        {\"responsive\": true}                    ).then(function(){\n",
       "                            \n",
       "var gd = document.getElementById('22a10f5b-35c3-404f-b119-7b98e2177ec3');\n",
       "var x = new MutationObserver(function (mutations, observer) {{\n",
       "        var display = window.getComputedStyle(gd).display;\n",
       "        if (!display || display === 'none') {{\n",
       "            console.log([gd, 'removed!']);\n",
       "            Plotly.purge(gd);\n",
       "            observer.disconnect();\n",
       "        }}\n",
       "}});\n",
       "\n",
       "// Listen for the removal of the full notebook cells\n",
       "var notebookContainer = gd.closest('#notebook-container');\n",
       "if (notebookContainer) {{\n",
       "    x.observe(notebookContainer, {childList: true});\n",
       "}}\n",
       "\n",
       "// Listen for the clearing of the current output cell\n",
       "var outputEl = gd.closest('.output');\n",
       "if (outputEl) {{\n",
       "    x.observe(outputEl, {childList: true});\n",
       "}}\n",
       "\n",
       "                        })                };            </script>        </div>"
      ]
     },
     "metadata": {},
     "output_type": "display_data"
    }
   ],
   "source": [
    "fig = go.Figure()\n",
    "fig.add_trace(go.Scatter(x=data_diff.index,\n",
    "                         y=data_diff['Inland Consumption'],\n",
    "                         mode='lines'))\n",
    "\n",
    "\n",
    "fig.update_layout(title=\"First Order Differencing\",\n",
    "                  xaxis_title='Date',\n",
    "                  title_x = 0.5,\n",
    "                  yaxis_title='',\n",
    "                  template='plotly_white')\n",
    "\n",
    "fig.show()"
   ]
  },
  {
   "cell_type": "code",
   "execution_count": 29,
   "metadata": {},
   "outputs": [
    {
     "data": {
      "application/vnd.plotly.v1+json": {
       "config": {
        "plotlyServerURL": "https://plot.ly"
       },
       "data": [
        {
         "mode": "lines",
         "type": "scatter",
         "x": [
          "2016-01-01T00:00:00.000000000",
          "2016-02-01T00:00:00.000000000",
          "2016-03-01T00:00:00.000000000",
          "2016-04-01T00:00:00.000000000",
          "2016-05-01T00:00:00.000000000",
          "2016-06-01T00:00:00.000000000",
          "2016-07-01T00:00:00.000000000",
          "2016-08-01T00:00:00.000000000",
          "2016-09-01T00:00:00.000000000",
          "2016-10-01T00:00:00.000000000",
          "2016-11-01T00:00:00.000000000",
          "2016-12-01T00:00:00.000000000",
          "2017-01-01T00:00:00.000000000",
          "2017-02-01T00:00:00.000000000",
          "2017-03-01T00:00:00.000000000",
          "2017-04-01T00:00:00.000000000",
          "2017-05-01T00:00:00.000000000",
          "2017-06-01T00:00:00.000000000",
          "2017-07-01T00:00:00.000000000",
          "2017-08-01T00:00:00.000000000",
          "2017-09-01T00:00:00.000000000",
          "2017-10-01T00:00:00.000000000",
          "2017-11-01T00:00:00.000000000",
          "2017-12-01T00:00:00.000000000",
          "2018-01-01T00:00:00.000000000",
          "2018-02-01T00:00:00.000000000",
          "2018-03-01T00:00:00.000000000",
          "2018-04-01T00:00:00.000000000",
          "2018-05-01T00:00:00.000000000",
          "2018-06-01T00:00:00.000000000",
          "2018-07-01T00:00:00.000000000",
          "2018-08-01T00:00:00.000000000",
          "2018-09-01T00:00:00.000000000",
          "2018-10-01T00:00:00.000000000",
          "2018-11-01T00:00:00.000000000",
          "2018-12-01T00:00:00.000000000",
          "2019-01-01T00:00:00.000000000",
          "2019-02-01T00:00:00.000000000",
          "2019-03-01T00:00:00.000000000",
          "2019-04-01T00:00:00.000000000",
          "2019-05-01T00:00:00.000000000",
          "2019-06-01T00:00:00.000000000",
          "2019-07-01T00:00:00.000000000",
          "2019-08-01T00:00:00.000000000",
          "2019-09-01T00:00:00.000000000",
          "2019-10-01T00:00:00.000000000",
          "2019-11-01T00:00:00.000000000",
          "2019-12-01T00:00:00.000000000",
          "2020-01-01T00:00:00.000000000",
          "2020-02-01T00:00:00.000000000",
          "2020-03-01T00:00:00.000000000",
          "2020-04-01T00:00:00.000000000",
          "2020-05-01T00:00:00.000000000",
          "2020-06-01T00:00:00.000000000",
          "2020-07-01T00:00:00.000000000",
          "2020-08-01T00:00:00.000000000",
          "2020-09-01T00:00:00.000000000",
          "2020-10-01T00:00:00.000000000",
          "2020-11-01T00:00:00.000000000",
          "2020-12-01T00:00:00.000000000",
          "2021-01-01T00:00:00.000000000",
          "2021-02-01T00:00:00.000000000",
          "2021-03-01T00:00:00.000000000",
          "2021-04-01T00:00:00.000000000",
          "2021-05-01T00:00:00.000000000",
          "2021-06-01T00:00:00.000000000",
          "2021-07-01T00:00:00.000000000",
          "2021-08-01T00:00:00.000000000",
          "2021-09-01T00:00:00.000000000",
          "2021-10-01T00:00:00.000000000",
          "2021-11-01T00:00:00.000000000",
          "2021-12-01T00:00:00.000000000",
          "2022-01-01T00:00:00.000000000",
          "2022-02-01T00:00:00.000000000",
          "2022-03-01T00:00:00.000000000",
          "2022-04-01T00:00:00.000000000",
          "2022-05-01T00:00:00.000000000",
          "2022-06-01T00:00:00.000000000",
          "2022-07-01T00:00:00.000000000",
          "2022-08-01T00:00:00.000000000",
          "2022-09-01T00:00:00.000000000",
          "2022-10-01T00:00:00.000000000",
          "2022-11-01T00:00:00.000000000",
          "2022-12-01T00:00:00.000000000",
          "2023-01-01T00:00:00.000000000",
          "2023-02-01T00:00:00.000000000",
          "2023-03-01T00:00:00.000000000",
          "2023-04-01T00:00:00.000000000",
          "2023-05-01T00:00:00.000000000",
          "2023-06-01T00:00:00.000000000",
          "2023-07-01T00:00:00.000000000",
          "2023-08-01T00:00:00.000000000",
          "2023-09-01T00:00:00.000000000",
          "2023-10-01T00:00:00.000000000",
          "2023-11-01T00:00:00.000000000",
          "2023-12-01T00:00:00.000000000",
          "2024-01-01T00:00:00.000000000",
          "2024-02-01T00:00:00.000000000",
          "2024-03-01T00:00:00.000000000",
          "2024-04-01T00:00:00.000000000",
          "2024-05-01T00:00:00.000000000",
          "2024-06-01T00:00:00.000000000",
          "2024-07-01T00:00:00.000000000",
          "2024-08-01T00:00:00.000000000",
          "2024-09-01T00:00:00.000000000",
          "2024-10-01T00:00:00.000000000",
          "2024-11-01T00:00:00.000000000",
          "2024-12-01T00:00:00.000000000",
          "2025-01-01T00:00:00.000000000"
         ],
         "y": {
          "bdata": "AAAAAABAWEAAAAAAAAAUwAAAAAAAoGrAAAAAAAAAM8AAAAAAAAAgwAAAAAAAAE5AAAAAAACAS8AAAAAAAABRwAAAAAAAIG1AAAAAAAAAQsAAAAAAANB3QAAAAAAAoGVAAAAAAACwc0AAAAAAALB3QAAAAAAAYGRAAAAAAACAbEAAAAAAAMBbQAAAAAAA0HJAAAAAAACgYkAAAAAAAIBcQAAAAAAA4GrAAAAAAABgcMAAAAAAAJBzwAAAAAAAgHHAAAAAAACwicAAAAAAAKBjQAAAAAAAUHNAAAAAAACQd8AAAAAAAGBmwAAAAAAAUHfAAAAAAABgZ8AAAAAAACBmwAAAAAAAADrAAAAAAAAAM8AAAAAAAKBhQAAAAAAAkHZAAAAAAAAAkEAAAAAAANiJwAAAAAAAKIXAAAAAAAAgfUAAAAAAAKBjQAAAAAAAACRAAAAAAACAV0AAAAAAAIBXQAAAAAAAAFRAAAAAAADAXUAAAAAAALB0wAAAAAAAgIPAAAAAAABohMAAAAAAAEB1QAAAAAAAYHNAAAAAAADQcMAAAAAAAAAIQAAAAAAAQHdAAAAAAAAAYkAAAAAAAEBcQAAAAAAAAE9AAAAAAACAUcAAAAAAAGCBQAAAAAAAMHpAAAAAAAAAQcAAAAAAAEBbQAAAAAAA4HNAAAAAAABQc0AAAAAAAAAiwAAAAAAA4GvAAAAAAADAacAAAAAAAGBnwAAAAAAAQFjAAAAAAACgbEAAAAAAAJB7wAAAAAAAIGDAAAAAAACAT0AAAAAAAABwwAAAAAAA2IDAAAAAAACQgcAAAAAAAIBLwAAAAAAAAPC/AAAAAAAAQ0AAAAAAAIBAQAAAAAAAAD/AAAAAAABgfsAAAAAAAIBZwAAAAAAA4GrAAAAAAACgbcAAAAAAAABtQAAAAAAAADLAAAAAAADwdEAAAAAAAIBPwAAAAAAAQFjAAAAAAAAAOkAAAAAAAIBGQAAAAAAAADtAAAAAAAAQc0AAAAAAAKB2QAAAAAAA0HNAAAAAAABYgUAAAAAAAGBowAAAAAAAYHVAAAAAAADAbcAAAAAAAIBZQAAAAAAAwGdAAAAAAAAAVEAAAAAAAABLQAAAAAAAgE9AAAAAAABAWUAAAAAAAABAQAAAAAAAgFTAAAAAAACAd8A=",
          "dtype": "f8"
         }
        }
       ],
       "layout": {
        "template": {
         "data": {
          "bar": [
           {
            "error_x": {
             "color": "#2a3f5f"
            },
            "error_y": {
             "color": "#2a3f5f"
            },
            "marker": {
             "line": {
              "color": "white",
              "width": 0.5
             },
             "pattern": {
              "fillmode": "overlay",
              "size": 10,
              "solidity": 0.2
             }
            },
            "type": "bar"
           }
          ],
          "barpolar": [
           {
            "marker": {
             "line": {
              "color": "white",
              "width": 0.5
             },
             "pattern": {
              "fillmode": "overlay",
              "size": 10,
              "solidity": 0.2
             }
            },
            "type": "barpolar"
           }
          ],
          "carpet": [
           {
            "aaxis": {
             "endlinecolor": "#2a3f5f",
             "gridcolor": "#C8D4E3",
             "linecolor": "#C8D4E3",
             "minorgridcolor": "#C8D4E3",
             "startlinecolor": "#2a3f5f"
            },
            "baxis": {
             "endlinecolor": "#2a3f5f",
             "gridcolor": "#C8D4E3",
             "linecolor": "#C8D4E3",
             "minorgridcolor": "#C8D4E3",
             "startlinecolor": "#2a3f5f"
            },
            "type": "carpet"
           }
          ],
          "choropleth": [
           {
            "colorbar": {
             "outlinewidth": 0,
             "ticks": ""
            },
            "type": "choropleth"
           }
          ],
          "contour": [
           {
            "colorbar": {
             "outlinewidth": 0,
             "ticks": ""
            },
            "colorscale": [
             [
              0,
              "#0d0887"
             ],
             [
              0.1111111111111111,
              "#46039f"
             ],
             [
              0.2222222222222222,
              "#7201a8"
             ],
             [
              0.3333333333333333,
              "#9c179e"
             ],
             [
              0.4444444444444444,
              "#bd3786"
             ],
             [
              0.5555555555555556,
              "#d8576b"
             ],
             [
              0.6666666666666666,
              "#ed7953"
             ],
             [
              0.7777777777777778,
              "#fb9f3a"
             ],
             [
              0.8888888888888888,
              "#fdca26"
             ],
             [
              1,
              "#f0f921"
             ]
            ],
            "type": "contour"
           }
          ],
          "contourcarpet": [
           {
            "colorbar": {
             "outlinewidth": 0,
             "ticks": ""
            },
            "type": "contourcarpet"
           }
          ],
          "heatmap": [
           {
            "colorbar": {
             "outlinewidth": 0,
             "ticks": ""
            },
            "colorscale": [
             [
              0,
              "#0d0887"
             ],
             [
              0.1111111111111111,
              "#46039f"
             ],
             [
              0.2222222222222222,
              "#7201a8"
             ],
             [
              0.3333333333333333,
              "#9c179e"
             ],
             [
              0.4444444444444444,
              "#bd3786"
             ],
             [
              0.5555555555555556,
              "#d8576b"
             ],
             [
              0.6666666666666666,
              "#ed7953"
             ],
             [
              0.7777777777777778,
              "#fb9f3a"
             ],
             [
              0.8888888888888888,
              "#fdca26"
             ],
             [
              1,
              "#f0f921"
             ]
            ],
            "type": "heatmap"
           }
          ],
          "histogram": [
           {
            "marker": {
             "pattern": {
              "fillmode": "overlay",
              "size": 10,
              "solidity": 0.2
             }
            },
            "type": "histogram"
           }
          ],
          "histogram2d": [
           {
            "colorbar": {
             "outlinewidth": 0,
             "ticks": ""
            },
            "colorscale": [
             [
              0,
              "#0d0887"
             ],
             [
              0.1111111111111111,
              "#46039f"
             ],
             [
              0.2222222222222222,
              "#7201a8"
             ],
             [
              0.3333333333333333,
              "#9c179e"
             ],
             [
              0.4444444444444444,
              "#bd3786"
             ],
             [
              0.5555555555555556,
              "#d8576b"
             ],
             [
              0.6666666666666666,
              "#ed7953"
             ],
             [
              0.7777777777777778,
              "#fb9f3a"
             ],
             [
              0.8888888888888888,
              "#fdca26"
             ],
             [
              1,
              "#f0f921"
             ]
            ],
            "type": "histogram2d"
           }
          ],
          "histogram2dcontour": [
           {
            "colorbar": {
             "outlinewidth": 0,
             "ticks": ""
            },
            "colorscale": [
             [
              0,
              "#0d0887"
             ],
             [
              0.1111111111111111,
              "#46039f"
             ],
             [
              0.2222222222222222,
              "#7201a8"
             ],
             [
              0.3333333333333333,
              "#9c179e"
             ],
             [
              0.4444444444444444,
              "#bd3786"
             ],
             [
              0.5555555555555556,
              "#d8576b"
             ],
             [
              0.6666666666666666,
              "#ed7953"
             ],
             [
              0.7777777777777778,
              "#fb9f3a"
             ],
             [
              0.8888888888888888,
              "#fdca26"
             ],
             [
              1,
              "#f0f921"
             ]
            ],
            "type": "histogram2dcontour"
           }
          ],
          "mesh3d": [
           {
            "colorbar": {
             "outlinewidth": 0,
             "ticks": ""
            },
            "type": "mesh3d"
           }
          ],
          "parcoords": [
           {
            "line": {
             "colorbar": {
              "outlinewidth": 0,
              "ticks": ""
             }
            },
            "type": "parcoords"
           }
          ],
          "pie": [
           {
            "automargin": true,
            "type": "pie"
           }
          ],
          "scatter": [
           {
            "fillpattern": {
             "fillmode": "overlay",
             "size": 10,
             "solidity": 0.2
            },
            "type": "scatter"
           }
          ],
          "scatter3d": [
           {
            "line": {
             "colorbar": {
              "outlinewidth": 0,
              "ticks": ""
             }
            },
            "marker": {
             "colorbar": {
              "outlinewidth": 0,
              "ticks": ""
             }
            },
            "type": "scatter3d"
           }
          ],
          "scattercarpet": [
           {
            "marker": {
             "colorbar": {
              "outlinewidth": 0,
              "ticks": ""
             }
            },
            "type": "scattercarpet"
           }
          ],
          "scattergeo": [
           {
            "marker": {
             "colorbar": {
              "outlinewidth": 0,
              "ticks": ""
             }
            },
            "type": "scattergeo"
           }
          ],
          "scattergl": [
           {
            "marker": {
             "colorbar": {
              "outlinewidth": 0,
              "ticks": ""
             }
            },
            "type": "scattergl"
           }
          ],
          "scattermap": [
           {
            "marker": {
             "colorbar": {
              "outlinewidth": 0,
              "ticks": ""
             }
            },
            "type": "scattermap"
           }
          ],
          "scattermapbox": [
           {
            "marker": {
             "colorbar": {
              "outlinewidth": 0,
              "ticks": ""
             }
            },
            "type": "scattermapbox"
           }
          ],
          "scatterpolar": [
           {
            "marker": {
             "colorbar": {
              "outlinewidth": 0,
              "ticks": ""
             }
            },
            "type": "scatterpolar"
           }
          ],
          "scatterpolargl": [
           {
            "marker": {
             "colorbar": {
              "outlinewidth": 0,
              "ticks": ""
             }
            },
            "type": "scatterpolargl"
           }
          ],
          "scatterternary": [
           {
            "marker": {
             "colorbar": {
              "outlinewidth": 0,
              "ticks": ""
             }
            },
            "type": "scatterternary"
           }
          ],
          "surface": [
           {
            "colorbar": {
             "outlinewidth": 0,
             "ticks": ""
            },
            "colorscale": [
             [
              0,
              "#0d0887"
             ],
             [
              0.1111111111111111,
              "#46039f"
             ],
             [
              0.2222222222222222,
              "#7201a8"
             ],
             [
              0.3333333333333333,
              "#9c179e"
             ],
             [
              0.4444444444444444,
              "#bd3786"
             ],
             [
              0.5555555555555556,
              "#d8576b"
             ],
             [
              0.6666666666666666,
              "#ed7953"
             ],
             [
              0.7777777777777778,
              "#fb9f3a"
             ],
             [
              0.8888888888888888,
              "#fdca26"
             ],
             [
              1,
              "#f0f921"
             ]
            ],
            "type": "surface"
           }
          ],
          "table": [
           {
            "cells": {
             "fill": {
              "color": "#EBF0F8"
             },
             "line": {
              "color": "white"
             }
            },
            "header": {
             "fill": {
              "color": "#C8D4E3"
             },
             "line": {
              "color": "white"
             }
            },
            "type": "table"
           }
          ]
         },
         "layout": {
          "annotationdefaults": {
           "arrowcolor": "#2a3f5f",
           "arrowhead": 0,
           "arrowwidth": 1
          },
          "autotypenumbers": "strict",
          "coloraxis": {
           "colorbar": {
            "outlinewidth": 0,
            "ticks": ""
           }
          },
          "colorscale": {
           "diverging": [
            [
             0,
             "#8e0152"
            ],
            [
             0.1,
             "#c51b7d"
            ],
            [
             0.2,
             "#de77ae"
            ],
            [
             0.3,
             "#f1b6da"
            ],
            [
             0.4,
             "#fde0ef"
            ],
            [
             0.5,
             "#f7f7f7"
            ],
            [
             0.6,
             "#e6f5d0"
            ],
            [
             0.7,
             "#b8e186"
            ],
            [
             0.8,
             "#7fbc41"
            ],
            [
             0.9,
             "#4d9221"
            ],
            [
             1,
             "#276419"
            ]
           ],
           "sequential": [
            [
             0,
             "#0d0887"
            ],
            [
             0.1111111111111111,
             "#46039f"
            ],
            [
             0.2222222222222222,
             "#7201a8"
            ],
            [
             0.3333333333333333,
             "#9c179e"
            ],
            [
             0.4444444444444444,
             "#bd3786"
            ],
            [
             0.5555555555555556,
             "#d8576b"
            ],
            [
             0.6666666666666666,
             "#ed7953"
            ],
            [
             0.7777777777777778,
             "#fb9f3a"
            ],
            [
             0.8888888888888888,
             "#fdca26"
            ],
            [
             1,
             "#f0f921"
            ]
           ],
           "sequentialminus": [
            [
             0,
             "#0d0887"
            ],
            [
             0.1111111111111111,
             "#46039f"
            ],
            [
             0.2222222222222222,
             "#7201a8"
            ],
            [
             0.3333333333333333,
             "#9c179e"
            ],
            [
             0.4444444444444444,
             "#bd3786"
            ],
            [
             0.5555555555555556,
             "#d8576b"
            ],
            [
             0.6666666666666666,
             "#ed7953"
            ],
            [
             0.7777777777777778,
             "#fb9f3a"
            ],
            [
             0.8888888888888888,
             "#fdca26"
            ],
            [
             1,
             "#f0f921"
            ]
           ]
          },
          "colorway": [
           "#636efa",
           "#EF553B",
           "#00cc96",
           "#ab63fa",
           "#FFA15A",
           "#19d3f3",
           "#FF6692",
           "#B6E880",
           "#FF97FF",
           "#FECB52"
          ],
          "font": {
           "color": "#2a3f5f"
          },
          "geo": {
           "bgcolor": "white",
           "lakecolor": "white",
           "landcolor": "white",
           "showlakes": true,
           "showland": true,
           "subunitcolor": "#C8D4E3"
          },
          "hoverlabel": {
           "align": "left"
          },
          "hovermode": "closest",
          "mapbox": {
           "style": "light"
          },
          "paper_bgcolor": "white",
          "plot_bgcolor": "white",
          "polar": {
           "angularaxis": {
            "gridcolor": "#EBF0F8",
            "linecolor": "#EBF0F8",
            "ticks": ""
           },
           "bgcolor": "white",
           "radialaxis": {
            "gridcolor": "#EBF0F8",
            "linecolor": "#EBF0F8",
            "ticks": ""
           }
          },
          "scene": {
           "xaxis": {
            "backgroundcolor": "white",
            "gridcolor": "#DFE8F3",
            "gridwidth": 2,
            "linecolor": "#EBF0F8",
            "showbackground": true,
            "ticks": "",
            "zerolinecolor": "#EBF0F8"
           },
           "yaxis": {
            "backgroundcolor": "white",
            "gridcolor": "#DFE8F3",
            "gridwidth": 2,
            "linecolor": "#EBF0F8",
            "showbackground": true,
            "ticks": "",
            "zerolinecolor": "#EBF0F8"
           },
           "zaxis": {
            "backgroundcolor": "white",
            "gridcolor": "#DFE8F3",
            "gridwidth": 2,
            "linecolor": "#EBF0F8",
            "showbackground": true,
            "ticks": "",
            "zerolinecolor": "#EBF0F8"
           }
          },
          "shapedefaults": {
           "line": {
            "color": "#2a3f5f"
           }
          },
          "ternary": {
           "aaxis": {
            "gridcolor": "#DFE8F3",
            "linecolor": "#A2B1C6",
            "ticks": ""
           },
           "baxis": {
            "gridcolor": "#DFE8F3",
            "linecolor": "#A2B1C6",
            "ticks": ""
           },
           "bgcolor": "white",
           "caxis": {
            "gridcolor": "#DFE8F3",
            "linecolor": "#A2B1C6",
            "ticks": ""
           }
          },
          "title": {
           "x": 0.05
          },
          "xaxis": {
           "automargin": true,
           "gridcolor": "#EBF0F8",
           "linecolor": "#EBF0F8",
           "ticks": "",
           "title": {
            "standoff": 15
           },
           "zerolinecolor": "#EBF0F8",
           "zerolinewidth": 2
          },
          "yaxis": {
           "automargin": true,
           "gridcolor": "#EBF0F8",
           "linecolor": "#EBF0F8",
           "ticks": "",
           "title": {
            "standoff": 15
           },
           "zerolinecolor": "#EBF0F8",
           "zerolinewidth": 2
          }
         }
        },
        "title": {
         "text": "Second Order Differencing",
         "x": 0.5
        },
        "xaxis": {
         "title": {
          "text": "Date"
         }
        },
        "yaxis": {
         "title": {
          "text": ""
         }
        }
       }
      },
      "text/html": [
       "<div>            <script src=\"https://cdnjs.cloudflare.com/ajax/libs/mathjax/2.7.5/MathJax.js?config=TeX-AMS-MML_SVG\"></script><script type=\"text/javascript\">if (window.MathJax && window.MathJax.Hub && window.MathJax.Hub.Config) {window.MathJax.Hub.Config({SVG: {font: \"STIX-Web\"}});}</script>                <script type=\"text/javascript\">window.PlotlyConfig = {MathJaxConfig: 'local'};</script>\n",
       "        <script charset=\"utf-8\" src=\"https://cdn.plot.ly/plotly-3.0.0.min.js\"></script>                <div id=\"40360eba-c8b8-4c5b-9c59-16df5b789afa\" class=\"plotly-graph-div\" style=\"height:525px; width:100%;\"></div>            <script type=\"text/javascript\">                window.PLOTLYENV=window.PLOTLYENV || {};                                if (document.getElementById(\"40360eba-c8b8-4c5b-9c59-16df5b789afa\")) {                    Plotly.newPlot(                        \"40360eba-c8b8-4c5b-9c59-16df5b789afa\",                        [{\"mode\":\"lines\",\"x\":[\"2016-01-01T00:00:00.000000000\",\"2016-02-01T00:00:00.000000000\",\"2016-03-01T00:00:00.000000000\",\"2016-04-01T00:00:00.000000000\",\"2016-05-01T00:00:00.000000000\",\"2016-06-01T00:00:00.000000000\",\"2016-07-01T00:00:00.000000000\",\"2016-08-01T00:00:00.000000000\",\"2016-09-01T00:00:00.000000000\",\"2016-10-01T00:00:00.000000000\",\"2016-11-01T00:00:00.000000000\",\"2016-12-01T00:00:00.000000000\",\"2017-01-01T00:00:00.000000000\",\"2017-02-01T00:00:00.000000000\",\"2017-03-01T00:00:00.000000000\",\"2017-04-01T00:00:00.000000000\",\"2017-05-01T00:00:00.000000000\",\"2017-06-01T00:00:00.000000000\",\"2017-07-01T00:00:00.000000000\",\"2017-08-01T00:00:00.000000000\",\"2017-09-01T00:00:00.000000000\",\"2017-10-01T00:00:00.000000000\",\"2017-11-01T00:00:00.000000000\",\"2017-12-01T00:00:00.000000000\",\"2018-01-01T00:00:00.000000000\",\"2018-02-01T00:00:00.000000000\",\"2018-03-01T00:00:00.000000000\",\"2018-04-01T00:00:00.000000000\",\"2018-05-01T00:00:00.000000000\",\"2018-06-01T00:00:00.000000000\",\"2018-07-01T00:00:00.000000000\",\"2018-08-01T00:00:00.000000000\",\"2018-09-01T00:00:00.000000000\",\"2018-10-01T00:00:00.000000000\",\"2018-11-01T00:00:00.000000000\",\"2018-12-01T00:00:00.000000000\",\"2019-01-01T00:00:00.000000000\",\"2019-02-01T00:00:00.000000000\",\"2019-03-01T00:00:00.000000000\",\"2019-04-01T00:00:00.000000000\",\"2019-05-01T00:00:00.000000000\",\"2019-06-01T00:00:00.000000000\",\"2019-07-01T00:00:00.000000000\",\"2019-08-01T00:00:00.000000000\",\"2019-09-01T00:00:00.000000000\",\"2019-10-01T00:00:00.000000000\",\"2019-11-01T00:00:00.000000000\",\"2019-12-01T00:00:00.000000000\",\"2020-01-01T00:00:00.000000000\",\"2020-02-01T00:00:00.000000000\",\"2020-03-01T00:00:00.000000000\",\"2020-04-01T00:00:00.000000000\",\"2020-05-01T00:00:00.000000000\",\"2020-06-01T00:00:00.000000000\",\"2020-07-01T00:00:00.000000000\",\"2020-08-01T00:00:00.000000000\",\"2020-09-01T00:00:00.000000000\",\"2020-10-01T00:00:00.000000000\",\"2020-11-01T00:00:00.000000000\",\"2020-12-01T00:00:00.000000000\",\"2021-01-01T00:00:00.000000000\",\"2021-02-01T00:00:00.000000000\",\"2021-03-01T00:00:00.000000000\",\"2021-04-01T00:00:00.000000000\",\"2021-05-01T00:00:00.000000000\",\"2021-06-01T00:00:00.000000000\",\"2021-07-01T00:00:00.000000000\",\"2021-08-01T00:00:00.000000000\",\"2021-09-01T00:00:00.000000000\",\"2021-10-01T00:00:00.000000000\",\"2021-11-01T00:00:00.000000000\",\"2021-12-01T00:00:00.000000000\",\"2022-01-01T00:00:00.000000000\",\"2022-02-01T00:00:00.000000000\",\"2022-03-01T00:00:00.000000000\",\"2022-04-01T00:00:00.000000000\",\"2022-05-01T00:00:00.000000000\",\"2022-06-01T00:00:00.000000000\",\"2022-07-01T00:00:00.000000000\",\"2022-08-01T00:00:00.000000000\",\"2022-09-01T00:00:00.000000000\",\"2022-10-01T00:00:00.000000000\",\"2022-11-01T00:00:00.000000000\",\"2022-12-01T00:00:00.000000000\",\"2023-01-01T00:00:00.000000000\",\"2023-02-01T00:00:00.000000000\",\"2023-03-01T00:00:00.000000000\",\"2023-04-01T00:00:00.000000000\",\"2023-05-01T00:00:00.000000000\",\"2023-06-01T00:00:00.000000000\",\"2023-07-01T00:00:00.000000000\",\"2023-08-01T00:00:00.000000000\",\"2023-09-01T00:00:00.000000000\",\"2023-10-01T00:00:00.000000000\",\"2023-11-01T00:00:00.000000000\",\"2023-12-01T00:00:00.000000000\",\"2024-01-01T00:00:00.000000000\",\"2024-02-01T00:00:00.000000000\",\"2024-03-01T00:00:00.000000000\",\"2024-04-01T00:00:00.000000000\",\"2024-05-01T00:00:00.000000000\",\"2024-06-01T00:00:00.000000000\",\"2024-07-01T00:00:00.000000000\",\"2024-08-01T00:00:00.000000000\",\"2024-09-01T00:00:00.000000000\",\"2024-10-01T00:00:00.000000000\",\"2024-11-01T00:00:00.000000000\",\"2024-12-01T00:00:00.000000000\",\"2025-01-01T00:00:00.000000000\"],\"y\":{\"dtype\":\"f8\",\"bdata\":\"AAAAAABAWEAAAAAAAAAUwAAAAAAAoGrAAAAAAAAAM8AAAAAAAAAgwAAAAAAAAE5AAAAAAACAS8AAAAAAAABRwAAAAAAAIG1AAAAAAAAAQsAAAAAAANB3QAAAAAAAoGVAAAAAAACwc0AAAAAAALB3QAAAAAAAYGRAAAAAAACAbEAAAAAAAMBbQAAAAAAA0HJAAAAAAACgYkAAAAAAAIBcQAAAAAAA4GrAAAAAAABgcMAAAAAAAJBzwAAAAAAAgHHAAAAAAACwicAAAAAAAKBjQAAAAAAAUHNAAAAAAACQd8AAAAAAAGBmwAAAAAAAUHfAAAAAAABgZ8AAAAAAACBmwAAAAAAAADrAAAAAAAAAM8AAAAAAAKBhQAAAAAAAkHZAAAAAAAAAkEAAAAAAANiJwAAAAAAAKIXAAAAAAAAgfUAAAAAAAKBjQAAAAAAAACRAAAAAAACAV0AAAAAAAIBXQAAAAAAAAFRAAAAAAADAXUAAAAAAALB0wAAAAAAAgIPAAAAAAABohMAAAAAAAEB1QAAAAAAAYHNAAAAAAADQcMAAAAAAAAAIQAAAAAAAQHdAAAAAAAAAYkAAAAAAAEBcQAAAAAAAAE9AAAAAAACAUcAAAAAAAGCBQAAAAAAAMHpAAAAAAAAAQcAAAAAAAEBbQAAAAAAA4HNAAAAAAABQc0AAAAAAAAAiwAAAAAAA4GvAAAAAAADAacAAAAAAAGBnwAAAAAAAQFjAAAAAAACgbEAAAAAAAJB7wAAAAAAAIGDAAAAAAACAT0AAAAAAAABwwAAAAAAA2IDAAAAAAACQgcAAAAAAAIBLwAAAAAAAAPC\\u002fAAAAAAAAQ0AAAAAAAIBAQAAAAAAAAD\\u002fAAAAAAABgfsAAAAAAAIBZwAAAAAAA4GrAAAAAAACgbcAAAAAAAABtQAAAAAAAADLAAAAAAADwdEAAAAAAAIBPwAAAAAAAQFjAAAAAAAAAOkAAAAAAAIBGQAAAAAAAADtAAAAAAAAQc0AAAAAAAKB2QAAAAAAA0HNAAAAAAABYgUAAAAAAAGBowAAAAAAAYHVAAAAAAADAbcAAAAAAAIBZQAAAAAAAwGdAAAAAAAAAVEAAAAAAAABLQAAAAAAAgE9AAAAAAABAWUAAAAAAAABAQAAAAAAAgFTAAAAAAACAd8A=\"},\"type\":\"scatter\"}],                        {\"template\":{\"data\":{\"barpolar\":[{\"marker\":{\"line\":{\"color\":\"white\",\"width\":0.5},\"pattern\":{\"fillmode\":\"overlay\",\"size\":10,\"solidity\":0.2}},\"type\":\"barpolar\"}],\"bar\":[{\"error_x\":{\"color\":\"#2a3f5f\"},\"error_y\":{\"color\":\"#2a3f5f\"},\"marker\":{\"line\":{\"color\":\"white\",\"width\":0.5},\"pattern\":{\"fillmode\":\"overlay\",\"size\":10,\"solidity\":0.2}},\"type\":\"bar\"}],\"carpet\":[{\"aaxis\":{\"endlinecolor\":\"#2a3f5f\",\"gridcolor\":\"#C8D4E3\",\"linecolor\":\"#C8D4E3\",\"minorgridcolor\":\"#C8D4E3\",\"startlinecolor\":\"#2a3f5f\"},\"baxis\":{\"endlinecolor\":\"#2a3f5f\",\"gridcolor\":\"#C8D4E3\",\"linecolor\":\"#C8D4E3\",\"minorgridcolor\":\"#C8D4E3\",\"startlinecolor\":\"#2a3f5f\"},\"type\":\"carpet\"}],\"choropleth\":[{\"colorbar\":{\"outlinewidth\":0,\"ticks\":\"\"},\"type\":\"choropleth\"}],\"contourcarpet\":[{\"colorbar\":{\"outlinewidth\":0,\"ticks\":\"\"},\"type\":\"contourcarpet\"}],\"contour\":[{\"colorbar\":{\"outlinewidth\":0,\"ticks\":\"\"},\"colorscale\":[[0.0,\"#0d0887\"],[0.1111111111111111,\"#46039f\"],[0.2222222222222222,\"#7201a8\"],[0.3333333333333333,\"#9c179e\"],[0.4444444444444444,\"#bd3786\"],[0.5555555555555556,\"#d8576b\"],[0.6666666666666666,\"#ed7953\"],[0.7777777777777778,\"#fb9f3a\"],[0.8888888888888888,\"#fdca26\"],[1.0,\"#f0f921\"]],\"type\":\"contour\"}],\"heatmap\":[{\"colorbar\":{\"outlinewidth\":0,\"ticks\":\"\"},\"colorscale\":[[0.0,\"#0d0887\"],[0.1111111111111111,\"#46039f\"],[0.2222222222222222,\"#7201a8\"],[0.3333333333333333,\"#9c179e\"],[0.4444444444444444,\"#bd3786\"],[0.5555555555555556,\"#d8576b\"],[0.6666666666666666,\"#ed7953\"],[0.7777777777777778,\"#fb9f3a\"],[0.8888888888888888,\"#fdca26\"],[1.0,\"#f0f921\"]],\"type\":\"heatmap\"}],\"histogram2dcontour\":[{\"colorbar\":{\"outlinewidth\":0,\"ticks\":\"\"},\"colorscale\":[[0.0,\"#0d0887\"],[0.1111111111111111,\"#46039f\"],[0.2222222222222222,\"#7201a8\"],[0.3333333333333333,\"#9c179e\"],[0.4444444444444444,\"#bd3786\"],[0.5555555555555556,\"#d8576b\"],[0.6666666666666666,\"#ed7953\"],[0.7777777777777778,\"#fb9f3a\"],[0.8888888888888888,\"#fdca26\"],[1.0,\"#f0f921\"]],\"type\":\"histogram2dcontour\"}],\"histogram2d\":[{\"colorbar\":{\"outlinewidth\":0,\"ticks\":\"\"},\"colorscale\":[[0.0,\"#0d0887\"],[0.1111111111111111,\"#46039f\"],[0.2222222222222222,\"#7201a8\"],[0.3333333333333333,\"#9c179e\"],[0.4444444444444444,\"#bd3786\"],[0.5555555555555556,\"#d8576b\"],[0.6666666666666666,\"#ed7953\"],[0.7777777777777778,\"#fb9f3a\"],[0.8888888888888888,\"#fdca26\"],[1.0,\"#f0f921\"]],\"type\":\"histogram2d\"}],\"histogram\":[{\"marker\":{\"pattern\":{\"fillmode\":\"overlay\",\"size\":10,\"solidity\":0.2}},\"type\":\"histogram\"}],\"mesh3d\":[{\"colorbar\":{\"outlinewidth\":0,\"ticks\":\"\"},\"type\":\"mesh3d\"}],\"parcoords\":[{\"line\":{\"colorbar\":{\"outlinewidth\":0,\"ticks\":\"\"}},\"type\":\"parcoords\"}],\"pie\":[{\"automargin\":true,\"type\":\"pie\"}],\"scatter3d\":[{\"line\":{\"colorbar\":{\"outlinewidth\":0,\"ticks\":\"\"}},\"marker\":{\"colorbar\":{\"outlinewidth\":0,\"ticks\":\"\"}},\"type\":\"scatter3d\"}],\"scattercarpet\":[{\"marker\":{\"colorbar\":{\"outlinewidth\":0,\"ticks\":\"\"}},\"type\":\"scattercarpet\"}],\"scattergeo\":[{\"marker\":{\"colorbar\":{\"outlinewidth\":0,\"ticks\":\"\"}},\"type\":\"scattergeo\"}],\"scattergl\":[{\"marker\":{\"colorbar\":{\"outlinewidth\":0,\"ticks\":\"\"}},\"type\":\"scattergl\"}],\"scattermapbox\":[{\"marker\":{\"colorbar\":{\"outlinewidth\":0,\"ticks\":\"\"}},\"type\":\"scattermapbox\"}],\"scattermap\":[{\"marker\":{\"colorbar\":{\"outlinewidth\":0,\"ticks\":\"\"}},\"type\":\"scattermap\"}],\"scatterpolargl\":[{\"marker\":{\"colorbar\":{\"outlinewidth\":0,\"ticks\":\"\"}},\"type\":\"scatterpolargl\"}],\"scatterpolar\":[{\"marker\":{\"colorbar\":{\"outlinewidth\":0,\"ticks\":\"\"}},\"type\":\"scatterpolar\"}],\"scatter\":[{\"fillpattern\":{\"fillmode\":\"overlay\",\"size\":10,\"solidity\":0.2},\"type\":\"scatter\"}],\"scatterternary\":[{\"marker\":{\"colorbar\":{\"outlinewidth\":0,\"ticks\":\"\"}},\"type\":\"scatterternary\"}],\"surface\":[{\"colorbar\":{\"outlinewidth\":0,\"ticks\":\"\"},\"colorscale\":[[0.0,\"#0d0887\"],[0.1111111111111111,\"#46039f\"],[0.2222222222222222,\"#7201a8\"],[0.3333333333333333,\"#9c179e\"],[0.4444444444444444,\"#bd3786\"],[0.5555555555555556,\"#d8576b\"],[0.6666666666666666,\"#ed7953\"],[0.7777777777777778,\"#fb9f3a\"],[0.8888888888888888,\"#fdca26\"],[1.0,\"#f0f921\"]],\"type\":\"surface\"}],\"table\":[{\"cells\":{\"fill\":{\"color\":\"#EBF0F8\"},\"line\":{\"color\":\"white\"}},\"header\":{\"fill\":{\"color\":\"#C8D4E3\"},\"line\":{\"color\":\"white\"}},\"type\":\"table\"}]},\"layout\":{\"annotationdefaults\":{\"arrowcolor\":\"#2a3f5f\",\"arrowhead\":0,\"arrowwidth\":1},\"autotypenumbers\":\"strict\",\"coloraxis\":{\"colorbar\":{\"outlinewidth\":0,\"ticks\":\"\"}},\"colorscale\":{\"diverging\":[[0,\"#8e0152\"],[0.1,\"#c51b7d\"],[0.2,\"#de77ae\"],[0.3,\"#f1b6da\"],[0.4,\"#fde0ef\"],[0.5,\"#f7f7f7\"],[0.6,\"#e6f5d0\"],[0.7,\"#b8e186\"],[0.8,\"#7fbc41\"],[0.9,\"#4d9221\"],[1,\"#276419\"]],\"sequential\":[[0.0,\"#0d0887\"],[0.1111111111111111,\"#46039f\"],[0.2222222222222222,\"#7201a8\"],[0.3333333333333333,\"#9c179e\"],[0.4444444444444444,\"#bd3786\"],[0.5555555555555556,\"#d8576b\"],[0.6666666666666666,\"#ed7953\"],[0.7777777777777778,\"#fb9f3a\"],[0.8888888888888888,\"#fdca26\"],[1.0,\"#f0f921\"]],\"sequentialminus\":[[0.0,\"#0d0887\"],[0.1111111111111111,\"#46039f\"],[0.2222222222222222,\"#7201a8\"],[0.3333333333333333,\"#9c179e\"],[0.4444444444444444,\"#bd3786\"],[0.5555555555555556,\"#d8576b\"],[0.6666666666666666,\"#ed7953\"],[0.7777777777777778,\"#fb9f3a\"],[0.8888888888888888,\"#fdca26\"],[1.0,\"#f0f921\"]]},\"colorway\":[\"#636efa\",\"#EF553B\",\"#00cc96\",\"#ab63fa\",\"#FFA15A\",\"#19d3f3\",\"#FF6692\",\"#B6E880\",\"#FF97FF\",\"#FECB52\"],\"font\":{\"color\":\"#2a3f5f\"},\"geo\":{\"bgcolor\":\"white\",\"lakecolor\":\"white\",\"landcolor\":\"white\",\"showlakes\":true,\"showland\":true,\"subunitcolor\":\"#C8D4E3\"},\"hoverlabel\":{\"align\":\"left\"},\"hovermode\":\"closest\",\"mapbox\":{\"style\":\"light\"},\"paper_bgcolor\":\"white\",\"plot_bgcolor\":\"white\",\"polar\":{\"angularaxis\":{\"gridcolor\":\"#EBF0F8\",\"linecolor\":\"#EBF0F8\",\"ticks\":\"\"},\"bgcolor\":\"white\",\"radialaxis\":{\"gridcolor\":\"#EBF0F8\",\"linecolor\":\"#EBF0F8\",\"ticks\":\"\"}},\"scene\":{\"xaxis\":{\"backgroundcolor\":\"white\",\"gridcolor\":\"#DFE8F3\",\"gridwidth\":2,\"linecolor\":\"#EBF0F8\",\"showbackground\":true,\"ticks\":\"\",\"zerolinecolor\":\"#EBF0F8\"},\"yaxis\":{\"backgroundcolor\":\"white\",\"gridcolor\":\"#DFE8F3\",\"gridwidth\":2,\"linecolor\":\"#EBF0F8\",\"showbackground\":true,\"ticks\":\"\",\"zerolinecolor\":\"#EBF0F8\"},\"zaxis\":{\"backgroundcolor\":\"white\",\"gridcolor\":\"#DFE8F3\",\"gridwidth\":2,\"linecolor\":\"#EBF0F8\",\"showbackground\":true,\"ticks\":\"\",\"zerolinecolor\":\"#EBF0F8\"}},\"shapedefaults\":{\"line\":{\"color\":\"#2a3f5f\"}},\"ternary\":{\"aaxis\":{\"gridcolor\":\"#DFE8F3\",\"linecolor\":\"#A2B1C6\",\"ticks\":\"\"},\"baxis\":{\"gridcolor\":\"#DFE8F3\",\"linecolor\":\"#A2B1C6\",\"ticks\":\"\"},\"bgcolor\":\"white\",\"caxis\":{\"gridcolor\":\"#DFE8F3\",\"linecolor\":\"#A2B1C6\",\"ticks\":\"\"}},\"title\":{\"x\":0.05},\"xaxis\":{\"automargin\":true,\"gridcolor\":\"#EBF0F8\",\"linecolor\":\"#EBF0F8\",\"ticks\":\"\",\"title\":{\"standoff\":15},\"zerolinecolor\":\"#EBF0F8\",\"zerolinewidth\":2},\"yaxis\":{\"automargin\":true,\"gridcolor\":\"#EBF0F8\",\"linecolor\":\"#EBF0F8\",\"ticks\":\"\",\"title\":{\"standoff\":15},\"zerolinecolor\":\"#EBF0F8\",\"zerolinewidth\":2}}},\"title\":{\"text\":\"Second Order Differencing\",\"x\":0.5},\"xaxis\":{\"title\":{\"text\":\"Date\"}},\"yaxis\":{\"title\":{\"text\":\"\"}}},                        {\"responsive\": true}                    ).then(function(){\n",
       "                            \n",
       "var gd = document.getElementById('40360eba-c8b8-4c5b-9c59-16df5b789afa');\n",
       "var x = new MutationObserver(function (mutations, observer) {{\n",
       "        var display = window.getComputedStyle(gd).display;\n",
       "        if (!display || display === 'none') {{\n",
       "            console.log([gd, 'removed!']);\n",
       "            Plotly.purge(gd);\n",
       "            observer.disconnect();\n",
       "        }}\n",
       "}});\n",
       "\n",
       "// Listen for the removal of the full notebook cells\n",
       "var notebookContainer = gd.closest('#notebook-container');\n",
       "if (notebookContainer) {{\n",
       "    x.observe(notebookContainer, {childList: true});\n",
       "}}\n",
       "\n",
       "// Listen for the clearing of the current output cell\n",
       "var outputEl = gd.closest('.output');\n",
       "if (outputEl) {{\n",
       "    x.observe(outputEl, {childList: true});\n",
       "}}\n",
       "\n",
       "                        })                };            </script>        </div>"
      ]
     },
     "metadata": {},
     "output_type": "display_data"
    }
   ],
   "source": [
    "fig = go.Figure()\n",
    "fig.add_trace(go.Scatter(x=data_diff2.index,\n",
    "                         y=data_diff2['Inland Consumption'],\n",
    "                         mode='lines'))\n",
    "\n",
    "\n",
    "fig.update_layout(title=\"Second Order Differencing\",\n",
    "                  xaxis_title='Date',\n",
    "                  title_x = 0.5,\n",
    "                  yaxis_title='',\n",
    "                  template='plotly_white')\n",
    "\n",
    "fig.show()"
   ]
  },
  {
   "cell_type": "code",
   "execution_count": 23,
   "metadata": {},
   "outputs": [
    {
     "data": {
      "image/png": "[encoded data removed]",
      "text/plain": [
       "<Figure size 1400x400 with 2 Axes>"
      ]
     },
     "metadata": {},
     "output_type": "display_data"
    }
   ],
   "source": [
    "# Create a figure with two subplots (1 row, 2 columns)\n",
    "fig, axes = plt.subplots(nrows=1, ncols=2, figsize=(14, 4))\n",
    "\n",
    "# Autocorrelation plot\n",
    "plot_acf(data_diff['Inland Consumption'], ax=axes[0], lags=60)\n",
    "axes[0].set_title(\"Autocorrelation Function (ACF)\")\n",
    "\n",
    "# Partial Autocorrelation plot\n",
    "plot_pacf(data_diff['Inland Consumption'], ax=axes[1], lags=60, method=\"ywm\")\n",
    "axes[1].set_title(\"Partial Autocorrelation Function (PACF)\")\n",
    "\n",
    "# Adjust layout for better appearance\n",
    "plt.tight_layout()\n",
    "plt.show()"
   ]
  },
  {
   "cell_type": "code",
   "execution_count": 25,
   "metadata": {},
   "outputs": [
    {
     "data": {
      "image/png": "[encoded data removed]",
      "text/plain": [
       "<Figure size 1400x400 with 2 Axes>"
      ]
     },
     "metadata": {},
     "output_type": "display_data"
    }
   ],
   "source": [
    "# Create a figure with two subplots (1 row, 2 columns)\n",
    "fig, axes = plt.subplots(nrows=1, ncols=2, figsize=(14, 4))\n",
    "\n",
    "# Autocorrelation plot\n",
    "plot_acf(data_diff2['Inland Consumption'], ax=axes[0], lags=60)\n",
    "axes[0].set_title(\"Autocorrelation Function (ACF)\")\n",
    "\n",
    "# Partial Autocorrelation plot\n",
    "plot_pacf(data_diff2['Inland Consumption'], ax=axes[1], lags=54, method=\"ywm\")\n",
    "axes[1].set_title(\"Partial Autocorrelation Function (PACF)\")\n",
    "\n",
    "# Adjust layout for better appearance\n",
    "plt.tight_layout()\n",
    "plt.show()"
   ]
  },
  {
   "cell_type": "code",
   "execution_count": null,
   "metadata": {},
   "outputs": [],
   "source": []
  },
  {
   "cell_type": "code",
   "execution_count": 9,
   "metadata": {},
   "outputs": [
    {
     "name": "stdout",
     "output_type": "stream",
     "text": [
      "   Augmented Dickey-Fuller Results   \n",
      "=====================================\n",
      "Test Statistic                 -4.125\n",
      "P-value                         0.006\n",
      "Lags                               12\n",
      "-------------------------------------\n",
      "\n",
      "Trend: Constant and Linear Time Trend\n",
      "Critical Values: -4.06 (1%), -3.46 (5%), -3.15 (10%)\n",
      "Null Hypothesis: The process contains a unit root.\n",
      "Alternative Hypothesis: The process is weakly stationary.\n"
     ]
    }
   ],
   "source": [
    "adf = ADF(data_diff2['Inland Consumption'], trend='ct')\n",
    "\n",
    "print(adf.summary().as_text())"
   ]
  },
  {
   "cell_type": "code",
   "execution_count": 10,
   "metadata": {},
   "outputs": [
    {
     "name": "stdout",
     "output_type": "stream",
     "text": [
      "            COVID-19  European Energy Crisis  Russian-Ukraine Conflict\n",
      "2014-01-01         0                       0                         0\n",
      "2014-02-01         0                       0                         0\n",
      "2014-03-01         0                       0                         0\n",
      "2014-04-01         0                       0                         0\n",
      "2014-05-01         0                       0                         0\n",
      "...              ...                     ...                       ...\n",
      "2024-09-01         0                       0                         1\n",
      "2024-10-01         0                       0                         1\n",
      "2024-11-01         0                       0                         1\n",
      "2024-12-01         0                       0                         1\n",
      "2025-01-01         0                       0                         1\n",
      "\n",
      "[133 rows x 3 columns]\n"
     ]
    }
   ],
   "source": [
    "# Create a date range from 2014-01 to 2025-01 with monthly frequency\n",
    "date_range = pd.date_range(start='2014-01-01', end='2025-01-01', freq='MS')\n",
    "\n",
    "# Initialize a DataFrame with the date range as the index\n",
    "crisis_events = pd.DataFrame(index=date_range)\n",
    "\n",
    "# Define the crisis events and their durations in separate columns\n",
    "crisis_events['COVID-19'] = 0\n",
    "crisis_events['European Energy Crisis'] = 0\n",
    "crisis_events['Russian-Ukraine Conflict'] = 0\n",
    "\n",
    "crisis_events.loc['2020-03-01':'2023-05-01', 'COVID-19'] = 1\n",
    "crisis_events.loc['2021-07-01':'2023-08-01', 'European Energy Crisis'] = 1\n",
    "crisis_events.loc['2022-02-01':, 'Russian-Ukraine Conflict'] = 1\n",
    "\n",
    "print(crisis_events)"
   ]
  },
  {
   "cell_type": "markdown",
   "metadata": {},
   "source": [
    "We will proceed to feature engineering, the first one being trigonometric functions of the seasonality"
   ]
  },
  {
   "cell_type": "code",
   "execution_count": 11,
   "metadata": {},
   "outputs": [],
   "source": [
    "import numpy as np\n",
    "from sklearn.preprocessing import FunctionTransformer\n",
    "\n",
    "def sin_transformer(periods):\n",
    "    return FunctionTransformer(lambda x: np.sin(x / periods * 2 * np.pi))\n",
    "\n",
    "def cos_transformer(periods):\n",
    "    return FunctionTransformer(lambda x: np.cos(x / periods * 2 * np.pi))"
   ]
  },
  {
   "cell_type": "code",
   "execution_count": null,
   "metadata": {},
   "outputs": [
    {
     "name": "stdout",
     "output_type": "stream",
     "text": [
      "            month      Cons_sin      Cons_cos\n",
      "Date                                         \n",
      "2014-01-01      1  5.000000e-01  8.660254e-01\n",
      "2014-02-01      2  8.660254e-01  5.000000e-01\n",
      "2014-03-01      3  1.000000e+00  6.123234e-17\n",
      "2014-04-01      4  8.660254e-01 -5.000000e-01\n",
      "2014-05-01      5  5.000000e-01 -8.660254e-01\n",
      "...           ...           ...           ...\n",
      "2024-09-01      9 -1.000000e+00 -1.836970e-16\n",
      "2024-10-01     10 -8.660254e-01  5.000000e-01\n",
      "2024-11-01     11 -5.000000e-01  8.660254e-01\n",
      "2024-12-01     12 -2.449294e-16  1.000000e+00\n",
      "2025-01-01      1  5.000000e-01  8.660254e-01\n",
      "\n",
      "[133 rows x 3 columns]\n"
     ]
    }
   ],
   "source": [
    "trig_df = pd.DataFrame()\n",
    "trig_df.index = data.index\n",
    "\n",
    "trig_df['month'] = data.index.month\n",
    "\n",
    "trig_df['Cons_sin'] = sin_transformer(12).fit_transform(trig_df[['month']])\n",
    "trig_df['Cons_cos'] = cos_transformer(12).fit_transform(trig_df[['month']])\n",
    "\n",
    "\n",
    "print(trig_df)"
   ]
  },
  {
   "cell_type": "code",
   "execution_count": 13,
   "metadata": {},
   "outputs": [
    {
     "data": {
      "application/vnd.plotly.v1+json": {
       "config": {
        "plotlyServerURL": "https://plot.ly"
       },
       "data": [
        {
         "mode": "lines",
         "name": "Sine",
         "type": "scatter",
         "x": [
          "2014-01-01T00:00:00.000000000",
          "2014-02-01T00:00:00.000000000",
          "2014-03-01T00:00:00.000000000",
          "2014-04-01T00:00:00.000000000",
          "2014-05-01T00:00:00.000000000",
          "2014-06-01T00:00:00.000000000",
          "2014-07-01T00:00:00.000000000",
          "2014-08-01T00:00:00.000000000",
          "2014-09-01T00:00:00.000000000",
          "2014-10-01T00:00:00.000000000",
          "2014-11-01T00:00:00.000000000",
          "2014-12-01T00:00:00.000000000",
          "2015-01-01T00:00:00.000000000",
          "2015-02-01T00:00:00.000000000",
          "2015-03-01T00:00:00.000000000",
          "2015-04-01T00:00:00.000000000",
          "2015-05-01T00:00:00.000000000",
          "2015-06-01T00:00:00.000000000",
          "2015-07-01T00:00:00.000000000",
          "2015-08-01T00:00:00.000000000",
          "2015-09-01T00:00:00.000000000",
          "2015-10-01T00:00:00.000000000",
          "2015-11-01T00:00:00.000000000",
          "2015-12-01T00:00:00.000000000",
          "2016-01-01T00:00:00.000000000",
          "2016-02-01T00:00:00.000000000",
          "2016-03-01T00:00:00.000000000",
          "2016-04-01T00:00:00.000000000",
          "2016-05-01T00:00:00.000000000",
          "2016-06-01T00:00:00.000000000",
          "2016-07-01T00:00:00.000000000",
          "2016-08-01T00:00:00.000000000",
          "2016-09-01T00:00:00.000000000",
          "2016-10-01T00:00:00.000000000",
          "2016-11-01T00:00:00.000000000",
          "2016-12-01T00:00:00.000000000",
          "2017-01-01T00:00:00.000000000",
          "2017-02-01T00:00:00.000000000",
          "2017-03-01T00:00:00.000000000",
          "2017-04-01T00:00:00.000000000",
          "2017-05-01T00:00:00.000000000",
          "2017-06-01T00:00:00.000000000",
          "2017-07-01T00:00:00.000000000",
          "2017-08-01T00:00:00.000000000",
          "2017-09-01T00:00:00.000000000",
          "2017-10-01T00:00:00.000000000",
          "2017-11-01T00:00:00.000000000",
          "2017-12-01T00:00:00.000000000",
          "2018-01-01T00:00:00.000000000",
          "2018-02-01T00:00:00.000000000",
          "2018-03-01T00:00:00.000000000",
          "2018-04-01T00:00:00.000000000",
          "2018-05-01T00:00:00.000000000",
          "2018-06-01T00:00:00.000000000",
          "2018-07-01T00:00:00.000000000",
          "2018-08-01T00:00:00.000000000",
          "2018-09-01T00:00:00.000000000",
          "2018-10-01T00:00:00.000000000",
          "2018-11-01T00:00:00.000000000",
          "2018-12-01T00:00:00.000000000",
          "2019-01-01T00:00:00.000000000",
          "2019-02-01T00:00:00.000000000",
          "2019-03-01T00:00:00.000000000",
          "2019-04-01T00:00:00.000000000",
          "2019-05-01T00:00:00.000000000",
          "2019-06-01T00:00:00.000000000",
          "2019-07-01T00:00:00.000000000",
          "2019-08-01T00:00:00.000000000",
          "2019-09-01T00:00:00.000000000",
          "2019-10-01T00:00:00.000000000",
          "2019-11-01T00:00:00.000000000",
          "2019-12-01T00:00:00.000000000",
          "2020-01-01T00:00:00.000000000",
          "2020-02-01T00:00:00.000000000",
          "2020-03-01T00:00:00.000000000",
          "2020-04-01T00:00:00.000000000",
          "2020-05-01T00:00:00.000000000",
          "2020-06-01T00:00:00.000000000",
          "2020-07-01T00:00:00.000000000",
          "2020-08-01T00:00:00.000000000",
          "2020-09-01T00:00:00.000000000",
          "2020-10-01T00:00:00.000000000",
          "2020-11-01T00:00:00.000000000",
          "2020-12-01T00:00:00.000000000",
          "2021-01-01T00:00:00.000000000",
          "2021-02-01T00:00:00.000000000",
          "2021-03-01T00:00:00.000000000",
          "2021-04-01T00:00:00.000000000",
          "2021-05-01T00:00:00.000000000",
          "2021-06-01T00:00:00.000000000",
          "2021-07-01T00:00:00.000000000",
          "2021-08-01T00:00:00.000000000",
          "2021-09-01T00:00:00.000000000",
          "2021-10-01T00:00:00.000000000",
          "2021-11-01T00:00:00.000000000",
          "2021-12-01T00:00:00.000000000",
          "2022-01-01T00:00:00.000000000",
          "2022-02-01T00:00:00.000000000",
          "2022-03-01T00:00:00.000000000",
          "2022-04-01T00:00:00.000000000",
          "2022-05-01T00:00:00.000000000",
          "2022-06-01T00:00:00.000000000",
          "2022-07-01T00:00:00.000000000",
          "2022-08-01T00:00:00.000000000",
          "2022-09-01T00:00:00.000000000",
          "2022-10-01T00:00:00.000000000",
          "2022-11-01T00:00:00.000000000",
          "2022-12-01T00:00:00.000000000",
          "2023-01-01T00:00:00.000000000",
          "2023-02-01T00:00:00.000000000",
          "2023-03-01T00:00:00.000000000",
          "2023-04-01T00:00:00.000000000",
          "2023-05-01T00:00:00.000000000",
          "2023-06-01T00:00:00.000000000",
          "2023-07-01T00:00:00.000000000",
          "2023-08-01T00:00:00.000000000",
          "2023-09-01T00:00:00.000000000",
          "2023-10-01T00:00:00.000000000",
          "2023-11-01T00:00:00.000000000",
          "2023-12-01T00:00:00.000000000",
          "2024-01-01T00:00:00.000000000",
          "2024-02-01T00:00:00.000000000",
          "2024-03-01T00:00:00.000000000",
          "2024-04-01T00:00:00.000000000",
          "2024-05-01T00:00:00.000000000",
          "2024-06-01T00:00:00.000000000",
          "2024-07-01T00:00:00.000000000",
          "2024-08-01T00:00:00.000000000",
          "2024-09-01T00:00:00.000000000",
          "2024-10-01T00:00:00.000000000",
          "2024-11-01T00:00:00.000000000",
          "2024-12-01T00:00:00.000000000",
          "2025-01-01T00:00:00.000000000"
         ],
         "y": {
          "bdata": "////////3z+qTFjoerbrPwAAAAAAAPA/q0xY6Hq26z/////////fPwdcFDMmpqE8AQAAAAAA4L+pTFjoerbrvwAAAAAAAPC/qkxY6Hq2678EAAAAAADgvwdcFDMmprG8////////3z+qTFjoerbrPwAAAAAAAPA/q0xY6Hq26z/////////fPwdcFDMmpqE8AQAAAAAA4L+pTFjoerbrvwAAAAAAAPC/qkxY6Hq2678EAAAAAADgvwdcFDMmprG8////////3z+qTFjoerbrPwAAAAAAAPA/q0xY6Hq26z/////////fPwdcFDMmpqE8AQAAAAAA4L+pTFjoerbrvwAAAAAAAPC/qkxY6Hq2678EAAAAAADgvwdcFDMmprG8////////3z+qTFjoerbrPwAAAAAAAPA/q0xY6Hq26z/////////fPwdcFDMmpqE8AQAAAAAA4L+pTFjoerbrvwAAAAAAAPC/qkxY6Hq2678EAAAAAADgvwdcFDMmprG8////////3z+qTFjoerbrPwAAAAAAAPA/q0xY6Hq26z/////////fPwdcFDMmpqE8AQAAAAAA4L+pTFjoerbrvwAAAAAAAPC/qkxY6Hq2678EAAAAAADgvwdcFDMmprG8////////3z+qTFjoerbrPwAAAAAAAPA/q0xY6Hq26z/////////fPwdcFDMmpqE8AQAAAAAA4L+pTFjoerbrvwAAAAAAAPC/qkxY6Hq2678EAAAAAADgvwdcFDMmprG8////////3z+qTFjoerbrPwAAAAAAAPA/q0xY6Hq26z/////////fPwdcFDMmpqE8AQAAAAAA4L+pTFjoerbrvwAAAAAAAPC/qkxY6Hq2678EAAAAAADgvwdcFDMmprG8////////3z+qTFjoerbrPwAAAAAAAPA/q0xY6Hq26z/////////fPwdcFDMmpqE8AQAAAAAA4L+pTFjoerbrvwAAAAAAAPC/qkxY6Hq2678EAAAAAADgvwdcFDMmprG8////////3z+qTFjoerbrPwAAAAAAAPA/q0xY6Hq26z/////////fPwdcFDMmpqE8AQAAAAAA4L+pTFjoerbrvwAAAAAAAPC/qkxY6Hq2678EAAAAAADgvwdcFDMmprG8////////3z+qTFjoerbrPwAAAAAAAPA/q0xY6Hq26z/////////fPwdcFDMmpqE8AQAAAAAA4L+pTFjoerbrvwAAAAAAAPC/qkxY6Hq2678EAAAAAADgvwdcFDMmprG8////////3z+qTFjoerbrPwAAAAAAAPA/q0xY6Hq26z/////////fPwdcFDMmpqE8AQAAAAAA4L+pTFjoerbrvwAAAAAAAPC/qkxY6Hq2678EAAAAAADgvwdcFDMmprG8////////3z8=",
          "dtype": "f8"
         }
        },
        {
         "mode": "lines",
         "name": "Cosine",
         "type": "scatter",
         "x": [
          "2014-01-01T00:00:00.000000000",
          "2014-02-01T00:00:00.000000000",
          "2014-03-01T00:00:00.000000000",
          "2014-04-01T00:00:00.000000000",
          "2014-05-01T00:00:00.000000000",
          "2014-06-01T00:00:00.000000000",
          "2014-07-01T00:00:00.000000000",
          "2014-08-01T00:00:00.000000000",
          "2014-09-01T00:00:00.000000000",
          "2014-10-01T00:00:00.000000000",
          "2014-11-01T00:00:00.000000000",
          "2014-12-01T00:00:00.000000000",
          "2015-01-01T00:00:00.000000000",
          "2015-02-01T00:00:00.000000000",
          "2015-03-01T00:00:00.000000000",
          "2015-04-01T00:00:00.000000000",
          "2015-05-01T00:00:00.000000000",
          "2015-06-01T00:00:00.000000000",
          "2015-07-01T00:00:00.000000000",
          "2015-08-01T00:00:00.000000000",
          "2015-09-01T00:00:00.000000000",
          "2015-10-01T00:00:00.000000000",
          "2015-11-01T00:00:00.000000000",
          "2015-12-01T00:00:00.000000000",
          "2016-01-01T00:00:00.000000000",
          "2016-02-01T00:00:00.000000000",
          "2016-03-01T00:00:00.000000000",
          "2016-04-01T00:00:00.000000000",
          "2016-05-01T00:00:00.000000000",
          "2016-06-01T00:00:00.000000000",
          "2016-07-01T00:00:00.000000000",
          "2016-08-01T00:00:00.000000000",
          "2016-09-01T00:00:00.000000000",
          "2016-10-01T00:00:00.000000000",
          "2016-11-01T00:00:00.000000000",
          "2016-12-01T00:00:00.000000000",
          "2017-01-01T00:00:00.000000000",
          "2017-02-01T00:00:00.000000000",
          "2017-03-01T00:00:00.000000000",
          "2017-04-01T00:00:00.000000000",
          "2017-05-01T00:00:00.000000000",
          "2017-06-01T00:00:00.000000000",
          "2017-07-01T00:00:00.000000000",
          "2017-08-01T00:00:00.000000000",
          "2017-09-01T00:00:00.000000000",
          "2017-10-01T00:00:00.000000000",
          "2017-11-01T00:00:00.000000000",
          "2017-12-01T00:00:00.000000000",
          "2018-01-01T00:00:00.000000000",
          "2018-02-01T00:00:00.000000000",
          "2018-03-01T00:00:00.000000000",
          "2018-04-01T00:00:00.000000000",
          "2018-05-01T00:00:00.000000000",
          "2018-06-01T00:00:00.000000000",
          "2018-07-01T00:00:00.000000000",
          "2018-08-01T00:00:00.000000000",
          "2018-09-01T00:00:00.000000000",
          "2018-10-01T00:00:00.000000000",
          "2018-11-01T00:00:00.000000000",
          "2018-12-01T00:00:00.000000000",
          "2019-01-01T00:00:00.000000000",
          "2019-02-01T00:00:00.000000000",
          "2019-03-01T00:00:00.000000000",
          "2019-04-01T00:00:00.000000000",
          "2019-05-01T00:00:00.000000000",
          "2019-06-01T00:00:00.000000000",
          "2019-07-01T00:00:00.000000000",
          "2019-08-01T00:00:00.000000000",
          "2019-09-01T00:00:00.000000000",
          "2019-10-01T00:00:00.000000000",
          "2019-11-01T00:00:00.000000000",
          "2019-12-01T00:00:00.000000000",
          "2020-01-01T00:00:00.000000000",
          "2020-02-01T00:00:00.000000000",
          "2020-03-01T00:00:00.000000000",
          "2020-04-01T00:00:00.000000000",
          "2020-05-01T00:00:00.000000000",
          "2020-06-01T00:00:00.000000000",
          "2020-07-01T00:00:00.000000000",
          "2020-08-01T00:00:00.000000000",
          "2020-09-01T00:00:00.000000000",
          "2020-10-01T00:00:00.000000000",
          "2020-11-01T00:00:00.000000000",
          "2020-12-01T00:00:00.000000000",
          "2021-01-01T00:00:00.000000000",
          "2021-02-01T00:00:00.000000000",
          "2021-03-01T00:00:00.000000000",
          "2021-04-01T00:00:00.000000000",
          "2021-05-01T00:00:00.000000000",
          "2021-06-01T00:00:00.000000000",
          "2021-07-01T00:00:00.000000000",
          "2021-08-01T00:00:00.000000000",
          "2021-09-01T00:00:00.000000000",
          "2021-10-01T00:00:00.000000000",
          "2021-11-01T00:00:00.000000000",
          "2021-12-01T00:00:00.000000000",
          "2022-01-01T00:00:00.000000000",
          "2022-02-01T00:00:00.000000000",
          "2022-03-01T00:00:00.000000000",
          "2022-04-01T00:00:00.000000000",
          "2022-05-01T00:00:00.000000000",
          "2022-06-01T00:00:00.000000000",
          "2022-07-01T00:00:00.000000000",
          "2022-08-01T00:00:00.000000000",
          "2022-09-01T00:00:00.000000000",
          "2022-10-01T00:00:00.000000000",
          "2022-11-01T00:00:00.000000000",
          "2022-12-01T00:00:00.000000000",
          "2023-01-01T00:00:00.000000000",
          "2023-02-01T00:00:00.000000000",
          "2023-03-01T00:00:00.000000000",
          "2023-04-01T00:00:00.000000000",
          "2023-05-01T00:00:00.000000000",
          "2023-06-01T00:00:00.000000000",
          "2023-07-01T00:00:00.000000000",
          "2023-08-01T00:00:00.000000000",
          "2023-09-01T00:00:00.000000000",
          "2023-10-01T00:00:00.000000000",
          "2023-11-01T00:00:00.000000000",
          "2023-12-01T00:00:00.000000000",
          "2024-01-01T00:00:00.000000000",
          "2024-02-01T00:00:00.000000000",
          "2024-03-01T00:00:00.000000000",
          "2024-04-01T00:00:00.000000000",
          "2024-05-01T00:00:00.000000000",
          "2024-06-01T00:00:00.000000000",
          "2024-07-01T00:00:00.000000000",
          "2024-08-01T00:00:00.000000000",
          "2024-09-01T00:00:00.000000000",
          "2024-10-01T00:00:00.000000000",
          "2024-11-01T00:00:00.000000000",
          "2024-12-01T00:00:00.000000000",
          "2025-01-01T00:00:00.000000000"
         ],
         "y": {
          "bdata": "q0xY6Hq26z8BAAAAAADgPwdcFDMmppE8/P//////37+rTFjoerbrvwAAAAAAAPC/qkxY6Hq2678EAAAAAADgvwqKnkw5eaq8AQAAAAAA4D+oTFjoerbrPwAAAAAAAPA/q0xY6Hq26z8BAAAAAADgPwdcFDMmppE8/P//////37+rTFjoerbrvwAAAAAAAPC/qkxY6Hq2678EAAAAAADgvwqKnkw5eaq8AQAAAAAA4D+oTFjoerbrPwAAAAAAAPA/q0xY6Hq26z8BAAAAAADgPwdcFDMmppE8/P//////37+rTFjoerbrvwAAAAAAAPC/qkxY6Hq2678EAAAAAADgvwqKnkw5eaq8AQAAAAAA4D+oTFjoerbrPwAAAAAAAPA/q0xY6Hq26z8BAAAAAADgPwdcFDMmppE8/P//////37+rTFjoerbrvwAAAAAAAPC/qkxY6Hq2678EAAAAAADgvwqKnkw5eaq8AQAAAAAA4D+oTFjoerbrPwAAAAAAAPA/q0xY6Hq26z8BAAAAAADgPwdcFDMmppE8/P//////37+rTFjoerbrvwAAAAAAAPC/qkxY6Hq2678EAAAAAADgvwqKnkw5eaq8AQAAAAAA4D+oTFjoerbrPwAAAAAAAPA/q0xY6Hq26z8BAAAAAADgPwdcFDMmppE8/P//////37+rTFjoerbrvwAAAAAAAPC/qkxY6Hq2678EAAAAAADgvwqKnkw5eaq8AQAAAAAA4D+oTFjoerbrPwAAAAAAAPA/q0xY6Hq26z8BAAAAAADgPwdcFDMmppE8/P//////37+rTFjoerbrvwAAAAAAAPC/qkxY6Hq2678EAAAAAADgvwqKnkw5eaq8AQAAAAAA4D+oTFjoerbrPwAAAAAAAPA/q0xY6Hq26z8BAAAAAADgPwdcFDMmppE8/P//////37+rTFjoerbrvwAAAAAAAPC/qkxY6Hq2678EAAAAAADgvwqKnkw5eaq8AQAAAAAA4D+oTFjoerbrPwAAAAAAAPA/q0xY6Hq26z8BAAAAAADgPwdcFDMmppE8/P//////37+rTFjoerbrvwAAAAAAAPC/qkxY6Hq2678EAAAAAADgvwqKnkw5eaq8AQAAAAAA4D+oTFjoerbrPwAAAAAAAPA/q0xY6Hq26z8BAAAAAADgPwdcFDMmppE8/P//////37+rTFjoerbrvwAAAAAAAPC/qkxY6Hq2678EAAAAAADgvwqKnkw5eaq8AQAAAAAA4D+oTFjoerbrPwAAAAAAAPA/q0xY6Hq26z8BAAAAAADgPwdcFDMmppE8/P//////37+rTFjoerbrvwAAAAAAAPC/qkxY6Hq2678EAAAAAADgvwqKnkw5eaq8AQAAAAAA4D+oTFjoerbrPwAAAAAAAPA/q0xY6Hq26z8=",
          "dtype": "f8"
         }
        }
       ],
       "layout": {
        "template": {
         "data": {
          "bar": [
           {
            "error_x": {
             "color": "#2a3f5f"
            },
            "error_y": {
             "color": "#2a3f5f"
            },
            "marker": {
             "line": {
              "color": "white",
              "width": 0.5
             },
             "pattern": {
              "fillmode": "overlay",
              "size": 10,
              "solidity": 0.2
             }
            },
            "type": "bar"
           }
          ],
          "barpolar": [
           {
            "marker": {
             "line": {
              "color": "white",
              "width": 0.5
             },
             "pattern": {
              "fillmode": "overlay",
              "size": 10,
              "solidity": 0.2
             }
            },
            "type": "barpolar"
           }
          ],
          "carpet": [
           {
            "aaxis": {
             "endlinecolor": "#2a3f5f",
             "gridcolor": "#C8D4E3",
             "linecolor": "#C8D4E3",
             "minorgridcolor": "#C8D4E3",
             "startlinecolor": "#2a3f5f"
            },
            "baxis": {
             "endlinecolor": "#2a3f5f",
             "gridcolor": "#C8D4E3",
             "linecolor": "#C8D4E3",
             "minorgridcolor": "#C8D4E3",
             "startlinecolor": "#2a3f5f"
            },
            "type": "carpet"
           }
          ],
          "choropleth": [
           {
            "colorbar": {
             "outlinewidth": 0,
             "ticks": ""
            },
            "type": "choropleth"
           }
          ],
          "contour": [
           {
            "colorbar": {
             "outlinewidth": 0,
             "ticks": ""
            },
            "colorscale": [
             [
              0,
              "#0d0887"
             ],
             [
              0.1111111111111111,
              "#46039f"
             ],
             [
              0.2222222222222222,
              "#7201a8"
             ],
             [
              0.3333333333333333,
              "#9c179e"
             ],
             [
              0.4444444444444444,
              "#bd3786"
             ],
             [
              0.5555555555555556,
              "#d8576b"
             ],
             [
              0.6666666666666666,
              "#ed7953"
             ],
             [
              0.7777777777777778,
              "#fb9f3a"
             ],
             [
              0.8888888888888888,
              "#fdca26"
             ],
             [
              1,
              "#f0f921"
             ]
            ],
            "type": "contour"
           }
          ],
          "contourcarpet": [
           {
            "colorbar": {
             "outlinewidth": 0,
             "ticks": ""
            },
            "type": "contourcarpet"
           }
          ],
          "heatmap": [
           {
            "colorbar": {
             "outlinewidth": 0,
             "ticks": ""
            },
            "colorscale": [
             [
              0,
              "#0d0887"
             ],
             [
              0.1111111111111111,
              "#46039f"
             ],
             [
              0.2222222222222222,
              "#7201a8"
             ],
             [
              0.3333333333333333,
              "#9c179e"
             ],
             [
              0.4444444444444444,
              "#bd3786"
             ],
             [
              0.5555555555555556,
              "#d8576b"
             ],
             [
              0.6666666666666666,
              "#ed7953"
             ],
             [
              0.7777777777777778,
              "#fb9f3a"
             ],
             [
              0.8888888888888888,
              "#fdca26"
             ],
             [
              1,
              "#f0f921"
             ]
            ],
            "type": "heatmap"
           }
          ],
          "histogram": [
           {
            "marker": {
             "pattern": {
              "fillmode": "overlay",
              "size": 10,
              "solidity": 0.2
             }
            },
            "type": "histogram"
           }
          ],
          "histogram2d": [
           {
            "colorbar": {
             "outlinewidth": 0,
             "ticks": ""
            },
            "colorscale": [
             [
              0,
              "#0d0887"
             ],
             [
              0.1111111111111111,
              "#46039f"
             ],
             [
              0.2222222222222222,
              "#7201a8"
             ],
             [
              0.3333333333333333,
              "#9c179e"
             ],
             [
              0.4444444444444444,
              "#bd3786"
             ],
             [
              0.5555555555555556,
              "#d8576b"
             ],
             [
              0.6666666666666666,
              "#ed7953"
             ],
             [
              0.7777777777777778,
              "#fb9f3a"
             ],
             [
              0.8888888888888888,
              "#fdca26"
             ],
             [
              1,
              "#f0f921"
             ]
            ],
            "type": "histogram2d"
           }
          ],
          "histogram2dcontour": [
           {
            "colorbar": {
             "outlinewidth": 0,
             "ticks": ""
            },
            "colorscale": [
             [
              0,
              "#0d0887"
             ],
             [
              0.1111111111111111,
              "#46039f"
             ],
             [
              0.2222222222222222,
              "#7201a8"
             ],
             [
              0.3333333333333333,
              "#9c179e"
             ],
             [
              0.4444444444444444,
              "#bd3786"
             ],
             [
              0.5555555555555556,
              "#d8576b"
             ],
             [
              0.6666666666666666,
              "#ed7953"
             ],
             [
              0.7777777777777778,
              "#fb9f3a"
             ],
             [
              0.8888888888888888,
              "#fdca26"
             ],
             [
              1,
              "#f0f921"
             ]
            ],
            "type": "histogram2dcontour"
           }
          ],
          "mesh3d": [
           {
            "colorbar": {
             "outlinewidth": 0,
             "ticks": ""
            },
            "type": "mesh3d"
           }
          ],
          "parcoords": [
           {
            "line": {
             "colorbar": {
              "outlinewidth": 0,
              "ticks": ""
             }
            },
            "type": "parcoords"
           }
          ],
          "pie": [
           {
            "automargin": true,
            "type": "pie"
           }
          ],
          "scatter": [
           {
            "fillpattern": {
             "fillmode": "overlay",
             "size": 10,
             "solidity": 0.2
            },
            "type": "scatter"
           }
          ],
          "scatter3d": [
           {
            "line": {
             "colorbar": {
              "outlinewidth": 0,
              "ticks": ""
             }
            },
            "marker": {
             "colorbar": {
              "outlinewidth": 0,
              "ticks": ""
             }
            },
            "type": "scatter3d"
           }
          ],
          "scattercarpet": [
           {
            "marker": {
             "colorbar": {
              "outlinewidth": 0,
              "ticks": ""
             }
            },
            "type": "scattercarpet"
           }
          ],
          "scattergeo": [
           {
            "marker": {
             "colorbar": {
              "outlinewidth": 0,
              "ticks": ""
             }
            },
            "type": "scattergeo"
           }
          ],
          "scattergl": [
           {
            "marker": {
             "colorbar": {
              "outlinewidth": 0,
              "ticks": ""
             }
            },
            "type": "scattergl"
           }
          ],
          "scattermap": [
           {
            "marker": {
             "colorbar": {
              "outlinewidth": 0,
              "ticks": ""
             }
            },
            "type": "scattermap"
           }
          ],
          "scattermapbox": [
           {
            "marker": {
             "colorbar": {
              "outlinewidth": 0,
              "ticks": ""
             }
            },
            "type": "scattermapbox"
           }
          ],
          "scatterpolar": [
           {
            "marker": {
             "colorbar": {
              "outlinewidth": 0,
              "ticks": ""
             }
            },
            "type": "scatterpolar"
           }
          ],
          "scatterpolargl": [
           {
            "marker": {
             "colorbar": {
              "outlinewidth": 0,
              "ticks": ""
             }
            },
            "type": "scatterpolargl"
           }
          ],
          "scatterternary": [
           {
            "marker": {
             "colorbar": {
              "outlinewidth": 0,
              "ticks": ""
             }
            },
            "type": "scatterternary"
           }
          ],
          "surface": [
           {
            "colorbar": {
             "outlinewidth": 0,
             "ticks": ""
            },
            "colorscale": [
             [
              0,
              "#0d0887"
             ],
             [
              0.1111111111111111,
              "#46039f"
             ],
             [
              0.2222222222222222,
              "#7201a8"
             ],
             [
              0.3333333333333333,
              "#9c179e"
             ],
             [
              0.4444444444444444,
              "#bd3786"
             ],
             [
              0.5555555555555556,
              "#d8576b"
             ],
             [
              0.6666666666666666,
              "#ed7953"
             ],
             [
              0.7777777777777778,
              "#fb9f3a"
             ],
             [
              0.8888888888888888,
              "#fdca26"
             ],
             [
              1,
              "#f0f921"
             ]
            ],
            "type": "surface"
           }
          ],
          "table": [
           {
            "cells": {
             "fill": {
              "color": "#EBF0F8"
             },
             "line": {
              "color": "white"
             }
            },
            "header": {
             "fill": {
              "color": "#C8D4E3"
             },
             "line": {
              "color": "white"
             }
            },
            "type": "table"
           }
          ]
         },
         "layout": {
          "annotationdefaults": {
           "arrowcolor": "#2a3f5f",
           "arrowhead": 0,
           "arrowwidth": 1
          },
          "autotypenumbers": "strict",
          "coloraxis": {
           "colorbar": {
            "outlinewidth": 0,
            "ticks": ""
           }
          },
          "colorscale": {
           "diverging": [
            [
             0,
             "#8e0152"
            ],
            [
             0.1,
             "#c51b7d"
            ],
            [
             0.2,
             "#de77ae"
            ],
            [
             0.3,
             "#f1b6da"
            ],
            [
             0.4,
             "#fde0ef"
            ],
            [
             0.5,
             "#f7f7f7"
            ],
            [
             0.6,
             "#e6f5d0"
            ],
            [
             0.7,
             "#b8e186"
            ],
            [
             0.8,
             "#7fbc41"
            ],
            [
             0.9,
             "#4d9221"
            ],
            [
             1,
             "#276419"
            ]
           ],
           "sequential": [
            [
             0,
             "#0d0887"
            ],
            [
             0.1111111111111111,
             "#46039f"
            ],
            [
             0.2222222222222222,
             "#7201a8"
            ],
            [
             0.3333333333333333,
             "#9c179e"
            ],
            [
             0.4444444444444444,
             "#bd3786"
            ],
            [
             0.5555555555555556,
             "#d8576b"
            ],
            [
             0.6666666666666666,
             "#ed7953"
            ],
            [
             0.7777777777777778,
             "#fb9f3a"
            ],
            [
             0.8888888888888888,
             "#fdca26"
            ],
            [
             1,
             "#f0f921"
            ]
           ],
           "sequentialminus": [
            [
             0,
             "#0d0887"
            ],
            [
             0.1111111111111111,
             "#46039f"
            ],
            [
             0.2222222222222222,
             "#7201a8"
            ],
            [
             0.3333333333333333,
             "#9c179e"
            ],
            [
             0.4444444444444444,
             "#bd3786"
            ],
            [
             0.5555555555555556,
             "#d8576b"
            ],
            [
             0.6666666666666666,
             "#ed7953"
            ],
            [
             0.7777777777777778,
             "#fb9f3a"
            ],
            [
             0.8888888888888888,
             "#fdca26"
            ],
            [
             1,
             "#f0f921"
            ]
           ]
          },
          "colorway": [
           "#636efa",
           "#EF553B",
           "#00cc96",
           "#ab63fa",
           "#FFA15A",
           "#19d3f3",
           "#FF6692",
           "#B6E880",
           "#FF97FF",
           "#FECB52"
          ],
          "font": {
           "color": "#2a3f5f"
          },
          "geo": {
           "bgcolor": "white",
           "lakecolor": "white",
           "landcolor": "white",
           "showlakes": true,
           "showland": true,
           "subunitcolor": "#C8D4E3"
          },
          "hoverlabel": {
           "align": "left"
          },
          "hovermode": "closest",
          "mapbox": {
           "style": "light"
          },
          "paper_bgcolor": "white",
          "plot_bgcolor": "white",
          "polar": {
           "angularaxis": {
            "gridcolor": "#EBF0F8",
            "linecolor": "#EBF0F8",
            "ticks": ""
           },
           "bgcolor": "white",
           "radialaxis": {
            "gridcolor": "#EBF0F8",
            "linecolor": "#EBF0F8",
            "ticks": ""
           }
          },
          "scene": {
           "xaxis": {
            "backgroundcolor": "white",
            "gridcolor": "#DFE8F3",
            "gridwidth": 2,
            "linecolor": "#EBF0F8",
            "showbackground": true,
            "ticks": "",
            "zerolinecolor": "#EBF0F8"
           },
           "yaxis": {
            "backgroundcolor": "white",
            "gridcolor": "#DFE8F3",
            "gridwidth": 2,
            "linecolor": "#EBF0F8",
            "showbackground": true,
            "ticks": "",
            "zerolinecolor": "#EBF0F8"
           },
           "zaxis": {
            "backgroundcolor": "white",
            "gridcolor": "#DFE8F3",
            "gridwidth": 2,
            "linecolor": "#EBF0F8",
            "showbackground": true,
            "ticks": "",
            "zerolinecolor": "#EBF0F8"
           }
          },
          "shapedefaults": {
           "line": {
            "color": "#2a3f5f"
           }
          },
          "ternary": {
           "aaxis": {
            "gridcolor": "#DFE8F3",
            "linecolor": "#A2B1C6",
            "ticks": ""
           },
           "baxis": {
            "gridcolor": "#DFE8F3",
            "linecolor": "#A2B1C6",
            "ticks": ""
           },
           "bgcolor": "white",
           "caxis": {
            "gridcolor": "#DFE8F3",
            "linecolor": "#A2B1C6",
            "ticks": ""
           }
          },
          "title": {
           "x": 0.05
          },
          "xaxis": {
           "automargin": true,
           "gridcolor": "#EBF0F8",
           "linecolor": "#EBF0F8",
           "ticks": "",
           "title": {
            "standoff": 15
           },
           "zerolinecolor": "#EBF0F8",
           "zerolinewidth": 2
          },
          "yaxis": {
           "automargin": true,
           "gridcolor": "#EBF0F8",
           "linecolor": "#EBF0F8",
           "ticks": "",
           "title": {
            "standoff": 15
           },
           "zerolinecolor": "#EBF0F8",
           "zerolinewidth": 2
          }
         }
        },
        "title": {
         "text": "Trigonometric functions of Romania's Inland Gas Consumption",
         "x": 0.5
        },
        "xaxis": {
         "title": {
          "text": "Date"
         }
        },
        "yaxis": {
         "title": {
          "text": ""
         }
        }
       }
      },
      "text/html": [
       "<div>            <script src=\"https://cdnjs.cloudflare.com/ajax/libs/mathjax/2.7.5/MathJax.js?config=TeX-AMS-MML_SVG\"></script><script type=\"text/javascript\">if (window.MathJax && window.MathJax.Hub && window.MathJax.Hub.Config) {window.MathJax.Hub.Config({SVG: {font: \"STIX-Web\"}});}</script>                <script type=\"text/javascript\">window.PlotlyConfig = {MathJaxConfig: 'local'};</script>\n",
       "        <script charset=\"utf-8\" src=\"https://cdn.plot.ly/plotly-3.0.0.min.js\"></script>                <div id=\"c7d128ec-1c21-4793-b7f7-9cdf053f0e98\" class=\"plotly-graph-div\" style=\"height:525px; width:100%;\"></div>            <script type=\"text/javascript\">                window.PLOTLYENV=window.PLOTLYENV || {};                                if (document.getElementById(\"c7d128ec-1c21-4793-b7f7-9cdf053f0e98\")) {                    Plotly.newPlot(                        \"c7d128ec-1c21-4793-b7f7-9cdf053f0e98\",                        [{\"mode\":\"lines\",\"name\":\"Sine\",\"x\":[\"2014-01-01T00:00:00.000000000\",\"2014-02-01T00:00:00.000000000\",\"2014-03-01T00:00:00.000000000\",\"2014-04-01T00:00:00.000000000\",\"2014-05-01T00:00:00.000000000\",\"2014-06-01T00:00:00.000000000\",\"2014-07-01T00:00:00.000000000\",\"2014-08-01T00:00:00.000000000\",\"2014-09-01T00:00:00.000000000\",\"2014-10-01T00:00:00.000000000\",\"2014-11-01T00:00:00.000000000\",\"2014-12-01T00:00:00.000000000\",\"2015-01-01T00:00:00.000000000\",\"2015-02-01T00:00:00.000000000\",\"2015-03-01T00:00:00.000000000\",\"2015-04-01T00:00:00.000000000\",\"2015-05-01T00:00:00.000000000\",\"2015-06-01T00:00:00.000000000\",\"2015-07-01T00:00:00.000000000\",\"2015-08-01T00:00:00.000000000\",\"2015-09-01T00:00:00.000000000\",\"2015-10-01T00:00:00.000000000\",\"2015-11-01T00:00:00.000000000\",\"2015-12-01T00:00:00.000000000\",\"2016-01-01T00:00:00.000000000\",\"2016-02-01T00:00:00.000000000\",\"2016-03-01T00:00:00.000000000\",\"2016-04-01T00:00:00.000000000\",\"2016-05-01T00:00:00.000000000\",\"2016-06-01T00:00:00.000000000\",\"2016-07-01T00:00:00.000000000\",\"2016-08-01T00:00:00.000000000\",\"2016-09-01T00:00:00.000000000\",\"2016-10-01T00:00:00.000000000\",\"2016-11-01T00:00:00.000000000\",\"2016-12-01T00:00:00.000000000\",\"2017-01-01T00:00:00.000000000\",\"2017-02-01T00:00:00.000000000\",\"2017-03-01T00:00:00.000000000\",\"2017-04-01T00:00:00.000000000\",\"2017-05-01T00:00:00.000000000\",\"2017-06-01T00:00:00.000000000\",\"2017-07-01T00:00:00.000000000\",\"2017-08-01T00:00:00.000000000\",\"2017-09-01T00:00:00.000000000\",\"2017-10-01T00:00:00.000000000\",\"2017-11-01T00:00:00.000000000\",\"2017-12-01T00:00:00.000000000\",\"2018-01-01T00:00:00.000000000\",\"2018-02-01T00:00:00.000000000\",\"2018-03-01T00:00:00.000000000\",\"2018-04-01T00:00:00.000000000\",\"2018-05-01T00:00:00.000000000\",\"2018-06-01T00:00:00.000000000\",\"2018-07-01T00:00:00.000000000\",\"2018-08-01T00:00:00.000000000\",\"2018-09-01T00:00:00.000000000\",\"2018-10-01T00:00:00.000000000\",\"2018-11-01T00:00:00.000000000\",\"2018-12-01T00:00:00.000000000\",\"2019-01-01T00:00:00.000000000\",\"2019-02-01T00:00:00.000000000\",\"2019-03-01T00:00:00.000000000\",\"2019-04-01T00:00:00.000000000\",\"2019-05-01T00:00:00.000000000\",\"2019-06-01T00:00:00.000000000\",\"2019-07-01T00:00:00.000000000\",\"2019-08-01T00:00:00.000000000\",\"2019-09-01T00:00:00.000000000\",\"2019-10-01T00:00:00.000000000\",\"2019-11-01T00:00:00.000000000\",\"2019-12-01T00:00:00.000000000\",\"2020-01-01T00:00:00.000000000\",\"2020-02-01T00:00:00.000000000\",\"2020-03-01T00:00:00.000000000\",\"2020-04-01T00:00:00.000000000\",\"2020-05-01T00:00:00.000000000\",\"2020-06-01T00:00:00.000000000\",\"2020-07-01T00:00:00.000000000\",\"2020-08-01T00:00:00.000000000\",\"2020-09-01T00:00:00.000000000\",\"2020-10-01T00:00:00.000000000\",\"2020-11-01T00:00:00.000000000\",\"2020-12-01T00:00:00.000000000\",\"2021-01-01T00:00:00.000000000\",\"2021-02-01T00:00:00.000000000\",\"2021-03-01T00:00:00.000000000\",\"2021-04-01T00:00:00.000000000\",\"2021-05-01T00:00:00.000000000\",\"2021-06-01T00:00:00.000000000\",\"2021-07-01T00:00:00.000000000\",\"2021-08-01T00:00:00.000000000\",\"2021-09-01T00:00:00.000000000\",\"2021-10-01T00:00:00.000000000\",\"2021-11-01T00:00:00.000000000\",\"2021-12-01T00:00:00.000000000\",\"2022-01-01T00:00:00.000000000\",\"2022-02-01T00:00:00.000000000\",\"2022-03-01T00:00:00.000000000\",\"2022-04-01T00:00:00.000000000\",\"2022-05-01T00:00:00.000000000\",\"2022-06-01T00:00:00.000000000\",\"2022-07-01T00:00:00.000000000\",\"2022-08-01T00:00:00.000000000\",\"2022-09-01T00:00:00.000000000\",\"2022-10-01T00:00:00.000000000\",\"2022-11-01T00:00:00.000000000\",\"2022-12-01T00:00:00.000000000\",\"2023-01-01T00:00:00.000000000\",\"2023-02-01T00:00:00.000000000\",\"2023-03-01T00:00:00.000000000\",\"2023-04-01T00:00:00.000000000\",\"2023-05-01T00:00:00.000000000\",\"2023-06-01T00:00:00.000000000\",\"2023-07-01T00:00:00.000000000\",\"2023-08-01T00:00:00.000000000\",\"2023-09-01T00:00:00.000000000\",\"2023-10-01T00:00:00.000000000\",\"2023-11-01T00:00:00.000000000\",\"2023-12-01T00:00:00.000000000\",\"2024-01-01T00:00:00.000000000\",\"2024-02-01T00:00:00.000000000\",\"2024-03-01T00:00:00.000000000\",\"2024-04-01T00:00:00.000000000\",\"2024-05-01T00:00:00.000000000\",\"2024-06-01T00:00:00.000000000\",\"2024-07-01T00:00:00.000000000\",\"2024-08-01T00:00:00.000000000\",\"2024-09-01T00:00:00.000000000\",\"2024-10-01T00:00:00.000000000\",\"2024-11-01T00:00:00.000000000\",\"2024-12-01T00:00:00.000000000\",\"2025-01-01T00:00:00.000000000\"],\"y\":{\"dtype\":\"f8\",\"bdata\":\"\\u002f\\u002f\\u002f\\u002f\\u002f\\u002f\\u002f\\u002f3z+qTFjoerbrPwAAAAAAAPA\\u002fq0xY6Hq26z\\u002f\\u002f\\u002f\\u002f\\u002f\\u002f\\u002f\\u002f\\u002ffPwdcFDMmpqE8AQAAAAAA4L+pTFjoerbrvwAAAAAAAPC\\u002fqkxY6Hq2678EAAAAAADgvwdcFDMmprG8\\u002f\\u002f\\u002f\\u002f\\u002f\\u002f\\u002f\\u002f3z+qTFjoerbrPwAAAAAAAPA\\u002fq0xY6Hq26z\\u002f\\u002f\\u002f\\u002f\\u002f\\u002f\\u002f\\u002f\\u002ffPwdcFDMmpqE8AQAAAAAA4L+pTFjoerbrvwAAAAAAAPC\\u002fqkxY6Hq2678EAAAAAADgvwdcFDMmprG8\\u002f\\u002f\\u002f\\u002f\\u002f\\u002f\\u002f\\u002f3z+qTFjoerbrPwAAAAAAAPA\\u002fq0xY6Hq26z\\u002f\\u002f\\u002f\\u002f\\u002f\\u002f\\u002f\\u002f\\u002ffPwdcFDMmpqE8AQAAAAAA4L+pTFjoerbrvwAAAAAAAPC\\u002fqkxY6Hq2678EAAAAAADgvwdcFDMmprG8\\u002f\\u002f\\u002f\\u002f\\u002f\\u002f\\u002f\\u002f3z+qTFjoerbrPwAAAAAAAPA\\u002fq0xY6Hq26z\\u002f\\u002f\\u002f\\u002f\\u002f\\u002f\\u002f\\u002f\\u002ffPwdcFDMmpqE8AQAAAAAA4L+pTFjoerbrvwAAAAAAAPC\\u002fqkxY6Hq2678EAAAAAADgvwdcFDMmprG8\\u002f\\u002f\\u002f\\u002f\\u002f\\u002f\\u002f\\u002f3z+qTFjoerbrPwAAAAAAAPA\\u002fq0xY6Hq26z\\u002f\\u002f\\u002f\\u002f\\u002f\\u002f\\u002f\\u002f\\u002ffPwdcFDMmpqE8AQAAAAAA4L+pTFjoerbrvwAAAAAAAPC\\u002fqkxY6Hq2678EAAAAAADgvwdcFDMmprG8\\u002f\\u002f\\u002f\\u002f\\u002f\\u002f\\u002f\\u002f3z+qTFjoerbrPwAAAAAAAPA\\u002fq0xY6Hq26z\\u002f\\u002f\\u002f\\u002f\\u002f\\u002f\\u002f\\u002f\\u002ffPwdcFDMmpqE8AQAAAAAA4L+pTFjoerbrvwAAAAAAAPC\\u002fqkxY6Hq2678EAAAAAADgvwdcFDMmprG8\\u002f\\u002f\\u002f\\u002f\\u002f\\u002f\\u002f\\u002f3z+qTFjoerbrPwAAAAAAAPA\\u002fq0xY6Hq26z\\u002f\\u002f\\u002f\\u002f\\u002f\\u002f\\u002f\\u002f\\u002ffPwdcFDMmpqE8AQAAAAAA4L+pTFjoerbrvwAAAAAAAPC\\u002fqkxY6Hq2678EAAAAAADgvwdcFDMmprG8\\u002f\\u002f\\u002f\\u002f\\u002f\\u002f\\u002f\\u002f3z+qTFjoerbrPwAAAAAAAPA\\u002fq0xY6Hq26z\\u002f\\u002f\\u002f\\u002f\\u002f\\u002f\\u002f\\u002f\\u002ffPwdcFDMmpqE8AQAAAAAA4L+pTFjoerbrvwAAAAAAAPC\\u002fqkxY6Hq2678EAAAAAADgvwdcFDMmprG8\\u002f\\u002f\\u002f\\u002f\\u002f\\u002f\\u002f\\u002f3z+qTFjoerbrPwAAAAAAAPA\\u002fq0xY6Hq26z\\u002f\\u002f\\u002f\\u002f\\u002f\\u002f\\u002f\\u002f\\u002ffPwdcFDMmpqE8AQAAAAAA4L+pTFjoerbrvwAAAAAAAPC\\u002fqkxY6Hq2678EAAAAAADgvwdcFDMmprG8\\u002f\\u002f\\u002f\\u002f\\u002f\\u002f\\u002f\\u002f3z+qTFjoerbrPwAAAAAAAPA\\u002fq0xY6Hq26z\\u002f\\u002f\\u002f\\u002f\\u002f\\u002f\\u002f\\u002f\\u002ffPwdcFDMmpqE8AQAAAAAA4L+pTFjoerbrvwAAAAAAAPC\\u002fqkxY6Hq2678EAAAAAADgvwdcFDMmprG8\\u002f\\u002f\\u002f\\u002f\\u002f\\u002f\\u002f\\u002f3z+qTFjoerbrPwAAAAAAAPA\\u002fq0xY6Hq26z\\u002f\\u002f\\u002f\\u002f\\u002f\\u002f\\u002f\\u002f\\u002ffPwdcFDMmpqE8AQAAAAAA4L+pTFjoerbrvwAAAAAAAPC\\u002fqkxY6Hq2678EAAAAAADgvwdcFDMmprG8\\u002f\\u002f\\u002f\\u002f\\u002f\\u002f\\u002f\\u002f3z8=\"},\"type\":\"scatter\"},{\"mode\":\"lines\",\"name\":\"Cosine\",\"x\":[\"2014-01-01T00:00:00.000000000\",\"2014-02-01T00:00:00.000000000\",\"2014-03-01T00:00:00.000000000\",\"2014-04-01T00:00:00.000000000\",\"2014-05-01T00:00:00.000000000\",\"2014-06-01T00:00:00.000000000\",\"2014-07-01T00:00:00.000000000\",\"2014-08-01T00:00:00.000000000\",\"2014-09-01T00:00:00.000000000\",\"2014-10-01T00:00:00.000000000\",\"2014-11-01T00:00:00.000000000\",\"2014-12-01T00:00:00.000000000\",\"2015-01-01T00:00:00.000000000\",\"2015-02-01T00:00:00.000000000\",\"2015-03-01T00:00:00.000000000\",\"2015-04-01T00:00:00.000000000\",\"2015-05-01T00:00:00.000000000\",\"2015-06-01T00:00:00.000000000\",\"2015-07-01T00:00:00.000000000\",\"2015-08-01T00:00:00.000000000\",\"2015-09-01T00:00:00.000000000\",\"2015-10-01T00:00:00.000000000\",\"2015-11-01T00:00:00.000000000\",\"2015-12-01T00:00:00.000000000\",\"2016-01-01T00:00:00.000000000\",\"2016-02-01T00:00:00.000000000\",\"2016-03-01T00:00:00.000000000\",\"2016-04-01T00:00:00.000000000\",\"2016-05-01T00:00:00.000000000\",\"2016-06-01T00:00:00.000000000\",\"2016-07-01T00:00:00.000000000\",\"2016-08-01T00:00:00.000000000\",\"2016-09-01T00:00:00.000000000\",\"2016-10-01T00:00:00.000000000\",\"2016-11-01T00:00:00.000000000\",\"2016-12-01T00:00:00.000000000\",\"2017-01-01T00:00:00.000000000\",\"2017-02-01T00:00:00.000000000\",\"2017-03-01T00:00:00.000000000\",\"2017-04-01T00:00:00.000000000\",\"2017-05-01T00:00:00.000000000\",\"2017-06-01T00:00:00.000000000\",\"2017-07-01T00:00:00.000000000\",\"2017-08-01T00:00:00.000000000\",\"2017-09-01T00:00:00.000000000\",\"2017-10-01T00:00:00.000000000\",\"2017-11-01T00:00:00.000000000\",\"2017-12-01T00:00:00.000000000\",\"2018-01-01T00:00:00.000000000\",\"2018-02-01T00:00:00.000000000\",\"2018-03-01T00:00:00.000000000\",\"2018-04-01T00:00:00.000000000\",\"2018-05-01T00:00:00.000000000\",\"2018-06-01T00:00:00.000000000\",\"2018-07-01T00:00:00.000000000\",\"2018-08-01T00:00:00.000000000\",\"2018-09-01T00:00:00.000000000\",\"2018-10-01T00:00:00.000000000\",\"2018-11-01T00:00:00.000000000\",\"2018-12-01T00:00:00.000000000\",\"2019-01-01T00:00:00.000000000\",\"2019-02-01T00:00:00.000000000\",\"2019-03-01T00:00:00.000000000\",\"2019-04-01T00:00:00.000000000\",\"2019-05-01T00:00:00.000000000\",\"2019-06-01T00:00:00.000000000\",\"2019-07-01T00:00:00.000000000\",\"2019-08-01T00:00:00.000000000\",\"2019-09-01T00:00:00.000000000\",\"2019-10-01T00:00:00.000000000\",\"2019-11-01T00:00:00.000000000\",\"2019-12-01T00:00:00.000000000\",\"2020-01-01T00:00:00.000000000\",\"2020-02-01T00:00:00.000000000\",\"2020-03-01T00:00:00.000000000\",\"2020-04-01T00:00:00.000000000\",\"2020-05-01T00:00:00.000000000\",\"2020-06-01T00:00:00.000000000\",\"2020-07-01T00:00:00.000000000\",\"2020-08-01T00:00:00.000000000\",\"2020-09-01T00:00:00.000000000\",\"2020-10-01T00:00:00.000000000\",\"2020-11-01T00:00:00.000000000\",\"2020-12-01T00:00:00.000000000\",\"2021-01-01T00:00:00.000000000\",\"2021-02-01T00:00:00.000000000\",\"2021-03-01T00:00:00.000000000\",\"2021-04-01T00:00:00.000000000\",\"2021-05-01T00:00:00.000000000\",\"2021-06-01T00:00:00.000000000\",\"2021-07-01T00:00:00.000000000\",\"2021-08-01T00:00:00.000000000\",\"2021-09-01T00:00:00.000000000\",\"2021-10-01T00:00:00.000000000\",\"2021-11-01T00:00:00.000000000\",\"2021-12-01T00:00:00.000000000\",\"2022-01-01T00:00:00.000000000\",\"2022-02-01T00:00:00.000000000\",\"2022-03-01T00:00:00.000000000\",\"2022-04-01T00:00:00.000000000\",\"2022-05-01T00:00:00.000000000\",\"2022-06-01T00:00:00.000000000\",\"2022-07-01T00:00:00.000000000\",\"2022-08-01T00:00:00.000000000\",\"2022-09-01T00:00:00.000000000\",\"2022-10-01T00:00:00.000000000\",\"2022-11-01T00:00:00.000000000\",\"2022-12-01T00:00:00.000000000\",\"2023-01-01T00:00:00.000000000\",\"2023-02-01T00:00:00.000000000\",\"2023-03-01T00:00:00.000000000\",\"2023-04-01T00:00:00.000000000\",\"2023-05-01T00:00:00.000000000\",\"2023-06-01T00:00:00.000000000\",\"2023-07-01T00:00:00.000000000\",\"2023-08-01T00:00:00.000000000\",\"2023-09-01T00:00:00.000000000\",\"2023-10-01T00:00:00.000000000\",\"2023-11-01T00:00:00.000000000\",\"2023-12-01T00:00:00.000000000\",\"2024-01-01T00:00:00.000000000\",\"2024-02-01T00:00:00.000000000\",\"2024-03-01T00:00:00.000000000\",\"2024-04-01T00:00:00.000000000\",\"2024-05-01T00:00:00.000000000\",\"2024-06-01T00:00:00.000000000\",\"2024-07-01T00:00:00.000000000\",\"2024-08-01T00:00:00.000000000\",\"2024-09-01T00:00:00.000000000\",\"2024-10-01T00:00:00.000000000\",\"2024-11-01T00:00:00.000000000\",\"2024-12-01T00:00:00.000000000\",\"2025-01-01T00:00:00.000000000\"],\"y\":{\"dtype\":\"f8\",\"bdata\":\"q0xY6Hq26z8BAAAAAADgPwdcFDMmppE8\\u002fP\\u002f\\u002f\\u002f\\u002f\\u002f\\u002f37+rTFjoerbrvwAAAAAAAPC\\u002fqkxY6Hq2678EAAAAAADgvwqKnkw5eaq8AQAAAAAA4D+oTFjoerbrPwAAAAAAAPA\\u002fq0xY6Hq26z8BAAAAAADgPwdcFDMmppE8\\u002fP\\u002f\\u002f\\u002f\\u002f\\u002f\\u002f37+rTFjoerbrvwAAAAAAAPC\\u002fqkxY6Hq2678EAAAAAADgvwqKnkw5eaq8AQAAAAAA4D+oTFjoerbrPwAAAAAAAPA\\u002fq0xY6Hq26z8BAAAAAADgPwdcFDMmppE8\\u002fP\\u002f\\u002f\\u002f\\u002f\\u002f\\u002f37+rTFjoerbrvwAAAAAAAPC\\u002fqkxY6Hq2678EAAAAAADgvwqKnkw5eaq8AQAAAAAA4D+oTFjoerbrPwAAAAAAAPA\\u002fq0xY6Hq26z8BAAAAAADgPwdcFDMmppE8\\u002fP\\u002f\\u002f\\u002f\\u002f\\u002f\\u002f37+rTFjoerbrvwAAAAAAAPC\\u002fqkxY6Hq2678EAAAAAADgvwqKnkw5eaq8AQAAAAAA4D+oTFjoerbrPwAAAAAAAPA\\u002fq0xY6Hq26z8BAAAAAADgPwdcFDMmppE8\\u002fP\\u002f\\u002f\\u002f\\u002f\\u002f\\u002f37+rTFjoerbrvwAAAAAAAPC\\u002fqkxY6Hq2678EAAAAAADgvwqKnkw5eaq8AQAAAAAA4D+oTFjoerbrPwAAAAAAAPA\\u002fq0xY6Hq26z8BAAAAAADgPwdcFDMmppE8\\u002fP\\u002f\\u002f\\u002f\\u002f\\u002f\\u002f37+rTFjoerbrvwAAAAAAAPC\\u002fqkxY6Hq2678EAAAAAADgvwqKnkw5eaq8AQAAAAAA4D+oTFjoerbrPwAAAAAAAPA\\u002fq0xY6Hq26z8BAAAAAADgPwdcFDMmppE8\\u002fP\\u002f\\u002f\\u002f\\u002f\\u002f\\u002f37+rTFjoerbrvwAAAAAAAPC\\u002fqkxY6Hq2678EAAAAAADgvwqKnkw5eaq8AQAAAAAA4D+oTFjoerbrPwAAAAAAAPA\\u002fq0xY6Hq26z8BAAAAAADgPwdcFDMmppE8\\u002fP\\u002f\\u002f\\u002f\\u002f\\u002f\\u002f37+rTFjoerbrvwAAAAAAAPC\\u002fqkxY6Hq2678EAAAAAADgvwqKnkw5eaq8AQAAAAAA4D+oTFjoerbrPwAAAAAAAPA\\u002fq0xY6Hq26z8BAAAAAADgPwdcFDMmppE8\\u002fP\\u002f\\u002f\\u002f\\u002f\\u002f\\u002f37+rTFjoerbrvwAAAAAAAPC\\u002fqkxY6Hq2678EAAAAAADgvwqKnkw5eaq8AQAAAAAA4D+oTFjoerbrPwAAAAAAAPA\\u002fq0xY6Hq26z8BAAAAAADgPwdcFDMmppE8\\u002fP\\u002f\\u002f\\u002f\\u002f\\u002f\\u002f37+rTFjoerbrvwAAAAAAAPC\\u002fqkxY6Hq2678EAAAAAADgvwqKnkw5eaq8AQAAAAAA4D+oTFjoerbrPwAAAAAAAPA\\u002fq0xY6Hq26z8BAAAAAADgPwdcFDMmppE8\\u002fP\\u002f\\u002f\\u002f\\u002f\\u002f\\u002f37+rTFjoerbrvwAAAAAAAPC\\u002fqkxY6Hq2678EAAAAAADgvwqKnkw5eaq8AQAAAAAA4D+oTFjoerbrPwAAAAAAAPA\\u002fq0xY6Hq26z8=\"},\"type\":\"scatter\"}],                        {\"template\":{\"data\":{\"barpolar\":[{\"marker\":{\"line\":{\"color\":\"white\",\"width\":0.5},\"pattern\":{\"fillmode\":\"overlay\",\"size\":10,\"solidity\":0.2}},\"type\":\"barpolar\"}],\"bar\":[{\"error_x\":{\"color\":\"#2a3f5f\"},\"error_y\":{\"color\":\"#2a3f5f\"},\"marker\":{\"line\":{\"color\":\"white\",\"width\":0.5},\"pattern\":{\"fillmode\":\"overlay\",\"size\":10,\"solidity\":0.2}},\"type\":\"bar\"}],\"carpet\":[{\"aaxis\":{\"endlinecolor\":\"#2a3f5f\",\"gridcolor\":\"#C8D4E3\",\"linecolor\":\"#C8D4E3\",\"minorgridcolor\":\"#C8D4E3\",\"startlinecolor\":\"#2a3f5f\"},\"baxis\":{\"endlinecolor\":\"#2a3f5f\",\"gridcolor\":\"#C8D4E3\",\"linecolor\":\"#C8D4E3\",\"minorgridcolor\":\"#C8D4E3\",\"startlinecolor\":\"#2a3f5f\"},\"type\":\"carpet\"}],\"choropleth\":[{\"colorbar\":{\"outlinewidth\":0,\"ticks\":\"\"},\"type\":\"choropleth\"}],\"contourcarpet\":[{\"colorbar\":{\"outlinewidth\":0,\"ticks\":\"\"},\"type\":\"contourcarpet\"}],\"contour\":[{\"colorbar\":{\"outlinewidth\":0,\"ticks\":\"\"},\"colorscale\":[[0.0,\"#0d0887\"],[0.1111111111111111,\"#46039f\"],[0.2222222222222222,\"#7201a8\"],[0.3333333333333333,\"#9c179e\"],[0.4444444444444444,\"#bd3786\"],[0.5555555555555556,\"#d8576b\"],[0.6666666666666666,\"#ed7953\"],[0.7777777777777778,\"#fb9f3a\"],[0.8888888888888888,\"#fdca26\"],[1.0,\"#f0f921\"]],\"type\":\"contour\"}],\"heatmap\":[{\"colorbar\":{\"outlinewidth\":0,\"ticks\":\"\"},\"colorscale\":[[0.0,\"#0d0887\"],[0.1111111111111111,\"#46039f\"],[0.2222222222222222,\"#7201a8\"],[0.3333333333333333,\"#9c179e\"],[0.4444444444444444,\"#bd3786\"],[0.5555555555555556,\"#d8576b\"],[0.6666666666666666,\"#ed7953\"],[0.7777777777777778,\"#fb9f3a\"],[0.8888888888888888,\"#fdca26\"],[1.0,\"#f0f921\"]],\"type\":\"heatmap\"}],\"histogram2dcontour\":[{\"colorbar\":{\"outlinewidth\":0,\"ticks\":\"\"},\"colorscale\":[[0.0,\"#0d0887\"],[0.1111111111111111,\"#46039f\"],[0.2222222222222222,\"#7201a8\"],[0.3333333333333333,\"#9c179e\"],[0.4444444444444444,\"#bd3786\"],[0.5555555555555556,\"#d8576b\"],[0.6666666666666666,\"#ed7953\"],[0.7777777777777778,\"#fb9f3a\"],[0.8888888888888888,\"#fdca26\"],[1.0,\"#f0f921\"]],\"type\":\"histogram2dcontour\"}],\"histogram2d\":[{\"colorbar\":{\"outlinewidth\":0,\"ticks\":\"\"},\"colorscale\":[[0.0,\"#0d0887\"],[0.1111111111111111,\"#46039f\"],[0.2222222222222222,\"#7201a8\"],[0.3333333333333333,\"#9c179e\"],[0.4444444444444444,\"#bd3786\"],[0.5555555555555556,\"#d8576b\"],[0.6666666666666666,\"#ed7953\"],[0.7777777777777778,\"#fb9f3a\"],[0.8888888888888888,\"#fdca26\"],[1.0,\"#f0f921\"]],\"type\":\"histogram2d\"}],\"histogram\":[{\"marker\":{\"pattern\":{\"fillmode\":\"overlay\",\"size\":10,\"solidity\":0.2}},\"type\":\"histogram\"}],\"mesh3d\":[{\"colorbar\":{\"outlinewidth\":0,\"ticks\":\"\"},\"type\":\"mesh3d\"}],\"parcoords\":[{\"line\":{\"colorbar\":{\"outlinewidth\":0,\"ticks\":\"\"}},\"type\":\"parcoords\"}],\"pie\":[{\"automargin\":true,\"type\":\"pie\"}],\"scatter3d\":[{\"line\":{\"colorbar\":{\"outlinewidth\":0,\"ticks\":\"\"}},\"marker\":{\"colorbar\":{\"outlinewidth\":0,\"ticks\":\"\"}},\"type\":\"scatter3d\"}],\"scattercarpet\":[{\"marker\":{\"colorbar\":{\"outlinewidth\":0,\"ticks\":\"\"}},\"type\":\"scattercarpet\"}],\"scattergeo\":[{\"marker\":{\"colorbar\":{\"outlinewidth\":0,\"ticks\":\"\"}},\"type\":\"scattergeo\"}],\"scattergl\":[{\"marker\":{\"colorbar\":{\"outlinewidth\":0,\"ticks\":\"\"}},\"type\":\"scattergl\"}],\"scattermapbox\":[{\"marker\":{\"colorbar\":{\"outlinewidth\":0,\"ticks\":\"\"}},\"type\":\"scattermapbox\"}],\"scattermap\":[{\"marker\":{\"colorbar\":{\"outlinewidth\":0,\"ticks\":\"\"}},\"type\":\"scattermap\"}],\"scatterpolargl\":[{\"marker\":{\"colorbar\":{\"outlinewidth\":0,\"ticks\":\"\"}},\"type\":\"scatterpolargl\"}],\"scatterpolar\":[{\"marker\":{\"colorbar\":{\"outlinewidth\":0,\"ticks\":\"\"}},\"type\":\"scatterpolar\"}],\"scatter\":[{\"fillpattern\":{\"fillmode\":\"overlay\",\"size\":10,\"solidity\":0.2},\"type\":\"scatter\"}],\"scatterternary\":[{\"marker\":{\"colorbar\":{\"outlinewidth\":0,\"ticks\":\"\"}},\"type\":\"scatterternary\"}],\"surface\":[{\"colorbar\":{\"outlinewidth\":0,\"ticks\":\"\"},\"colorscale\":[[0.0,\"#0d0887\"],[0.1111111111111111,\"#46039f\"],[0.2222222222222222,\"#7201a8\"],[0.3333333333333333,\"#9c179e\"],[0.4444444444444444,\"#bd3786\"],[0.5555555555555556,\"#d8576b\"],[0.6666666666666666,\"#ed7953\"],[0.7777777777777778,\"#fb9f3a\"],[0.8888888888888888,\"#fdca26\"],[1.0,\"#f0f921\"]],\"type\":\"surface\"}],\"table\":[{\"cells\":{\"fill\":{\"color\":\"#EBF0F8\"},\"line\":{\"color\":\"white\"}},\"header\":{\"fill\":{\"color\":\"#C8D4E3\"},\"line\":{\"color\":\"white\"}},\"type\":\"table\"}]},\"layout\":{\"annotationdefaults\":{\"arrowcolor\":\"#2a3f5f\",\"arrowhead\":0,\"arrowwidth\":1},\"autotypenumbers\":\"strict\",\"coloraxis\":{\"colorbar\":{\"outlinewidth\":0,\"ticks\":\"\"}},\"colorscale\":{\"diverging\":[[0,\"#8e0152\"],[0.1,\"#c51b7d\"],[0.2,\"#de77ae\"],[0.3,\"#f1b6da\"],[0.4,\"#fde0ef\"],[0.5,\"#f7f7f7\"],[0.6,\"#e6f5d0\"],[0.7,\"#b8e186\"],[0.8,\"#7fbc41\"],[0.9,\"#4d9221\"],[1,\"#276419\"]],\"sequential\":[[0.0,\"#0d0887\"],[0.1111111111111111,\"#46039f\"],[0.2222222222222222,\"#7201a8\"],[0.3333333333333333,\"#9c179e\"],[0.4444444444444444,\"#bd3786\"],[0.5555555555555556,\"#d8576b\"],[0.6666666666666666,\"#ed7953\"],[0.7777777777777778,\"#fb9f3a\"],[0.8888888888888888,\"#fdca26\"],[1.0,\"#f0f921\"]],\"sequentialminus\":[[0.0,\"#0d0887\"],[0.1111111111111111,\"#46039f\"],[0.2222222222222222,\"#7201a8\"],[0.3333333333333333,\"#9c179e\"],[0.4444444444444444,\"#bd3786\"],[0.5555555555555556,\"#d8576b\"],[0.6666666666666666,\"#ed7953\"],[0.7777777777777778,\"#fb9f3a\"],[0.8888888888888888,\"#fdca26\"],[1.0,\"#f0f921\"]]},\"colorway\":[\"#636efa\",\"#EF553B\",\"#00cc96\",\"#ab63fa\",\"#FFA15A\",\"#19d3f3\",\"#FF6692\",\"#B6E880\",\"#FF97FF\",\"#FECB52\"],\"font\":{\"color\":\"#2a3f5f\"},\"geo\":{\"bgcolor\":\"white\",\"lakecolor\":\"white\",\"landcolor\":\"white\",\"showlakes\":true,\"showland\":true,\"subunitcolor\":\"#C8D4E3\"},\"hoverlabel\":{\"align\":\"left\"},\"hovermode\":\"closest\",\"mapbox\":{\"style\":\"light\"},\"paper_bgcolor\":\"white\",\"plot_bgcolor\":\"white\",\"polar\":{\"angularaxis\":{\"gridcolor\":\"#EBF0F8\",\"linecolor\":\"#EBF0F8\",\"ticks\":\"\"},\"bgcolor\":\"white\",\"radialaxis\":{\"gridcolor\":\"#EBF0F8\",\"linecolor\":\"#EBF0F8\",\"ticks\":\"\"}},\"scene\":{\"xaxis\":{\"backgroundcolor\":\"white\",\"gridcolor\":\"#DFE8F3\",\"gridwidth\":2,\"linecolor\":\"#EBF0F8\",\"showbackground\":true,\"ticks\":\"\",\"zerolinecolor\":\"#EBF0F8\"},\"yaxis\":{\"backgroundcolor\":\"white\",\"gridcolor\":\"#DFE8F3\",\"gridwidth\":2,\"linecolor\":\"#EBF0F8\",\"showbackground\":true,\"ticks\":\"\",\"zerolinecolor\":\"#EBF0F8\"},\"zaxis\":{\"backgroundcolor\":\"white\",\"gridcolor\":\"#DFE8F3\",\"gridwidth\":2,\"linecolor\":\"#EBF0F8\",\"showbackground\":true,\"ticks\":\"\",\"zerolinecolor\":\"#EBF0F8\"}},\"shapedefaults\":{\"line\":{\"color\":\"#2a3f5f\"}},\"ternary\":{\"aaxis\":{\"gridcolor\":\"#DFE8F3\",\"linecolor\":\"#A2B1C6\",\"ticks\":\"\"},\"baxis\":{\"gridcolor\":\"#DFE8F3\",\"linecolor\":\"#A2B1C6\",\"ticks\":\"\"},\"bgcolor\":\"white\",\"caxis\":{\"gridcolor\":\"#DFE8F3\",\"linecolor\":\"#A2B1C6\",\"ticks\":\"\"}},\"title\":{\"x\":0.05},\"xaxis\":{\"automargin\":true,\"gridcolor\":\"#EBF0F8\",\"linecolor\":\"#EBF0F8\",\"ticks\":\"\",\"title\":{\"standoff\":15},\"zerolinecolor\":\"#EBF0F8\",\"zerolinewidth\":2},\"yaxis\":{\"automargin\":true,\"gridcolor\":\"#EBF0F8\",\"linecolor\":\"#EBF0F8\",\"ticks\":\"\",\"title\":{\"standoff\":15},\"zerolinecolor\":\"#EBF0F8\",\"zerolinewidth\":2}}},\"title\":{\"text\":\"Trigonometric functions of Romania's Inland Gas Consumption\",\"x\":0.5},\"xaxis\":{\"title\":{\"text\":\"Date\"}},\"yaxis\":{\"title\":{\"text\":\"\"}}},                        {\"responsive\": true}                    ).then(function(){\n",
       "                            \n",
       "var gd = document.getElementById('c7d128ec-1c21-4793-b7f7-9cdf053f0e98');\n",
       "var x = new MutationObserver(function (mutations, observer) {{\n",
       "        var display = window.getComputedStyle(gd).display;\n",
       "        if (!display || display === 'none') {{\n",
       "            console.log([gd, 'removed!']);\n",
       "            Plotly.purge(gd);\n",
       "            observer.disconnect();\n",
       "        }}\n",
       "}});\n",
       "\n",
       "// Listen for the removal of the full notebook cells\n",
       "var notebookContainer = gd.closest('#notebook-container');\n",
       "if (notebookContainer) {{\n",
       "    x.observe(notebookContainer, {childList: true});\n",
       "}}\n",
       "\n",
       "// Listen for the clearing of the current output cell\n",
       "var outputEl = gd.closest('.output');\n",
       "if (outputEl) {{\n",
       "    x.observe(outputEl, {childList: true});\n",
       "}}\n",
       "\n",
       "                        })                };            </script>        </div>"
      ]
     },
     "metadata": {},
     "output_type": "display_data"
    }
   ],
   "source": [
    "fig = go.Figure()\n",
    "\n",
    "fig.add_trace(go.Scatter(x=trig_df.index,\n",
    "                         y=trig_df['Cons_sin'],\n",
    "                         mode='lines',\n",
    "                         name='Sine')\n",
    "                         )\n",
    "\n",
    "\n",
    "fig.add_trace(go.Scatter(x=trig_df.index,\n",
    "                         y=trig_df['Cons_cos'],\n",
    "                         mode='lines',\n",
    "                         name='Cosine')\n",
    "                         )\n",
    "\n",
    "fig.update_layout(title=\"Trigonometric functions of Romania's Inland Gas Consumption\",\n",
    "                  xaxis_title='Date',\n",
    "                  title_x = 0.5,\n",
    "                  yaxis_title='',\n",
    "                  template='plotly_white')\n",
    "            \n",
    "fig.show()"
   ]
  },
  {
   "cell_type": "code",
   "execution_count": 14,
   "metadata": {},
   "outputs": [
    {
     "data": {
      "image/png": "[encoded data removed]",
      "text/plain": [
       "<Figure size 700x500 with 2 Axes>"
      ]
     },
     "metadata": {},
     "output_type": "display_data"
    }
   ],
   "source": [
    "fig, ax = plt.subplots(figsize=(7, 5))\n",
    "sp = ax.scatter(trig_df[\"Cons_sin\"], trig_df[\"Cons_cos\"], c=trig_df[\"month\"])\n",
    "ax.set(\n",
    "    xlabel=\"sin(month)\",\n",
    "    ylabel=\"cos(month)\",\n",
    ")\n",
    "_ = fig.colorbar(sp)"
   ]
  },
  {
   "cell_type": "code",
   "execution_count": 15,
   "metadata": {},
   "outputs": [
    {
     "name": "stdout",
     "output_type": "stream",
     "text": [
      "Test Statistic: -3.235515738486232\n",
      "P-value: 0.8246472790397906\n",
      "Critical Values: {'1%': np.float64(-5.27644), '5%': np.float64(-4.81067), '10%': np.float64(-4.56618)}\n",
      "Break Point: 13\n"
     ]
    }
   ],
   "source": [
    "# Ziwot andrews test on raw data\n",
    "from statsmodels.tsa.stattools import zivot_andrews\n",
    "\n",
    "za_result = zivot_andrews(data['Inland Consumption'], trim=0.15)\n",
    "print(f\"Test Statistic: {za_result[0]}\")\n",
    "print(f\"P-value: {za_result[1]}\")\n",
    "print(f\"Critical Values: {za_result[2]}\")\n",
    "print(f\"Break Point: {za_result[3]}\")"
   ]
  },
  {
   "cell_type": "code",
   "execution_count": 16,
   "metadata": {},
   "outputs": [
    {
     "name": "stdout",
     "output_type": "stream",
     "text": [
      "Test Statistic: -3.744527601861898\n",
      "P-value: 0.5168644676465869\n",
      "Critical Values: {'1%': np.float64(-5.27644), '5%': np.float64(-4.81067), '10%': np.float64(-4.56618)}\n",
      "Break Point: 13\n"
     ]
    }
   ],
   "source": [
    "# Ziwot andrews test on trend of decomposed seasonal data\n",
    "za_result_trend = zivot_andrews(trend, trim=0.15)\n",
    "print(f\"Test Statistic: {za_result_trend[0]}\")\n",
    "print(f\"P-value: {za_result_trend[1]}\")\n",
    "print(f\"Critical Values: {za_result_trend[2]}\")\n",
    "print(f\"Break Point: {za_result_trend[3]}\")"
   ]
  },
  {
   "cell_type": "code",
   "execution_count": 30,
   "metadata": {},
   "outputs": [
    {
     "name": "stdout",
     "output_type": "stream",
     "text": [
      "Breakpoints in raw data: [95, 100, 105, 110, 130, 133]\n"
     ]
    },
    {
     "data": {
      "image/png": "[encoded data removed]",
      "text/plain": [
       "<Figure size 1000x200 with 1 Axes>"
      ]
     },
     "metadata": {},
     "output_type": "display_data"
    },
    {
     "name": "stdout",
     "output_type": "stream",
     "text": [
      "Breakpoints in trend data: [10, 30, 60, 95, 100, 133]\n"
     ]
    },
    {
     "data": {
      "image/png": "[encoded data removed]",
      "text/plain": [
       "<Figure size 1000x200 with 1 Axes>"
      ]
     },
     "metadata": {},
     "output_type": "display_data"
    }
   ],
   "source": [
    "import ruptures as rpt\n",
    "import matplotlib.pyplot as plt\n",
    "\n",
    "# Assuming 'data' is your DataFrame and 'Inland Consumption' is the column of interest\n",
    "series = data['Inland Consumption'].values\n",
    "\n",
    "# Perform the Bai-Perron test\n",
    "model = \"l2\"  # Model for the cost function\n",
    "algo = rpt.Binseg(model=model).fit(series)\n",
    "result = algo.predict(n_bkps=5)  # Number of breakpoints to detect\n",
    "\n",
    "# Display results\n",
    "print(f\"Breakpoints in raw data: {result}\")\n",
    "\n",
    "# Plot the results\n",
    "rpt.display(series, result)\n",
    "plt.title(\"Bai-Perron Test: Detected Breakpoints in Raw Data\")\n",
    "plt.show()\n",
    "\n",
    "series_trend = trend.values\n",
    "\n",
    "# Perform the Bai-Perron test\n",
    "model = \"l2\"  # Model for the cost function\n",
    "algo = rpt.Binseg(model=model).fit(series_trend)\n",
    "result = algo.predict(n_bkps=5)  # Number of breakpoints to detect\n",
    "\n",
    "# Display results\n",
    "print(f\"Breakpoints in trend data: {result}\")\n",
    "\n",
    "# Plot the results\n",
    "rpt.display(series_trend, result)\n",
    "plt.title(\"Bai-Perron Test: Detected Breakpoints in trend data\")\n",
    "plt.show()\n"
   ]
  },
  {
   "cell_type": "code",
   "execution_count": 19,
   "metadata": {},
   "outputs": [
    {
     "name": "stdout",
     "output_type": "stream",
     "text": [
      "                Cons_sin      Cons_cos  COVID-19  European Energy Crisis  \\\n",
      "2014-01-01  5.000000e-01  8.660254e-01         0                       0   \n",
      "2014-02-01  8.660254e-01  5.000000e-01         0                       0   \n",
      "2014-03-01  1.000000e+00  6.123234e-17         0                       0   \n",
      "2014-04-01  8.660254e-01 -5.000000e-01         0                       0   \n",
      "2014-05-01  5.000000e-01 -8.660254e-01         0                       0   \n",
      "...                  ...           ...       ...                     ...   \n",
      "2024-09-01 -1.000000e+00 -1.836970e-16         0                       0   \n",
      "2024-10-01 -8.660254e-01  5.000000e-01         0                       0   \n",
      "2024-11-01 -5.000000e-01  8.660254e-01         0                       0   \n",
      "2024-12-01 -2.449294e-16  1.000000e+00         0                       0   \n",
      "2025-01-01  5.000000e-01  8.660254e-01         0                       0   \n",
      "\n",
      "            Russian-Ukraine Conflict       Date  \n",
      "2014-01-01                         0 2014-01-01  \n",
      "2014-02-01                         0 2014-02-01  \n",
      "2014-03-01                         0 2014-03-01  \n",
      "2014-04-01                         0 2014-04-01  \n",
      "2014-05-01                         0 2014-05-01  \n",
      "...                              ...        ...  \n",
      "2024-09-01                         1 2024-09-01  \n",
      "2024-10-01                         1 2024-10-01  \n",
      "2024-11-01                         1 2024-11-01  \n",
      "2024-12-01                         1 2024-12-01  \n",
      "2025-01-01                         1 2025-01-01  \n",
      "\n",
      "[133 rows x 6 columns]\n"
     ]
    }
   ],
   "source": [
    "exog = pd.concat([trig_df, crisis_events], axis=1)\n",
    "exog = exog.drop(columns=['month'])\n",
    "exog['Date'] = exog.index\n",
    "\n",
    "print(exog)"
   ]
  },
  {
   "cell_type": "code",
   "execution_count": 21,
   "metadata": {},
   "outputs": [],
   "source": [
    "exog.to_csv('d:/#Programare/Py VSC/LightGBM/Data/exog_data.csv')"
   ]
  },
  {
   "cell_type": "code",
   "execution_count": null,
   "metadata": {},
   "outputs": [],
   "source": []
  }
 ],
 "metadata": {
  "kernelspec": {
   "display_name": "lightgbm-icbe2025",
   "language": "python",
   "name": "python3"
  },
  "language_info": {
   "codemirror_mode": {
    "name": "ipython",
    "version": 3
   },
   "file_extension": ".py",
   "mimetype": "text/x-python",
   "name": "python",
   "nbconvert_exporter": "python",
   "pygments_lexer": "ipython3",
   "version": "3.13.2"
  }
 },
 "nbformat": 4,
 "nbformat_minor": 2
}
